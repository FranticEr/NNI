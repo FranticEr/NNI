{
 "cells": [
  {
   "cell_type": "code",
   "execution_count": 3,
   "metadata": {},
   "outputs": [],
   "source": [
    "import project.model.test\n",
    "import project.test"
   ]
  },
  {
   "cell_type": "markdown",
   "metadata": {},
   "source": [
    "# 主要过程\n",
    "EEG\n",
    "1. 1-40Hz滤波\n",
    "2. 小波变换，短时傅里叶变换\n",
    "3. 归一化/标准化"
   ]
  },
  {
   "cell_type": "markdown",
   "metadata": {},
   "source": [
    "# 模块\n",
    "1. 目录模块\n",
    "2. 滤波模块\n",
    "3. 小波变换模块\n",
    "4. 短时傅里叶模块\n",
    "5. 抽$\\delta,\\alpha,\\beta,\\theta,\\gamma$波模块"
   ]
  }
 ],
 "metadata": {
  "kernelspec": {
   "display_name": "nni",
   "language": "python",
   "name": "python3"
  },
  "language_info": {
   "codemirror_mode": {
    "name": "ipython",
    "version": 3
   },
   "file_extension": ".py",
   "mimetype": "text/x-python",
   "name": "python",
   "nbconvert_exporter": "python",
   "pygments_lexer": "ipython3",
   "version": "3.10.13"
  }
 },
 "nbformat": 4,
 "nbformat_minor": 2
}
