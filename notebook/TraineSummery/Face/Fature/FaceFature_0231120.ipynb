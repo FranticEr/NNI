{
 "cells": [
  {
   "cell_type": "code",
   "execution_count": null,
   "metadata": {},
   "outputs": [],
   "source": []
  },
  {
   "cell_type": "markdown",
   "metadata": {},
   "source": [
    "# 路径"
   ]
  },
  {
   "cell_type": "code",
   "execution_count": null,
   "metadata": {},
   "outputs": [
    {
     "name": "stdout",
     "output_type": "stream",
     "text": [
      "D:\\project_meta\\NNproject\\NNI\n"
     ]
    }
   ],
   "source": [
    "def setProjectPath(projectPath):\n",
    "    import os\n",
    "    import sys\n",
    "    root=os.path.abspath(projectPath)\n",
    "    print(root)\n",
    "    sys.path.append(root)\n",
    "    os.environ[\"TORCH_HOME\"]=r\"E:\\Data\\torch-model\"\n",
    "    import warnings  \n",
    "    warnings.filterwarnings(\"ignore\", category=RuntimeWarning, module=\"mne\")\n",
    "\n",
    "projectPath=r'D:\\project_meta\\NNproject\\NNI'\n",
    "setProjectPath(projectPath)"
   ]
  },
  {
   "cell_type": "code",
   "execution_count": null,
   "metadata": {},
   "outputs": [
    {
     "name": "stdout",
     "output_type": "stream",
     "text": [
      "{'annotation_auto_folder': 'D:\\\\dataset\\\\driver_dataset\\\\DROZY\\\\DROZY\\\\annotations-auto',\n",
      " 'annotation_manual_folder': 'D:\\\\dataset\\\\driver_dataset\\\\DROZY\\\\DROZY\\\\annotations-manual',\n",
      " 'kinect_file': 'D:\\\\dataset\\\\driver_dataset\\\\DROZY\\\\DROZY\\\\kinect-intrinsics.yaml',\n",
      " 'kss_file': 'D:\\\\dataset\\\\driver_dataset\\\\DROZY\\\\DROZY\\\\KSS.txt',\n",
      " 'psg_folder': 'D:\\\\dataset\\\\driver_dataset\\\\DROZY\\\\DROZY\\\\psg',\n",
      " 'pvt_rt_folder': 'D:\\\\dataset\\\\driver_dataset\\\\DROZY\\\\DROZY\\\\pvt-rt',\n",
      " 'videos_folder': 'D:\\\\dataset\\\\driver_dataset\\\\DROZY\\\\DROZY\\\\videos_i8'}\n",
      "{'ECG_filted_folder': 'D:\\\\project_meta\\\\NNproject\\\\NNI\\\\output\\\\psg_filted\\\\ECG',\n",
      " 'ECG_table_file': 'D:\\\\project_meta\\\\NNproject\\\\NNI\\\\output\\\\ECG_table.csv',\n",
      " 'ECG_uniformfilted_folder': 'D:\\\\project_meta\\\\NNproject\\\\NNI\\\\output\\\\psg_filted\\\\ECG',\n",
      " 'EEG_filted_folder': 'D:\\\\project_meta\\\\NNproject\\\\NNI\\\\output\\\\psg_filted\\\\EEG',\n",
      " 'EEG_table_file': 'D:\\\\project_meta\\\\NNproject\\\\NNI\\\\output\\\\EEG_table.csv',\n",
      " 'EEG_uniformfilted_folder': 'D:\\\\project_meta\\\\NNproject\\\\NNI\\\\output\\\\psg_filted\\\\EEG',\n",
      " 'bandpower_file': 'D:\\\\project_meta\\\\NNproject\\\\NNI\\\\output\\\\bandpower.csv',\n",
      " 'cwt_folder': 'D:\\\\project_meta\\\\NNproject\\\\NNI\\\\output\\\\cwt',\n",
      " 'face_kss_frames_folder': 'D:\\\\project_meta\\\\NNproject\\\\NNI\\\\output\\\\video_frames\\\\face_kss_frames',\n",
      " 'face_level_frames_folder': 'D:\\\\project_meta\\\\NNproject\\\\NNI\\\\output\\\\video_frames\\\\face_level_frames',\n",
      " 'filted_folder': 'D:\\\\project_meta\\\\NNproject\\\\NNI\\\\output\\\\psg_filted',\n",
      " 'info_file': 'D:\\\\project_meta\\\\NNproject\\\\NNI\\\\output\\\\info.csv',\n",
      " 'kss_frames_folder': 'D:\\\\project_meta\\\\NNproject\\\\NNI\\\\output\\\\video_frames\\\\kss_frames',\n",
      " 'level_frames_folder': 'D:\\\\project_meta\\\\NNproject\\\\NNI\\\\output\\\\video_frames\\\\level_frames',\n",
      " 'nomalfilted_folder': 'D:\\\\project_meta\\\\NNproject\\\\NNI\\\\output\\\\psg_nomalfilted',\n",
      " 'noncross_file': 'D:\\\\project_meta\\\\NNproject\\\\NNI\\\\output\\\\noncross.csv',\n",
      " 'uniformbandpower_file': 'D:\\\\project_meta\\\\NNproject\\\\NNI\\\\output\\\\uniformbandpower.csv',\n",
      " 'uniformfilted_folder': 'D:\\\\project_meta\\\\NNproject\\\\NNI\\\\output\\\\psg_uniformfilted',\n",
      " 'video_frames_folder': 'D:\\\\project_meta\\\\NNproject\\\\NNI\\\\output\\\\video_frames',\n",
      " 'windowsTable': 'D:\\\\project_meta\\\\NNproject\\\\NNI\\\\output\\\\windowsTable.csv'}\n"
     ]
    }
   ],
   "source": [
    "import mne\n",
    "datasetFolder=r'D:\\dataset\\driver_dataset\\DROZY\\DROZY'\n",
    "outputFolder=r'D:\\project_meta\\NNproject\\NNI\\output'\n",
    "from project.dataprocess.FolderTree import *\n",
    "datasetDict=getDataPath(datasetFolder)\n",
    "outputDict=getOutPath(outputFolder)\n",
    "import pprint\n",
    "pprint.pprint(datasetDict)\n",
    "pprint.pprint(outputDict)"
   ]
  }
 ],
 "metadata": {
  "language_info": {
   "name": "python"
  }
 },
 "nbformat": 4,
 "nbformat_minor": 2
}
