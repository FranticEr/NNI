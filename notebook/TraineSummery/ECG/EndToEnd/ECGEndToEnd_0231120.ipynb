{
 "cells": [
  {
   "cell_type": "markdown",
   "metadata": {},
   "source": [
    "# 路径"
   ]
  },
  {
   "cell_type": "code",
   "execution_count": null,
   "metadata": {},
   "outputs": [],
   "source": [
    "def setProjectPath(projectPath):\n",
    "    import os\n",
    "    import sys\n",
    "    root=os.path.abspath(projectPath)\n",
    "    print(root)\n",
    "    sys.path.append(root)\n",
    "    os.environ[\"TORCH_HOME\"]=r\"E:\\Data\\torch-model\"\n",
    "    import warnings  \n",
    "    warnings.filterwarnings(\"ignore\", category=RuntimeWarning, module=\"mne\")\n",
    "\n",
    "projectPath=r'D:\\project_meta\\NNproject\\NNI'\n",
    "setProjectPath(projectPath)"
   ]
  },
  {
   "cell_type": "code",
   "execution_count": null,
   "metadata": {},
   "outputs": [],
   "source": [
    "import mne\n",
    "datasetFolder=r'D:\\dataset\\driver_dataset\\DROZY\\DROZY'\n",
    "outputFolder=r'D:\\project_meta\\NNproject\\NNI\\output'\n",
    "from project.dataprocess.FolderTree import *\n",
    "datasetDict=getDataPath(datasetFolder)\n",
    "outputDict=getOutPath(outputFolder)\n",
    "import pprint\n",
    "pprint.pprint(datasetDict)\n",
    "pprint.pprint(outputDict)"
   ]
  },
  {
   "cell_type": "code",
   "execution_count": null,
   "metadata": {},
   "outputs": [],
   "source": [
    "edfList=os.listdir(datasetDict['psg_folder'])\n",
    "print('number of edf file:',len(edfList))\n",
    "edfFullFilename=os.path.join(datasetDict['psg_folder'],edfList[0])\n",
    "print(edfFullFilename)"
   ]
  },
  {
   "cell_type": "markdown",
   "metadata": {},
   "source": [
    "# EEG数据集"
   ]
  }
 ],
 "metadata": {
  "kernelspec": {
   "display_name": "nni",
   "language": "python",
   "name": "python3"
  },
  "language_info": {
   "name": "python",
   "version": "3.10.13"
  }
 },
 "nbformat": 4,
 "nbformat_minor": 2
}
