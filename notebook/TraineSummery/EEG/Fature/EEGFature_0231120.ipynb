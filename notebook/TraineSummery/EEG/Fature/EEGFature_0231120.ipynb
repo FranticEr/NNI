{
 "cells": [
  {
   "cell_type": "code",
   "execution_count": null,
   "metadata": {},
   "outputs": [],
   "source": []
  },
  {
   "cell_type": "markdown",
   "metadata": {},
   "source": [
    "# 路径"
   ]
  },
  {
   "cell_type": "code",
   "execution_count": 1,
   "metadata": {},
   "outputs": [
    {
     "name": "stdout",
     "output_type": "stream",
     "text": [
      "D:\\project_meta\\NNproject\\NNI\n"
     ]
    }
   ],
   "source": [
    "def setProjectPath(projectPath):\n",
    "    import os\n",
    "    import sys\n",
    "    root=os.path.abspath(projectPath)\n",
    "    print(root)\n",
    "    sys.path.append(root)\n",
    "    os.environ[\"TORCH_HOME\"]=r\"E:\\Data\\torch-model\"\n",
    "    import warnings  \n",
    "    warnings.filterwarnings(\"ignore\", category=RuntimeWarning, module=\"mne\")\n",
    "\n",
    "projectPath=r'D:\\project_meta\\NNproject\\NNI'\n",
    "setProjectPath(projectPath)"
   ]
  },
  {
   "cell_type": "code",
   "execution_count": 2,
   "metadata": {},
   "outputs": [
    {
     "name": "stdout",
     "output_type": "stream",
     "text": [
      "{'annotation_auto_folder': 'D:\\\\dataset\\\\driver_dataset\\\\DROZY\\\\DROZY\\\\annotations-auto',\n",
      " 'annotation_manual_folder': 'D:\\\\dataset\\\\driver_dataset\\\\DROZY\\\\DROZY\\\\annotations-manual',\n",
      " 'kinect_file': 'D:\\\\dataset\\\\driver_dataset\\\\DROZY\\\\DROZY\\\\kinect-intrinsics.yaml',\n",
      " 'kss_file': 'D:\\\\dataset\\\\driver_dataset\\\\DROZY\\\\DROZY\\\\KSS.txt',\n",
      " 'psg_folder': 'D:\\\\dataset\\\\driver_dataset\\\\DROZY\\\\DROZY\\\\psg',\n",
      " 'pvt_rt_folder': 'D:\\\\dataset\\\\driver_dataset\\\\DROZY\\\\DROZY\\\\pvt-rt',\n",
      " 'videos_folder': 'D:\\\\dataset\\\\driver_dataset\\\\DROZY\\\\DROZY\\\\videos_i8'}\n",
      "{'ECG_filted_folder': 'D:\\\\project_meta\\\\NNproject\\\\NNI\\\\output\\\\psg_filted\\\\ECG',\n",
      " 'ECG_table_file': 'D:\\\\project_meta\\\\NNproject\\\\NNI\\\\output\\\\ECG_table.csv',\n",
      " 'ECG_uniformfilted_folder': 'D:\\\\project_meta\\\\NNproject\\\\NNI\\\\output\\\\psg_filted\\\\ECG',\n",
      " 'EEG_filted_folder': 'D:\\\\project_meta\\\\NNproject\\\\NNI\\\\output\\\\psg_filted\\\\EEG',\n",
      " 'EEG_table_file': 'D:\\\\project_meta\\\\NNproject\\\\NNI\\\\output\\\\EEG_table.csv',\n",
      " 'EEG_uniformfilted_folder': 'D:\\\\project_meta\\\\NNproject\\\\NNI\\\\output\\\\psg_filted\\\\EEG',\n",
      " 'bandpower_file': 'D:\\\\project_meta\\\\NNproject\\\\NNI\\\\output\\\\bandpower.csv',\n",
      " 'cwt_folder': 'D:\\\\project_meta\\\\NNproject\\\\NNI\\\\output\\\\cwt',\n",
      " 'face_kss_frames_folder': 'D:\\\\project_meta\\\\NNproject\\\\NNI\\\\output\\\\video_frames\\\\face_kss_frames',\n",
      " 'face_level_frames_folder': 'D:\\\\project_meta\\\\NNproject\\\\NNI\\\\output\\\\video_frames\\\\face_level_frames',\n",
      " 'filted_folder': 'D:\\\\project_meta\\\\NNproject\\\\NNI\\\\output\\\\psg_filted',\n",
      " 'info_file': 'D:\\\\project_meta\\\\NNproject\\\\NNI\\\\output\\\\info.csv',\n",
      " 'kss_frames_folder': 'D:\\\\project_meta\\\\NNproject\\\\NNI\\\\output\\\\video_frames\\\\kss_frames',\n",
      " 'level_frames_folder': 'D:\\\\project_meta\\\\NNproject\\\\NNI\\\\output\\\\video_frames\\\\level_frames',\n",
      " 'nomalfilted_folder': 'D:\\\\project_meta\\\\NNproject\\\\NNI\\\\output\\\\psg_nomalfilted',\n",
      " 'noncross_file': 'D:\\\\project_meta\\\\NNproject\\\\NNI\\\\output\\\\noncross.csv',\n",
      " 'uniformbandpower_file': 'D:\\\\project_meta\\\\NNproject\\\\NNI\\\\output\\\\uniformbandpower.csv',\n",
      " 'uniformfilted_folder': 'D:\\\\project_meta\\\\NNproject\\\\NNI\\\\output\\\\psg_uniformfilted',\n",
      " 'video_frames_folder': 'D:\\\\project_meta\\\\NNproject\\\\NNI\\\\output\\\\video_frames',\n",
      " 'windowsTable': 'D:\\\\project_meta\\\\NNproject\\\\NNI\\\\output\\\\windowsTable.csv'}\n"
     ]
    }
   ],
   "source": [
    "import mne\n",
    "datasetFolder=r'D:\\dataset\\driver_dataset\\DROZY\\DROZY'\n",
    "outputFolder=r'D:\\project_meta\\NNproject\\NNI\\output'\n",
    "from project.dataprocess.FolderTree import *\n",
    "datasetDict=getDataPath(datasetFolder)\n",
    "outputDict=getOutPath(outputFolder)\n",
    "import pprint\n",
    "pprint.pprint(datasetDict)\n",
    "pprint.pprint(outputDict)"
   ]
  },
  {
   "cell_type": "markdown",
   "metadata": {},
   "source": [
    "# 数据集"
   ]
  },
  {
   "cell_type": "markdown",
   "metadata": {},
   "source": [
    "getBand"
   ]
  },
  {
   "cell_type": "code",
   "execution_count": 3,
   "metadata": {},
   "outputs": [
    {
     "name": "stdout",
     "output_type": "stream",
     "text": [
      "Extracting EDF parameters from D:\\dataset\\driver_dataset\\DROZY\\DROZY\\psg\\1-1.edf...\n",
      "EDF file detected\n",
      "Setting channel info structure...\n",
      "Creating raw.info structure...\n",
      "Extracting EDF parameters from D:\\dataset\\driver_dataset\\DROZY\\DROZY\\psg\\1-2.edf...\n",
      "EDF file detected\n",
      "Setting channel info structure...\n",
      "Creating raw.info structure...\n",
      "Extracting EDF parameters from D:\\dataset\\driver_dataset\\DROZY\\DROZY\\psg\\1-3.edf...\n",
      "EDF file detected\n",
      "Setting channel info structure...\n"
     ]
    },
    {
     "name": "stderr",
     "output_type": "stream",
     "text": [
      "D:\\project_meta\\NNproject\\NNI\\project\\dataprocess\\SignalProcess.py:199: UserWarning: torch.range is deprecated and will be removed in a future release because its behavior is inconsistent with Python's range builtin. Instead, use torch.arange, which produces values in [start, end).\n",
      "  startIndex=torch.range(0,((len(y)-N_FFT)//HOP_LENGTH))*HOP_LENGTH\n"
     ]
    },
    {
     "name": "stdout",
     "output_type": "stream",
     "text": [
      "Creating raw.info structure...\n",
      "Extracting EDF parameters from D:\\dataset\\driver_dataset\\DROZY\\DROZY\\psg\\10-1.edf...\n",
      "EDF file detected\n",
      "Setting channel info structure...\n",
      "Creating raw.info structure...\n",
      "Extracting EDF parameters from D:\\dataset\\driver_dataset\\DROZY\\DROZY\\psg\\10-3.edf...\n",
      "EDF file detected\n",
      "Setting channel info structure...\n",
      "Creating raw.info structure...\n",
      "Extracting EDF parameters from D:\\dataset\\driver_dataset\\DROZY\\DROZY\\psg\\11-1.edf...\n",
      "EDF file detected\n",
      "Setting channel info structure...\n",
      "Creating raw.info structure...\n",
      "Extracting EDF parameters from D:\\dataset\\driver_dataset\\DROZY\\DROZY\\psg\\11-2.edf...\n",
      "EDF file detected\n",
      "Setting channel info structure...\n",
      "Creating raw.info structure...\n",
      "Extracting EDF parameters from D:\\dataset\\driver_dataset\\DROZY\\DROZY\\psg\\11-3.edf...\n",
      "EDF file detected\n",
      "Setting channel info structure...\n",
      "Creating raw.info structure...\n",
      "Extracting EDF parameters from D:\\dataset\\driver_dataset\\DROZY\\DROZY\\psg\\12-1.edf...\n",
      "EDF file detected\n",
      "Setting channel info structure...\n",
      "Creating raw.info structure...\n",
      "Extracting EDF parameters from D:\\dataset\\driver_dataset\\DROZY\\DROZY\\psg\\13-1.edf...\n",
      "EDF file detected\n",
      "Setting channel info structure...\n",
      "Creating raw.info structure...\n",
      "Extracting EDF parameters from D:\\dataset\\driver_dataset\\DROZY\\DROZY\\psg\\13-2.edf...\n",
      "EDF file detected\n",
      "Setting channel info structure...\n",
      "Creating raw.info structure...\n",
      "Extracting EDF parameters from D:\\dataset\\driver_dataset\\DROZY\\DROZY\\psg\\14-1.edf...\n",
      "EDF file detected\n",
      "Setting channel info structure...\n",
      "Creating raw.info structure...\n",
      "Extracting EDF parameters from D:\\dataset\\driver_dataset\\DROZY\\DROZY\\psg\\14-2.edf...\n",
      "EDF file detected\n",
      "Setting channel info structure...\n",
      "Creating raw.info structure...\n",
      "Extracting EDF parameters from D:\\dataset\\driver_dataset\\DROZY\\DROZY\\psg\\14-3.edf...\n",
      "EDF file detected\n",
      "Setting channel info structure...\n",
      "Creating raw.info structure...\n",
      "Extracting EDF parameters from D:\\dataset\\driver_dataset\\DROZY\\DROZY\\psg\\2-1.edf...\n",
      "EDF file detected\n",
      "Setting channel info structure...\n",
      "Creating raw.info structure...\n",
      "Extracting EDF parameters from D:\\dataset\\driver_dataset\\DROZY\\DROZY\\psg\\2-2.edf...\n",
      "EDF file detected\n",
      "Setting channel info structure...\n",
      "Creating raw.info structure...\n",
      "Extracting EDF parameters from D:\\dataset\\driver_dataset\\DROZY\\DROZY\\psg\\2-3.edf...\n",
      "EDF file detected\n",
      "Setting channel info structure...\n",
      "Creating raw.info structure...\n",
      "Extracting EDF parameters from D:\\dataset\\driver_dataset\\DROZY\\DROZY\\psg\\3-1.edf...\n",
      "EDF file detected\n",
      "Setting channel info structure...\n",
      "Creating raw.info structure...\n",
      "Extracting EDF parameters from D:\\dataset\\driver_dataset\\DROZY\\DROZY\\psg\\3-2.edf...\n",
      "EDF file detected\n",
      "Setting channel info structure...\n",
      "Creating raw.info structure...\n",
      "Extracting EDF parameters from D:\\dataset\\driver_dataset\\DROZY\\DROZY\\psg\\3-3.edf...\n",
      "EDF file detected\n",
      "Setting channel info structure...\n",
      "Creating raw.info structure...\n",
      "Extracting EDF parameters from D:\\dataset\\driver_dataset\\DROZY\\DROZY\\psg\\4-1.edf...\n",
      "EDF file detected\n",
      "Setting channel info structure...\n",
      "Creating raw.info structure...\n",
      "Extracting EDF parameters from D:\\dataset\\driver_dataset\\DROZY\\DROZY\\psg\\4-2.edf...\n",
      "EDF file detected\n",
      "Setting channel info structure...\n",
      "Creating raw.info structure...\n",
      "Extracting EDF parameters from D:\\dataset\\driver_dataset\\DROZY\\DROZY\\psg\\4-3.edf...\n",
      "EDF file detected\n",
      "Setting channel info structure...\n",
      "Creating raw.info structure...\n",
      "Extracting EDF parameters from D:\\dataset\\driver_dataset\\DROZY\\DROZY\\psg\\5-1.edf...\n",
      "EDF file detected\n",
      "Setting channel info structure...\n",
      "Creating raw.info structure...\n",
      "Extracting EDF parameters from D:\\dataset\\driver_dataset\\DROZY\\DROZY\\psg\\5-2.edf...\n",
      "EDF file detected\n",
      "Setting channel info structure...\n",
      "Creating raw.info structure...\n",
      "Extracting EDF parameters from D:\\dataset\\driver_dataset\\DROZY\\DROZY\\psg\\5-3.edf...\n",
      "EDF file detected\n",
      "Setting channel info structure...\n",
      "Creating raw.info structure...\n",
      "Extracting EDF parameters from D:\\dataset\\driver_dataset\\DROZY\\DROZY\\psg\\6-1.edf...\n",
      "EDF file detected\n",
      "Setting channel info structure...\n",
      "Creating raw.info structure...\n",
      "Extracting EDF parameters from D:\\dataset\\driver_dataset\\DROZY\\DROZY\\psg\\6-2.edf...\n",
      "EDF file detected\n",
      "Setting channel info structure...\n",
      "Creating raw.info structure...\n",
      "Extracting EDF parameters from D:\\dataset\\driver_dataset\\DROZY\\DROZY\\psg\\6-3.edf...\n",
      "EDF file detected\n",
      "Setting channel info structure...\n",
      "Creating raw.info structure...\n",
      "Extracting EDF parameters from D:\\dataset\\driver_dataset\\DROZY\\DROZY\\psg\\7-2.edf...\n",
      "EDF file detected\n",
      "Setting channel info structure...\n",
      "Creating raw.info structure...\n",
      "Extracting EDF parameters from D:\\dataset\\driver_dataset\\DROZY\\DROZY\\psg\\7-3.edf...\n",
      "EDF file detected\n",
      "Setting channel info structure...\n",
      "Creating raw.info structure...\n",
      "Extracting EDF parameters from D:\\dataset\\driver_dataset\\DROZY\\DROZY\\psg\\8-1.edf...\n",
      "EDF file detected\n",
      "Setting channel info structure...\n",
      "Creating raw.info structure...\n",
      "Extracting EDF parameters from D:\\dataset\\driver_dataset\\DROZY\\DROZY\\psg\\8-2.edf...\n",
      "EDF file detected\n",
      "Setting channel info structure...\n",
      "Creating raw.info structure...\n",
      "Extracting EDF parameters from D:\\dataset\\driver_dataset\\DROZY\\DROZY\\psg\\8-3.edf...\n",
      "EDF file detected\n",
      "Setting channel info structure...\n",
      "Creating raw.info structure...\n",
      "Extracting EDF parameters from D:\\dataset\\driver_dataset\\DROZY\\DROZY\\psg\\9-2.edf...\n",
      "EDF file detected\n",
      "Setting channel info structure...\n",
      "Creating raw.info structure...\n",
      "Extracting EDF parameters from D:\\dataset\\driver_dataset\\DROZY\\DROZY\\psg\\9-3.edf...\n",
      "EDF file detected\n",
      "Setting channel info structure...\n",
      "Creating raw.info structure...\n"
     ]
    }
   ],
   "source": [
    "from project.dataprocess.DatasetProcess import getBandPower,getUniformBandPower,MakePeriodTable,MakeNonCrossTable,getBandPowerTable,getUniformBandPowerTable\n",
    "from project.dataprocess.FolderTree import getDataPath,getOutPath\n",
    "bandPowerTable=getBandPowerTable(datasetDict['kss_file'],datasetDict['psg_folder'],N_FFT=15*512,HOP_LEN=15*512)\n",
    "uniformBandaPower=getUniformBandPowerTable(bandPowerTable)\n"
   ]
  },
  {
   "cell_type": "code",
   "execution_count": 4,
   "metadata": {},
   "outputs": [
    {
     "name": "stdout",
     "output_type": "stream",
     "text": [
      "[1.0, 2.0, 3.0, 4.0, 5.0, 6.0, 7.0, 8.0, 9.0, 10.0, 11.0, 12.0, 13.0, 14.0]\n",
      "[ 2  3  4  5  6  7  8  9 10 11 12 13]\n"
     ]
    }
   ],
   "source": [
    "id = sorted(uniformBandaPower['ID'].unique())\n",
    "print(id)\n",
    "from sklearn.model_selection import KFold\n",
    "kfold=KFold(n_splits=7)\n",
    "KFOLD0=list(kfold.split(id))[0]\n",
    "print(KFOLD0[0])\n",
    "trainControlTable=uniformBandaPower[uniformBandaPower['ID'].isin(KFOLD0[0])]\n",
    "testControlTable=uniformBandaPower[uniformBandaPower['ID'].isin(KFOLD0[1])]"
   ]
  },
  {
   "cell_type": "code",
   "execution_count": 5,
   "metadata": {},
   "outputs": [],
   "source": [
    "from project.dataset.BaseDataset import TableDataset\n",
    "from torch.utils.data import DataLoader\n",
    "trainDataset=TableDataset(trainControlTable,label='LEVEL',drop=['KSS','ID'])\n",
    "trainDataloader=DataLoader(trainDataset,batch_size=32)\n",
    "testDataset=TableDataset(testControlTable,label='LEVEL',drop=['KSS','ID'])\n",
    "testDataloader=DataLoader(testDataset,batch_size=32)"
   ]
  },
  {
   "cell_type": "code",
   "execution_count": 6,
   "metadata": {},
   "outputs": [],
   "source": [
    "numFeature=trainDataset[0][0].shape[0]"
   ]
  },
  {
   "cell_type": "markdown",
   "metadata": {},
   "source": [
    "# 模型\n"
   ]
  },
  {
   "cell_type": "code",
   "execution_count": 33,
   "metadata": {},
   "outputs": [],
   "source": [
    "from typing import Any, Optional\n",
    "import torch\n",
    "import pytorch_lightning as pl\n",
    "from pytorch_lightning.utilities.types import STEP_OUTPUT, TRAIN_DATALOADERS, OptimizerLRScheduler\n",
    "from project.model.CNN1D import simple_cnn1d\n",
    "from torchmetrics.functional import accuracy\n",
    "from torch.utils.tensorboard import SummaryWriter\n",
    "\n",
    "class TrainModel(pl.LightningModule):\n",
    "    \n",
    "    def __init__(self, net,lossFunction,optimizer,*args, **kwargs):\n",
    "        super().__init__()\n",
    "        self.Writer=SummaryWriter(log_dir=r\"D:\\project_meta\\NNproject\\NNI\\output\\tensorboar_log\")\n",
    "        self.Model=net\n",
    "        self.LossFunction=lossFunction\n",
    "        self.Optimizer=optimizer\n",
    "\n",
    "    def forward(self,x, *args: Any, **kwargs: Any) -> Any:\n",
    "        y=self.Model(x)\n",
    "        return y\n",
    "    def training_step(self, batch,batch_idx,*args: Any, **kwargs: Any) -> STEP_OUTPUT:\n",
    "        self.Optimizer.zero_grad()\n",
    "        x,y=batch\n",
    "        y=y.long()-1\n",
    "        \n",
    "        y_hat=self.Model(x.to(torch.float32))\n",
    "        loss=self.LossFunction(y_hat,y)\n",
    "        # print(type(x),type(y),type(y_hat))\n",
    "        # print(x.shape,y.shape,y_hat.shape)\n",
    "        acc=accuracy(y_hat,y,task='MULTICLASS',num_classes=3)\n",
    "        pbar={'train_acc':acc}\n",
    "        # self.Writer.add_scalar('acc',acc,)\n",
    "        self.log(\"train_acc\", acc, on_step=False, on_epoch=True)\n",
    "        # self.\n",
    "        # print(acc)\n",
    "        self.log(\"lr\", self.Optimizer.state_dict()['param_groups'][0]['lr'], on_step=True, on_epoch=True)\n",
    "        return {'loss':loss,'progress_bar':pbar}\n",
    "    def configure_optimizers(self) -> OptimizerLRScheduler:\n",
    "        self.lr_scheduler=torch.optim.lr_scheduler.MultiStepLR(self.Optimizer,milestones=[50,100,150,200],gamma=1)\n",
    "        return [self.Optimizer],[self.lr_scheduler]\n",
    "    def validation_step(self,batch,batch_idx, *args: Any, **kwargs: Any) -> STEP_OUTPUT | None:\n",
    "        x,y=batch\n",
    "        y=y.long()-1\n",
    "        x=x.to(torch.float32)\n",
    "        y_hat=self.Model(x)\n",
    "        loss=self.LossFunction(y_hat,y)\n",
    "        acc=accuracy(y_hat,y,task='MULTICLASS',num_classes=3)\n",
    "        self.log(\"test_acc\", acc, on_step=False, on_epoch=True)\n",
    "        return {'loss':loss}\n",
    "\n",
    "        "
   ]
  },
  {
   "cell_type": "markdown",
   "metadata": {},
   "source": [
    "# 训练"
   ]
  },
  {
   "cell_type": "code",
   "execution_count": 49,
   "metadata": {},
   "outputs": [
    {
     "name": "stdout",
     "output_type": "stream",
     "text": [
      "----------------------------------------------------------------\n",
      "        Layer (type)               Output Shape         Param #\n",
      "================================================================\n",
      "            Linear-1               [-1, 1, 256]           7,936\n",
      "              ReLU-2               [-1, 1, 256]               0\n",
      "            Linear-3                [-1, 1, 64]          16,448\n",
      "              ReLU-4                [-1, 1, 64]               0\n",
      "            Linear-5                 [-1, 1, 3]             195\n",
      "================================================================\n",
      "Total params: 24,579\n",
      "Trainable params: 24,579\n",
      "Non-trainable params: 0\n",
      "----------------------------------------------------------------\n",
      "Input size (MB): 0.00\n",
      "Forward/backward pass size (MB): 0.00\n",
      "Params size (MB): 0.09\n",
      "Estimated Total Size (MB): 0.10\n",
      "----------------------------------------------------------------\n"
     ]
    }
   ],
   "source": [
    "from pytorch_lightning import loggers\n",
    "from torchsummary import summary\n",
    "from project.model.MLP import MLP\n",
    "\n",
    "model=MLP(numFeature,[256,64],classes=3)\n",
    "logger=loggers.TensorBoardLogger(save_dir=r'D:\\project_meta\\NNproject\\NNI\\notebook\\TraineSummery\\EEG\\EndToEnd\\TESST_LOG_PATH',name='EEG_Feature_MLPIDSplit_LR_SCH')\n",
    "net=TrainModel(model,torch.nn.CrossEntropyLoss(),optimizer=torch.optim.Adam(model.parameters(),lr=0.0005))\n",
    "summary(net,(1,30),device='cpu')\n",
    "\n"
   ]
  },
  {
   "cell_type": "code",
   "execution_count": null,
   "metadata": {},
   "outputs": [],
   "source": [
    "trainer=pl.Trainer(logger=logger)\n",
    "trainer.fit(net,train_dataloaders=trainDataloader,val_dataloaders=testDataloader)"
   ]
  }
 ],
 "metadata": {
  "kernelspec": {
   "display_name": "nni",
   "language": "python",
   "name": "python3"
  },
  "language_info": {
   "codemirror_mode": {
    "name": "ipython",
    "version": 3
   },
   "file_extension": ".py",
   "mimetype": "text/x-python",
   "name": "python",
   "nbconvert_exporter": "python",
   "pygments_lexer": "ipython3",
   "version": "3.10.13"
  }
 },
 "nbformat": 4,
 "nbformat_minor": 2
}
