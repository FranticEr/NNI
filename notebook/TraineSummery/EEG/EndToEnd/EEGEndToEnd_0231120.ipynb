{
 "cells": [
  {
   "cell_type": "markdown",
   "metadata": {},
   "source": [
    "# 路径"
   ]
  },
  {
   "cell_type": "code",
   "execution_count": 2,
   "metadata": {},
   "outputs": [
    {
     "name": "stdout",
     "output_type": "stream",
     "text": [
      "D:\\project_meta\\NNproject\\NNI\n"
     ]
    }
   ],
   "source": [
    "def setProjectPath(projectPath):\n",
    "    import os\n",
    "    import sys\n",
    "    root=os.path.abspath(projectPath)\n",
    "    print(root)\n",
    "    sys.path.append(root)\n",
    "    os.environ[\"TORCH_HOME\"]=r\"E:\\Data\\torch-model\"\n",
    "    import warnings  \n",
    "    warnings.filterwarnings(\"ignore\", category=RuntimeWarning, module=\"mne\")\n",
    "\n",
    "projectPath=r'D:\\project_meta\\NNproject\\NNI'\n",
    "setProjectPath(projectPath)"
   ]
  },
  {
   "cell_type": "code",
   "execution_count": 3,
   "metadata": {},
   "outputs": [
    {
     "name": "stdout",
     "output_type": "stream",
     "text": [
      "{'annotation_auto_folder': 'D:\\\\dataset\\\\driver_dataset\\\\DROZY\\\\DROZY\\\\annotations-auto',\n",
      " 'annotation_manual_folder': 'D:\\\\dataset\\\\driver_dataset\\\\DROZY\\\\DROZY\\\\annotations-manual',\n",
      " 'kinect_file': 'D:\\\\dataset\\\\driver_dataset\\\\DROZY\\\\DROZY\\\\kinect-intrinsics.yaml',\n",
      " 'kss_file': 'D:\\\\dataset\\\\driver_dataset\\\\DROZY\\\\DROZY\\\\KSS.txt',\n",
      " 'psg_folder': 'D:\\\\dataset\\\\driver_dataset\\\\DROZY\\\\DROZY\\\\psg',\n",
      " 'pvt_rt_folder': 'D:\\\\dataset\\\\driver_dataset\\\\DROZY\\\\DROZY\\\\pvt-rt',\n",
      " 'videos_folder': 'D:\\\\dataset\\\\driver_dataset\\\\DROZY\\\\DROZY\\\\videos_i8'}\n",
      "{'ECG_filted_folder': 'D:\\\\project_meta\\\\NNproject\\\\NNI\\\\output\\\\psg_filted\\\\ECG',\n",
      " 'ECG_table_file': 'D:\\\\project_meta\\\\NNproject\\\\NNI\\\\output\\\\ECG_table.csv',\n",
      " 'ECG_uniformfilted_folder': 'D:\\\\project_meta\\\\NNproject\\\\NNI\\\\output\\\\psg_filted\\\\ECG',\n",
      " 'EEG_filted_folder': 'D:\\\\project_meta\\\\NNproject\\\\NNI\\\\output\\\\psg_filted\\\\EEG',\n",
      " 'EEG_table_file': 'D:\\\\project_meta\\\\NNproject\\\\NNI\\\\output\\\\EEG_table.csv',\n",
      " 'EEG_uniformfilted_folder': 'D:\\\\project_meta\\\\NNproject\\\\NNI\\\\output\\\\psg_filted\\\\EEG',\n",
      " 'bandpower_file': 'D:\\\\project_meta\\\\NNproject\\\\NNI\\\\output\\\\bandpower.csv',\n",
      " 'cwt_folder': 'D:\\\\project_meta\\\\NNproject\\\\NNI\\\\output\\\\cwt',\n",
      " 'face_kss_frames_folder': 'D:\\\\project_meta\\\\NNproject\\\\NNI\\\\output\\\\video_frames\\\\face_kss_frames',\n",
      " 'face_level_frames_folder': 'D:\\\\project_meta\\\\NNproject\\\\NNI\\\\output\\\\video_frames\\\\face_level_frames',\n",
      " 'filted_folder': 'D:\\\\project_meta\\\\NNproject\\\\NNI\\\\output\\\\psg_filted',\n",
      " 'info_file': 'D:\\\\project_meta\\\\NNproject\\\\NNI\\\\output\\\\info.csv',\n",
      " 'kss_frames_folder': 'D:\\\\project_meta\\\\NNproject\\\\NNI\\\\output\\\\video_frames\\\\kss_frames',\n",
      " 'level_frames_folder': 'D:\\\\project_meta\\\\NNproject\\\\NNI\\\\output\\\\video_frames\\\\level_frames',\n",
      " 'nomalfilted_folder': 'D:\\\\project_meta\\\\NNproject\\\\NNI\\\\output\\\\psg_nomalfilted',\n",
      " 'noncross_file': 'D:\\\\project_meta\\\\NNproject\\\\NNI\\\\output\\\\noncross.csv',\n",
      " 'uniformbandpower_file': 'D:\\\\project_meta\\\\NNproject\\\\NNI\\\\output\\\\uniformbandpower.csv',\n",
      " 'uniformfilted_folder': 'D:\\\\project_meta\\\\NNproject\\\\NNI\\\\output\\\\psg_uniformfilted',\n",
      " 'video_frames_folder': 'D:\\\\project_meta\\\\NNproject\\\\NNI\\\\output\\\\video_frames',\n",
      " 'windowsTable': 'D:\\\\project_meta\\\\NNproject\\\\NNI\\\\output\\\\windowsTable.csv'}\n"
     ]
    }
   ],
   "source": [
    "import mne\n",
    "datasetFolder=r'D:\\dataset\\driver_dataset\\DROZY\\DROZY'\n",
    "outputFolder=r'D:\\project_meta\\NNproject\\NNI\\output'\n",
    "from project.dataprocess.FolderTree import *\n",
    "datasetDict=getDataPath(datasetFolder)\n",
    "outputDict=getOutPath(outputFolder)\n",
    "import pprint\n",
    "pprint.pprint(datasetDict)\n",
    "pprint.pprint(outputDict)"
   ]
  },
  {
   "cell_type": "markdown",
   "metadata": {},
   "source": [
    "# 数据集"
   ]
  },
  {
   "cell_type": "code",
   "execution_count": 47,
   "metadata": {},
   "outputs": [
    {
     "data": {
      "text/html": [
       "<div>\n",
       "<style scoped>\n",
       "    .dataframe tbody tr th:only-of-type {\n",
       "        vertical-align: middle;\n",
       "    }\n",
       "\n",
       "    .dataframe tbody tr th {\n",
       "        vertical-align: top;\n",
       "    }\n",
       "\n",
       "    .dataframe thead th {\n",
       "        text-align: right;\n",
       "    }\n",
       "</style>\n",
       "<table border=\"1\" class=\"dataframe\">\n",
       "  <thead>\n",
       "    <tr style=\"text-align: right;\">\n",
       "      <th></th>\n",
       "      <th>ID</th>\n",
       "      <th>LEVEL</th>\n",
       "      <th>KSS</th>\n",
       "      <th>START</th>\n",
       "      <th>END</th>\n",
       "    </tr>\n",
       "  </thead>\n",
       "  <tbody>\n",
       "    <tr>\n",
       "      <th>0</th>\n",
       "      <td>1</td>\n",
       "      <td>1.0</td>\n",
       "      <td>3.0</td>\n",
       "      <td>0.0</td>\n",
       "      <td>15.0</td>\n",
       "    </tr>\n",
       "    <tr>\n",
       "      <th>1</th>\n",
       "      <td>1</td>\n",
       "      <td>1.0</td>\n",
       "      <td>3.0</td>\n",
       "      <td>15.0</td>\n",
       "      <td>30.0</td>\n",
       "    </tr>\n",
       "    <tr>\n",
       "      <th>2</th>\n",
       "      <td>1</td>\n",
       "      <td>1.0</td>\n",
       "      <td>3.0</td>\n",
       "      <td>30.0</td>\n",
       "      <td>45.0</td>\n",
       "    </tr>\n",
       "    <tr>\n",
       "      <th>3</th>\n",
       "      <td>1</td>\n",
       "      <td>1.0</td>\n",
       "      <td>3.0</td>\n",
       "      <td>45.0</td>\n",
       "      <td>60.0</td>\n",
       "    </tr>\n",
       "    <tr>\n",
       "      <th>4</th>\n",
       "      <td>1</td>\n",
       "      <td>1.0</td>\n",
       "      <td>3.0</td>\n",
       "      <td>60.0</td>\n",
       "      <td>75.0</td>\n",
       "    </tr>\n",
       "    <tr>\n",
       "      <th>...</th>\n",
       "      <td>...</td>\n",
       "      <td>...</td>\n",
       "      <td>...</td>\n",
       "      <td>...</td>\n",
       "      <td>...</td>\n",
       "    </tr>\n",
       "    <tr>\n",
       "      <th>1435</th>\n",
       "      <td>9</td>\n",
       "      <td>3.0</td>\n",
       "      <td>8.0</td>\n",
       "      <td>525.0</td>\n",
       "      <td>540.0</td>\n",
       "    </tr>\n",
       "    <tr>\n",
       "      <th>1436</th>\n",
       "      <td>9</td>\n",
       "      <td>3.0</td>\n",
       "      <td>8.0</td>\n",
       "      <td>540.0</td>\n",
       "      <td>555.0</td>\n",
       "    </tr>\n",
       "    <tr>\n",
       "      <th>1437</th>\n",
       "      <td>9</td>\n",
       "      <td>3.0</td>\n",
       "      <td>8.0</td>\n",
       "      <td>555.0</td>\n",
       "      <td>570.0</td>\n",
       "    </tr>\n",
       "    <tr>\n",
       "      <th>1438</th>\n",
       "      <td>9</td>\n",
       "      <td>3.0</td>\n",
       "      <td>8.0</td>\n",
       "      <td>570.0</td>\n",
       "      <td>585.0</td>\n",
       "    </tr>\n",
       "    <tr>\n",
       "      <th>1439</th>\n",
       "      <td>9</td>\n",
       "      <td>3.0</td>\n",
       "      <td>8.0</td>\n",
       "      <td>585.0</td>\n",
       "      <td>600.0</td>\n",
       "    </tr>\n",
       "  </tbody>\n",
       "</table>\n",
       "<p>1440 rows × 5 columns</p>\n",
       "</div>"
      ],
      "text/plain": [
       "      ID  LEVEL  KSS  START    END\n",
       "0      1    1.0  3.0    0.0   15.0\n",
       "1      1    1.0  3.0   15.0   30.0\n",
       "2      1    1.0  3.0   30.0   45.0\n",
       "3      1    1.0  3.0   45.0   60.0\n",
       "4      1    1.0  3.0   60.0   75.0\n",
       "...   ..    ...  ...    ...    ...\n",
       "1435   9    3.0  8.0  525.0  540.0\n",
       "1436   9    3.0  8.0  540.0  555.0\n",
       "1437   9    3.0  8.0  555.0  570.0\n",
       "1438   9    3.0  8.0  570.0  585.0\n",
       "1439   9    3.0  8.0  585.0  600.0\n",
       "\n",
       "[1440 rows x 5 columns]"
      ]
     },
     "execution_count": 47,
     "metadata": {},
     "output_type": "execute_result"
    }
   ],
   "source": [
    "from project.dataset.ExtendDataset import *\n",
    "import pandas as pd\n",
    "from project.dataprocess.DatasetProcess import *\n",
    "toRefreshWindowsTbale=False\n",
    "if toRefreshWindowsTbale==True and os.path.exists(outputDict['windowsTable']):\n",
    "    os.remove(outputDict['windowsTable'])\n",
    "    windowsTable=MakeWindowsTable(psg_folder=datasetDict['psg_folder'],kss_file_path=datasetDict['kss_file'])\n",
    "    windowsTable.to_csv(outputDict['windowsTable'])\n",
    "if not os.path.exists(outputDict['windowsTable']):\n",
    "    windowsTable=MakeWindowsTable(psg_folder=datasetDict['psg_folder'],kss_file_path=datasetDict['kss_file'])\n",
    "    windowsTable.to_csv(outputDict['windowsTable'])\n",
    "\n",
    "eegControlTable=pd.read_csv(outputDict['windowsTable'],index_col=0,dtype={'ID': int})\n",
    "eegControlTable\n"
   ]
  },
  {
   "cell_type": "code",
   "execution_count": 57,
   "metadata": {},
   "outputs": [
    {
     "name": "stdout",
     "output_type": "stream",
     "text": [
      "   id  value\n",
      "0  30      3\n",
      "1  40      4\n",
      "2  50      5\n",
      "   id  value\n",
      "0  10      1\n",
      "1  20      2\n",
      "2  30      3\n",
      "3  40      4\n",
      "4  50      5\n"
     ]
    }
   ],
   "source": [
    "import pandas as pd\n",
    "\n",
    "# 假设您的数据在一个名为 df 的 DataFrame 中\n",
    "df = pd.DataFrame({'id': [10, 20, 30, 40, 50],\n",
    "                   'value': [1, 2, 3, 4, 5]})\n",
    "\n",
    "# 使用布尔索引来排除 id 为 10 的数据\n",
    "df_filtered = df[~df['id'].isin([10, 20])].reset_index(drop=True)\n",
    "\n",
    "\n",
    "print(df_filtered)\n",
    "print(df)"
   ]
  },
  {
   "cell_type": "code",
   "execution_count": 59,
   "metadata": {},
   "outputs": [
    {
     "name": "stdout",
     "output_type": "stream",
     "text": [
      "[1, 2, 3, 4, 5, 6, 7, 8, 9, 10, 11, 12, 13, 14]\n"
     ]
    }
   ],
   "source": [
    "id = sorted(eegControlTable['ID'].unique())\n",
    "print(id)\n",
    "from sklearn.model_selection import KFold\n",
    "kfold=KFold(n_splits=7)\n",
    "KFOLD0=list(kfold.split(id))[0]"
   ]
  },
  {
   "cell_type": "code",
   "execution_count": 62,
   "metadata": {},
   "outputs": [
    {
     "name": "stdout",
     "output_type": "stream",
     "text": [
      "[ 2  3  4  5  6  7  8  9 10 11 12 13]\n",
      "[2, 3, 4, 5, 6, 7, 8, 9, 10, 11, 12, 13]\n"
     ]
    }
   ],
   "source": [
    "print(KFOLD0[0])\n",
    "trainControlTable=eegControlTable[eegControlTable['ID'].isin(KFOLD0[0])]\n",
    "id = sorted(trainControlTable['ID'].unique())\n",
    "print(id)"
   ]
  },
  {
   "cell_type": "code",
   "execution_count": 63,
   "metadata": {},
   "outputs": [],
   "source": [
    "testControlTable=eegControlTable[eegControlTable['ID'].isin(KFOLD0[1])]\n"
   ]
  },
  {
   "cell_type": "code",
   "execution_count": null,
   "metadata": {},
   "outputs": [],
   "source": []
  },
  {
   "cell_type": "code",
   "execution_count": 72,
   "metadata": {},
   "outputs": [
    {
     "data": {
      "text/plain": [
       "(5, 7680)"
      ]
     },
     "execution_count": 72,
     "metadata": {},
     "output_type": "execute_result"
    }
   ],
   "source": [
    "EEGDataset=LEVELEEGEndToEndDataset(eegControlTable,datasetDict['psg_folder'],Mintime=15)\n",
    "EEGDataset[0][0].shape"
   ]
  },
  {
   "cell_type": "code",
   "execution_count": 64,
   "metadata": {},
   "outputs": [],
   "source": [
    "trainDataset=LEVELEEGEndToEndDataset(trainControlTable,datasetDict['psg_folder'],Mintime=15)\n",
    "trainDataloader=DataLoader(trainDataset,batch_size=128)\n",
    "testDataset=LEVELEEGEndToEndDataset(testControlTable,datasetDict['psg_folder'],Mintime=15)\n",
    "testDataloader=DataLoader(testDataset,batch_size=128)"
   ]
  },
  {
   "cell_type": "code",
   "execution_count": 27,
   "metadata": {},
   "outputs": [
    {
     "data": {
      "text/plain": [
       "1368"
      ]
     },
     "execution_count": 27,
     "metadata": {},
     "output_type": "execute_result"
    }
   ],
   "source": [
    "len(EEGDataset)"
   ]
  },
  {
   "cell_type": "code",
   "execution_count": 7,
   "metadata": {},
   "outputs": [
    {
     "name": "stdout",
     "output_type": "stream",
     "text": [
      "(5, 7680)\n",
      "通道数为： 5\n",
      "类别数位： 3\n"
     ]
    }
   ],
   "source": [
    "print(EEGDataset[0][0].shape)\n",
    "channels=EEGDataset[0][0].shape[0]\n",
    "print(\"通道数为：\",channels)\n",
    "classes=3\n",
    "print(f'类别数位： {classes}')"
   ]
  },
  {
   "cell_type": "code",
   "execution_count": null,
   "metadata": {},
   "outputs": [],
   "source": []
  },
  {
   "cell_type": "code",
   "execution_count": 8,
   "metadata": {},
   "outputs": [],
   "source": [
    "eegDataloader=DataLoader(EEGDataset,batch_size=128)"
   ]
  },
  {
   "cell_type": "markdown",
   "metadata": {},
   "source": [
    "# 模型"
   ]
  },
  {
   "cell_type": "code",
   "execution_count": 28,
   "metadata": {},
   "outputs": [
    {
     "data": {
      "text/plain": [
       "[tensor([[[-1.5625e-05, -1.3575e-05, -9.4729e-06,  ...,  1.0645e-05,\n",
       "            7.4221e-06,  6.6408e-06],\n",
       "          [-2.4708e-05, -2.3048e-05, -2.0020e-05,  ...,  1.0352e-05,\n",
       "            1.0743e-05,  1.1524e-05],\n",
       "          [-8.0081e-06, -3.8087e-06,  2.3438e-06,  ...,  1.4161e-05,\n",
       "            1.4942e-05,  1.2403e-05],\n",
       "          [-7.1291e-06, -3.9064e-06, -2.7345e-06,  ...,  8.9846e-06,\n",
       "            9.4729e-06,  1.3672e-05],\n",
       "          [-9.1800e-06, -7.6174e-06, -2.7345e-06,  ...,  1.3282e-05,\n",
       "            1.3575e-05,  1.3965e-05]],\n",
       " \n",
       "         [[ 4.7853e-06, -1.0743e-06, -6.6408e-06,  ..., -7.9104e-06,\n",
       "           -5.3713e-06, -8.7893e-07],\n",
       "          [ 9.6683e-06,  3.4181e-06, -3.3204e-06,  ..., -1.4649e-05,\n",
       "           -1.2110e-05, -8.0081e-06],\n",
       "          [ 7.1291e-06,  0.0000e+00, -7.5198e-06,  ...,  3.5157e-06,\n",
       "            8.0081e-06,  1.1719e-05],\n",
       "          [ 1.4454e-05,  8.3010e-06,  1.8555e-06,  ..., -7.0315e-06,\n",
       "           -5.6642e-06, -3.3204e-06],\n",
       "          [ 1.2110e-05,  6.4455e-06,  5.8596e-07,  ..., -2.2657e-05,\n",
       "           -1.7481e-05, -1.2403e-05]],\n",
       " \n",
       "         [[ 3.6134e-06,  5.6642e-06,  2.9298e-06,  ..., -9.0823e-06,\n",
       "           -9.7659e-06, -1.0254e-05],\n",
       "          [-4.2970e-06, -3.3204e-06, -5.8596e-06,  ..., -8.7893e-07,\n",
       "           -3.6134e-06, -4.1993e-06],\n",
       "          [ 1.5918e-05,  1.9044e-05,  1.7383e-05,  ...,  3.2228e-06,\n",
       "            1.4649e-06, -1.0743e-06],\n",
       "          [-1.9532e-07,  1.7579e-06,  3.9064e-07,  ..., -4.3947e-06,\n",
       "           -9.2776e-06, -1.3282e-05],\n",
       "          [-8.0081e-06, -5.1759e-06, -5.1759e-06,  ...,  1.7188e-05,\n",
       "            1.3379e-05,  1.1035e-05]],\n",
       " \n",
       "         ...,\n",
       " \n",
       "         [[ 5.5666e-06,  7.0315e-06,  7.3244e-06,  ..., -6.5432e-06,\n",
       "           -5.6642e-06, -4.1017e-06],\n",
       "          [ 1.5430e-05,  1.6211e-05,  1.5430e-05,  ...,  8.4964e-06,\n",
       "            9.2776e-06,  1.0450e-05],\n",
       "          [-3.0274e-06, -1.9532e-07,  1.9532e-06,  ...,  1.0352e-05,\n",
       "            1.0840e-05,  9.7659e-06],\n",
       "          [ 3.1251e-06,  4.3947e-06,  5.7619e-06,  ...,  1.0059e-05,\n",
       "            1.0450e-05,  1.1328e-05],\n",
       "          [ 1.0840e-05,  1.6407e-05,  2.0118e-05,  ...,  4.1017e-06,\n",
       "            2.7345e-06,  4.8830e-07]],\n",
       " \n",
       "         [[-2.3438e-06, -9.7659e-07, -9.7659e-08,  ..., -4.3947e-06,\n",
       "           -1.0743e-06, -7.8127e-07],\n",
       "          [ 1.1719e-05,  1.2891e-05,  1.3672e-05,  ..., -2.7345e-06,\n",
       "            2.0508e-06,  4.0040e-06],\n",
       "          [ 9.9612e-06,  1.1914e-05,  1.2500e-05,  ...,  2.8321e-06,\n",
       "            7.2268e-06,  7.0315e-06],\n",
       "          [ 1.1035e-05,  9.4729e-06,  8.3987e-06,  ..., -7.2268e-06,\n",
       "           -4.8830e-07,  1.9532e-06],\n",
       "          [ 7.8127e-07,  2.8321e-06,  3.4181e-06,  ..., -7.4221e-06,\n",
       "           -1.5625e-06,  8.7893e-07]],\n",
       " \n",
       "         [[-3.8087e-06, -7.3244e-06, -8.0081e-06,  ...,  2.7345e-06,\n",
       "            3.0274e-06,  5.8596e-06],\n",
       "          [ 9.7659e-07, -4.1017e-06, -5.8596e-06,  ..., -2.0508e-06,\n",
       "           -2.6368e-06, -2.6368e-06],\n",
       "          [ 3.7111e-06,  1.2696e-06,  1.1719e-06,  ..., -1.0254e-05,\n",
       "           -1.2500e-05, -1.1719e-05],\n",
       "          [-1.6602e-06, -6.4455e-06, -7.9104e-06,  ...,  1.0645e-05,\n",
       "            8.3010e-06,  7.4221e-06],\n",
       "          [-1.1719e-06, -5.3713e-06, -8.2034e-06,  ..., -4.8830e-07,\n",
       "           -5.6642e-06, -8.1057e-06]]], dtype=torch.float64),\n",
       " tensor([1., 1., 1., 1., 1., 1., 1., 1., 1., 1., 1., 1., 1., 1., 1., 1., 1., 1.,\n",
       "         1., 1., 1., 1., 1., 1., 1., 1., 1., 1., 1., 1., 1., 1., 1., 1., 1., 1.,\n",
       "         1., 1., 2., 2., 2., 2., 2., 2., 2., 2., 2., 2., 2., 2., 2., 2., 2., 2.,\n",
       "         2., 2., 2., 2., 2., 2., 2., 2., 2., 2., 2., 2., 2., 2., 2., 2., 2., 2.,\n",
       "         2., 2., 2., 2., 3., 3., 3., 3., 3., 3., 3., 3., 3., 3., 3., 3., 3., 3.,\n",
       "         3., 3., 3., 3., 3., 3., 3., 3., 3., 3., 3., 3., 3., 3., 3., 3., 3., 3.,\n",
       "         3., 3., 3., 3., 3., 3., 1., 1., 1., 1., 1., 1., 1., 1., 1., 1., 1., 1.,\n",
       "         1., 1.], dtype=torch.float64)]"
      ]
     },
     "execution_count": 28,
     "metadata": {},
     "output_type": "execute_result"
    }
   ],
   "source": [
    "from project.model.CNN1D import simple_cnn1d\n",
    "x=next(iter(eegDataloader))\n",
    "x"
   ]
  },
  {
   "cell_type": "code",
   "execution_count": 29,
   "metadata": {},
   "outputs": [
    {
     "name": "stdout",
     "output_type": "stream",
     "text": [
      "----------------------------------------------------------------\n",
      "        Layer (type)               Output Shape         Param #\n",
      "================================================================\n",
      "            Conv1d-1            [-1, 16, 10240]             576\n",
      "       BatchNorm1d-2            [-1, 16, 10240]              32\n",
      "              ReLU-3            [-1, 16, 10240]               0\n",
      "         MaxPool1d-4             [-1, 16, 5119]               0\n",
      "            Conv1d-5             [-1, 32, 2560]           1,568\n",
      "       BatchNorm1d-6             [-1, 32, 2560]              64\n",
      "              ReLU-7             [-1, 32, 2560]               0\n",
      "            Conv1d-8             [-1, 64, 1280]           6,208\n",
      "       BatchNorm1d-9             [-1, 64, 1280]             128\n",
      "             ReLU-10             [-1, 64, 1280]               0\n",
      "AdaptiveAvgPool1d-11                [-1, 64, 1]               0\n",
      "          Flatten-12                   [-1, 64]               0\n",
      "             ReLU-13                   [-1, 64]               0\n",
      "           Linear-14                   [-1, 32]           2,080\n",
      "             ReLU-15                   [-1, 32]               0\n",
      "           Linear-16                    [-1, 3]              99\n",
      "================================================================\n",
      "Total params: 10,755\n",
      "Trainable params: 10,755\n",
      "Non-trainable params: 0\n",
      "----------------------------------------------------------------\n",
      "Input size (MB): 0.20\n",
      "Forward/backward pass size (MB): 8.13\n",
      "Params size (MB): 0.04\n",
      "Estimated Total Size (MB): 8.36\n",
      "----------------------------------------------------------------\n"
     ]
    }
   ],
   "source": [
    "from torchsummary import summary\n",
    "Model=simple_cnn1d(channels,classes,[16,32,64])\n",
    "summary(Model,(5,4*2560),device='cpu')"
   ]
  },
  {
   "cell_type": "code",
   "execution_count": 12,
   "metadata": {},
   "outputs": [
    {
     "data": {
      "text/plain": [
       "tensor([[-0.0854,  0.1305,  0.1510],\n",
       "        [-0.0839,  0.1065,  0.1445],\n",
       "        [-0.0840,  0.0871,  0.1520],\n",
       "        [-0.0884,  0.1193,  0.1551],\n",
       "        [-0.0892,  0.1122,  0.1358],\n",
       "        [-0.0989,  0.1283,  0.1346],\n",
       "        [-0.1077,  0.1235,  0.1657],\n",
       "        [-0.1032,  0.1299,  0.1393],\n",
       "        [-0.0934,  0.1231,  0.1496],\n",
       "        [-0.1013,  0.1229,  0.1420],\n",
       "        [-0.0863,  0.1202,  0.1453],\n",
       "        [-0.1098,  0.1290,  0.1558],\n",
       "        [-0.0897,  0.1124,  0.1474],\n",
       "        [-0.0901,  0.1217,  0.1568],\n",
       "        [-0.0947,  0.1195,  0.1472],\n",
       "        [-0.1044,  0.1279,  0.1510],\n",
       "        [-0.0953,  0.1258,  0.1486],\n",
       "        [-0.0983,  0.1190,  0.1526],\n",
       "        [-0.0953,  0.1114,  0.1539],\n",
       "        [-0.0594,  0.1057,  0.1508],\n",
       "        [-0.0917,  0.1184,  0.1515],\n",
       "        [-0.0966,  0.1198,  0.1447],\n",
       "        [-0.0967,  0.1214,  0.1449],\n",
       "        [-0.0972,  0.1128,  0.1532],\n",
       "        [-0.1075,  0.1288,  0.1470],\n",
       "        [-0.0891,  0.1200,  0.1446],\n",
       "        [-0.0886,  0.1155,  0.1465],\n",
       "        [-0.0926,  0.1085,  0.1550],\n",
       "        [-0.0384,  0.1071,  0.1428],\n",
       "        [-0.0854,  0.1189,  0.1386],\n",
       "        [-0.0901,  0.1137,  0.1529],\n",
       "        [-0.0927,  0.1189,  0.1482],\n",
       "        [-0.0969,  0.1140,  0.1379],\n",
       "        [-0.1093,  0.1155,  0.1520],\n",
       "        [-0.0865,  0.1186,  0.1452],\n",
       "        [-0.0953,  0.1202,  0.1428],\n",
       "        [-0.0697,  0.0695,  0.1360],\n",
       "        [-0.0777,  0.0949,  0.1286],\n",
       "        [-0.0694,  0.1594,  0.0972],\n",
       "        [-0.0724,  0.1693,  0.0890],\n",
       "        [-0.0382,  0.1446,  0.0941],\n",
       "        [-0.0418,  0.1722,  0.1154],\n",
       "        [-0.0368,  0.1411,  0.1088],\n",
       "        [-0.0343,  0.1703,  0.1031],\n",
       "        [-0.0294,  0.1713,  0.1098],\n",
       "        [-0.0375,  0.1293,  0.0922],\n",
       "        [-0.0547,  0.1641,  0.1030],\n",
       "        [-0.0483,  0.1655,  0.1064],\n",
       "        [-0.0426,  0.1497,  0.1079],\n",
       "        [-0.0494,  0.1610,  0.0993],\n",
       "        [ 0.0170,  0.1666,  0.1258],\n",
       "        [-0.0329,  0.1668,  0.1097],\n",
       "        [ 0.0125,  0.1394,  0.0853],\n",
       "        [-0.0039,  0.1497,  0.0889],\n",
       "        [-0.0444,  0.1682,  0.0778],\n",
       "        [-0.0020,  0.1567,  0.0753],\n",
       "        [-0.0272,  0.1656,  0.0848],\n",
       "        [-0.0196,  0.1649,  0.0877],\n",
       "        [-0.0048,  0.1598,  0.0867],\n",
       "        [ 0.0675,  0.1531,  0.0841],\n",
       "        [-0.0108,  0.1624,  0.0901],\n",
       "        [-0.0341,  0.1586,  0.0791],\n",
       "        [-0.0193,  0.1584,  0.0783],\n",
       "        [-0.0311,  0.1659,  0.0740],\n",
       "        [-0.0363,  0.1639,  0.0807],\n",
       "        [-0.0225,  0.1585,  0.0820],\n",
       "        [-0.0154,  0.1613,  0.0771],\n",
       "        [ 0.0656,  0.1603,  0.0851],\n",
       "        [ 0.0120,  0.1512,  0.0795],\n",
       "        [ 0.0362,  0.1235,  0.0890],\n",
       "        [-0.0034,  0.1580,  0.0981],\n",
       "        [-0.0297,  0.1631,  0.0748],\n",
       "        [-0.0333,  0.1596,  0.0791],\n",
       "        [ 0.0237,  0.1415,  0.0710],\n",
       "        [-0.0112,  0.1415,  0.0730],\n",
       "        [-0.0212,  0.1662,  0.0865],\n",
       "        [-0.0394,  0.1134,  0.1250],\n",
       "        [-0.0580,  0.1491,  0.1143],\n",
       "        [-0.0047,  0.1226,  0.1268],\n",
       "        [-0.0554,  0.1502,  0.1264],\n",
       "        [-0.0531,  0.1414,  0.1285],\n",
       "        [-0.0390,  0.1284,  0.1178],\n",
       "        [-0.0491,  0.1189,  0.1133],\n",
       "        [-0.0546,  0.1413,  0.1305],\n",
       "        [-0.0619,  0.1308,  0.1239],\n",
       "        [-0.0614,  0.1397,  0.1216],\n",
       "        [-0.0695,  0.1377,  0.1244],\n",
       "        [-0.0664,  0.1346,  0.1215],\n",
       "        [-0.0730,  0.1413,  0.1186],\n",
       "        [-0.0170,  0.1403,  0.1205],\n",
       "        [-0.0476,  0.1256,  0.1310],\n",
       "        [-0.0751,  0.1485,  0.1327],\n",
       "        [-0.0664,  0.1362,  0.1461],\n",
       "        [-0.0570,  0.1397,  0.0971],\n",
       "        [ 0.0621,  0.1298,  0.1280],\n",
       "        [-0.0671,  0.1539,  0.1228],\n",
       "        [ 0.0193,  0.1116,  0.1243],\n",
       "        [ 0.0148,  0.1345,  0.1341],\n",
       "        [-0.0337,  0.1472,  0.1315],\n",
       "        [-0.0562,  0.1400,  0.1248],\n",
       "        [-0.0519,  0.1453,  0.1268],\n",
       "        [-0.0685,  0.1532,  0.1259],\n",
       "        [-0.0762,  0.1463,  0.1206],\n",
       "        [-0.0537,  0.1458,  0.1355],\n",
       "        [-0.0578,  0.1336,  0.1190],\n",
       "        [-0.0412,  0.1299,  0.1316],\n",
       "        [-0.0755,  0.1513,  0.1253],\n",
       "        [-0.0597,  0.1385,  0.1260],\n",
       "        [-0.0595,  0.1374,  0.1322],\n",
       "        [-0.0815,  0.1400,  0.1453],\n",
       "        [-0.0715,  0.1352,  0.1230],\n",
       "        [-0.0790,  0.1598,  0.1248],\n",
       "        [-0.0727,  0.1434,  0.1354],\n",
       "        [-0.0698,  0.1329,  0.1462],\n",
       "        [-0.0580,  0.1154,  0.1585],\n",
       "        [-0.0481,  0.1099,  0.1383],\n",
       "        [-0.0665,  0.1153,  0.1729],\n",
       "        [-0.0563,  0.1039,  0.1462],\n",
       "        [-0.0972,  0.1120,  0.1499],\n",
       "        [-0.0747,  0.1220,  0.1479],\n",
       "        [-0.0722,  0.1130,  0.1431],\n",
       "        [-0.0828,  0.1365,  0.1416],\n",
       "        [-0.0862,  0.1202,  0.1390],\n",
       "        [-0.0815,  0.1054,  0.1557],\n",
       "        [-0.0755,  0.1300,  0.1405],\n",
       "        [-0.0750,  0.1305,  0.1370],\n",
       "        [-0.0786,  0.1377,  0.1390],\n",
       "        [-0.0817,  0.1157,  0.1568]], grad_fn=<AddmmBackward0>)"
      ]
     },
     "execution_count": 12,
     "metadata": {},
     "output_type": "execute_result"
    }
   ],
   "source": [
    "Model(x[0].to(torch.float32))"
   ]
  },
  {
   "cell_type": "code",
   "execution_count": 13,
   "metadata": {},
   "outputs": [],
   "source": [
    "from typing import Any, Optional\n",
    "import pytorch_lightning as pl\n",
    "from pytorch_lightning.utilities.types import STEP_OUTPUT, TRAIN_DATALOADERS, OptimizerLRScheduler\n",
    "from project.model.CNN1D import simple_cnn1d\n",
    "from torchmetrics.functional import accuracy\n",
    "\n",
    "class PLSimpleCNN1d(pl.LightningModule):\n",
    "    \n",
    "    def __init__(self, input_channels,num_classes,list_down:list,num_hidden=32,*args, **kwargs):\n",
    "        super().__init__()\n",
    "        self.Model=simple_cnn1d(input_channels,num_classes,list_down,num_hidden)\n",
    "        self.LossFunction=torch.nn.CrossEntropyLoss()\n",
    "        self.Optimizer=torch.optim.Adam(self.Model.parameters(),lr=0.01)\n",
    "    def forward(self,x, *args: Any, **kwargs: Any) -> Any:\n",
    "        y=self.Model(x)\n",
    "        return y\n",
    "    def training_step(self, batch,batch_idx,*args: Any, **kwargs: Any) -> STEP_OUTPUT:\n",
    "        self.Optimizer.zero_grad()\n",
    "        x,y=batch\n",
    "        y_hat=Model(x.to(torch.float32))\n",
    "        loss=self.LossFunction(y_hat,y.long()-1)\n",
    "        return {'loss':loss}\n",
    "    def configure_optimizers(self) -> OptimizerLRScheduler:\n",
    "        return self.Optimizer\n",
    "    # def test_step(self,batch,batch_idx, *args: Any, **kwargs: Any) -> STEP_OUTPUT | None:\n",
    "    #     x,y=batch\n",
    "    #     x=x.to(torch.float32)\n",
    "    #     y_hat=self.Model(x)\n",
    "    #     loss=self.LossFunction(y_hat,y)\n",
    "    #     acc=accuracy(y_hat,y)\n",
    "    #     return\n",
    "\n",
    "        "
   ]
  },
  {
   "cell_type": "code",
   "execution_count": 69,
   "metadata": {},
   "outputs": [],
   "source": [
    "from typing import Any, Optional\n",
    "import pytorch_lightning as pl\n",
    "from pytorch_lightning.utilities.types import STEP_OUTPUT, TRAIN_DATALOADERS, OptimizerLRScheduler\n",
    "from project.model.CNN1D import simple_cnn1d\n",
    "from torchmetrics.functional import accuracy\n",
    "from torch.utils.tensorboard import SummaryWriter\n",
    "\n",
    "class TrainModel(pl.LightningModule):\n",
    "    \n",
    "    def __init__(self, net,lossFunction,optimizer,*args, **kwargs):\n",
    "        super().__init__()\n",
    "        self.Writer=SummaryWriter(log_dir=r\"D:\\project_meta\\NNproject\\NNI\\output\\tensorboar_log\")\n",
    "        self.Model=net\n",
    "        self.LossFunction=lossFunction\n",
    "        self.Optimizer=optimizer\n",
    "\n",
    "    def forward(self,x, *args: Any, **kwargs: Any) -> Any:\n",
    "        y=self.Model(x)\n",
    "        return y\n",
    "    def training_step(self, batch,batch_idx,*args: Any, **kwargs: Any) -> STEP_OUTPUT:\n",
    "        self.Optimizer.zero_grad()\n",
    "        x,y=batch\n",
    "        y=y.long()-1\n",
    "        \n",
    "        y_hat=self.Model(x.to(torch.float32))\n",
    "        loss=self.LossFunction(y_hat,y)\n",
    "        # print(type(x),type(y),type(y_hat))\n",
    "        # print(x.shape,y.shape,y_hat.shape)\n",
    "        acc=accuracy(y_hat,y,task='MULTICLASS',num_classes=3)\n",
    "        pbar={'train_acc':acc}\n",
    "        # self.Writer.add_scalar('acc',acc,)\n",
    "        self.log(\"train_acc\", acc, on_step=False, on_epoch=True)\n",
    "        # self.\n",
    "        # print(acc)\n",
    "        return {'loss':loss,'progress_bar':pbar}\n",
    "    def configure_optimizers(self) -> OptimizerLRScheduler:\n",
    "        return self.Optimizer\n",
    "    def validation_step(self,batch,batch_idx, *args: Any, **kwargs: Any) -> STEP_OUTPUT | None:\n",
    "        x,y=batch\n",
    "        y=y.long()-1\n",
    "        x=x.to(torch.float32)\n",
    "        y_hat=self.Model(x)\n",
    "        loss=self.LossFunction(y_hat,y)\n",
    "        acc=accuracy(y_hat,y,task='MULTICLASS',num_classes=3)\n",
    "        self.log(\"test_acc\", acc, on_step=False, on_epoch=True)\n",
    "        return {'loss':loss}\n",
    "\n",
    "        "
   ]
  },
  {
   "cell_type": "markdown",
   "metadata": {},
   "source": [
    "# 训练"
   ]
  },
  {
   "cell_type": "code",
   "execution_count": 73,
   "metadata": {},
   "outputs": [
    {
     "name": "stderr",
     "output_type": "stream",
     "text": [
      "GPU available: False, used: False\n",
      "TPU available: False, using: 0 TPU cores\n",
      "IPU available: False, using: 0 IPUs\n",
      "HPU available: False, using: 0 HPUs\n",
      "g:\\install\\anaconda\\envs\\nni\\lib\\site-packages\\pytorch_lightning\\loops\\utilities.py:72: PossibleUserWarning: `max_epochs` was not set. Setting it to 1000 epochs. To train without an epoch limit, set `max_epochs=-1`.\n",
      "  rank_zero_warn(\n",
      "\n",
      "  | Name         | Type             | Params\n",
      "--------------------------------------------------\n",
      "0 | Model        | simple_cnn1d     | 10.8 K\n",
      "1 | LossFunction | CrossEntropyLoss | 0     \n",
      "--------------------------------------------------\n",
      "10.8 K    Trainable params\n",
      "0         Non-trainable params\n",
      "10.8 K    Total params\n",
      "0.043     Total estimated model params size (MB)\n"
     ]
    },
    {
     "name": "stdout",
     "output_type": "stream",
     "text": [
      "----------------------------------------------------------------\n",
      "        Layer (type)               Output Shape         Param #\n",
      "================================================================\n",
      "            Conv1d-1            [-1, 16, 10240]             576\n",
      "       BatchNorm1d-2            [-1, 16, 10240]              32\n",
      "              ReLU-3            [-1, 16, 10240]               0\n",
      "         MaxPool1d-4             [-1, 16, 5119]               0\n",
      "            Conv1d-5             [-1, 32, 2560]           1,568\n",
      "       BatchNorm1d-6             [-1, 32, 2560]              64\n",
      "              ReLU-7             [-1, 32, 2560]               0\n",
      "            Conv1d-8             [-1, 64, 1280]           6,208\n",
      "       BatchNorm1d-9             [-1, 64, 1280]             128\n",
      "             ReLU-10             [-1, 64, 1280]               0\n",
      "AdaptiveAvgPool1d-11                [-1, 64, 1]               0\n",
      "          Flatten-12                   [-1, 64]               0\n",
      "             ReLU-13                   [-1, 64]               0\n",
      "           Linear-14                   [-1, 32]           2,080\n",
      "             ReLU-15                   [-1, 32]               0\n",
      "           Linear-16                    [-1, 3]              99\n",
      "================================================================\n",
      "Total params: 10,755\n",
      "Trainable params: 10,755\n",
      "Non-trainable params: 0\n",
      "----------------------------------------------------------------\n",
      "Input size (MB): 0.20\n",
      "Forward/backward pass size (MB): 8.13\n",
      "Params size (MB): 0.04\n",
      "Estimated Total Size (MB): 8.36\n",
      "----------------------------------------------------------------\n"
     ]
    },
    {
     "data": {
      "application/vnd.jupyter.widget-view+json": {
       "model_id": "61f13d20810a4cb39c7eeb58c35a2564",
       "version_major": 2,
       "version_minor": 0
      },
      "text/plain": [
       "Sanity Checking: 0it [00:00, ?it/s]"
      ]
     },
     "metadata": {},
     "output_type": "display_data"
    },
    {
     "name": "stderr",
     "output_type": "stream",
     "text": [
      "g:\\install\\anaconda\\envs\\nni\\lib\\site-packages\\pytorch_lightning\\trainer\\connectors\\data_connector.py:442: PossibleUserWarning: The dataloader, val_dataloader, does not have many workers which may be a bottleneck. Consider increasing the value of the `num_workers` argument` (try 20 which is the number of cpus on this machine) in the `DataLoader` init to improve performance.\n",
      "  rank_zero_warn(\n",
      "g:\\install\\anaconda\\envs\\nni\\lib\\site-packages\\pytorch_lightning\\trainer\\connectors\\data_connector.py:442: PossibleUserWarning: The dataloader, train_dataloader, does not have many workers which may be a bottleneck. Consider increasing the value of the `num_workers` argument` (try 20 which is the number of cpus on this machine) in the `DataLoader` init to improve performance.\n",
      "  rank_zero_warn(\n",
      "g:\\install\\anaconda\\envs\\nni\\lib\\site-packages\\pytorch_lightning\\loops\\fit_loop.py:281: PossibleUserWarning: The number of training batches (9) is smaller than the logging interval Trainer(log_every_n_steps=50). Set a lower value for log_every_n_steps if you want to see logs for the training epoch.\n",
      "  rank_zero_warn(\n"
     ]
    },
    {
     "data": {
      "application/vnd.jupyter.widget-view+json": {
       "model_id": "1c561d7169a24b8d9263ba576b209a67",
       "version_major": 2,
       "version_minor": 0
      },
      "text/plain": [
       "Training: 0it [00:00, ?it/s]"
      ]
     },
     "metadata": {},
     "output_type": "display_data"
    },
    {
     "name": "stdout",
     "output_type": "stream",
     "text": [
      "tensor(0.9766)\n",
      "tensor(0.8438)\n",
      "tensor(0.9062)\n",
      "tensor(0.6094)\n",
      "tensor(0.6797)\n",
      "tensor(0.5391)\n",
      "tensor(0.9688)\n",
      "tensor(0.9453)\n",
      "tensor(0.7759)\n"
     ]
    },
    {
     "data": {
      "application/vnd.jupyter.widget-view+json": {
       "model_id": "022a18667fba4f9497943c84779c3f1a",
       "version_major": 2,
       "version_minor": 0
      },
      "text/plain": [
       "Validation: 0it [00:00, ?it/s]"
      ]
     },
     "metadata": {},
     "output_type": "display_data"
    },
    {
     "name": "stdout",
     "output_type": "stream",
     "text": [
      "tensor(0.9375)\n",
      "tensor(0.7891)\n",
      "tensor(0.6562)\n",
      "tensor(0.6484)\n",
      "tensor(0.6250)\n",
      "tensor(0.7891)\n",
      "tensor(0.8203)\n",
      "tensor(0.8516)\n",
      "tensor(0.6466)\n"
     ]
    },
    {
     "data": {
      "application/vnd.jupyter.widget-view+json": {
       "model_id": "3ae70d1d27934c3f8dfdde4f94845c69",
       "version_major": 2,
       "version_minor": 0
      },
      "text/plain": [
       "Validation: 0it [00:00, ?it/s]"
      ]
     },
     "metadata": {},
     "output_type": "display_data"
    },
    {
     "name": "stdout",
     "output_type": "stream",
     "text": [
      "tensor(0.9688)\n",
      "tensor(0.8750)\n",
      "tensor(0.8594)\n",
      "tensor(0.9219)\n",
      "tensor(0.7344)\n",
      "tensor(0.7969)\n",
      "tensor(0.9844)\n",
      "tensor(0.9219)\n",
      "tensor(0.7500)\n"
     ]
    },
    {
     "data": {
      "application/vnd.jupyter.widget-view+json": {
       "model_id": "646fcb44764b43fe9030a4fbf5cdc076",
       "version_major": 2,
       "version_minor": 0
      },
      "text/plain": [
       "Validation: 0it [00:00, ?it/s]"
      ]
     },
     "metadata": {},
     "output_type": "display_data"
    },
    {
     "name": "stdout",
     "output_type": "stream",
     "text": [
      "tensor(0.9844)\n",
      "tensor(0.7500)\n",
      "tensor(0.8906)\n",
      "tensor(0.8594)\n",
      "tensor(0.7344)\n",
      "tensor(0.7578)\n",
      "tensor(0.9922)\n",
      "tensor(0.9609)\n",
      "tensor(0.8103)\n"
     ]
    },
    {
     "data": {
      "application/vnd.jupyter.widget-view+json": {
       "model_id": "207b0e4b76f1477eb9f72b987ce1b79b",
       "version_major": 2,
       "version_minor": 0
      },
      "text/plain": [
       "Validation: 0it [00:00, ?it/s]"
      ]
     },
     "metadata": {},
     "output_type": "display_data"
    },
    {
     "name": "stdout",
     "output_type": "stream",
     "text": [
      "tensor(0.9844)\n",
      "tensor(0.9609)\n",
      "tensor(0.8594)\n",
      "tensor(0.9062)\n",
      "tensor(0.7109)\n",
      "tensor(0.8906)\n",
      "tensor(0.9453)\n",
      "tensor(0.9609)\n",
      "tensor(0.8621)\n"
     ]
    },
    {
     "data": {
      "application/vnd.jupyter.widget-view+json": {
       "model_id": "971b6856e65c453caa22fed176f03c87",
       "version_major": 2,
       "version_minor": 0
      },
      "text/plain": [
       "Validation: 0it [00:00, ?it/s]"
      ]
     },
     "metadata": {},
     "output_type": "display_data"
    },
    {
     "name": "stdout",
     "output_type": "stream",
     "text": [
      "tensor(0.9922)\n",
      "tensor(0.9531)\n",
      "tensor(0.9219)\n",
      "tensor(0.9219)\n",
      "tensor(0.7500)\n",
      "tensor(0.8438)\n",
      "tensor(0.9766)\n",
      "tensor(0.9766)\n",
      "tensor(0.8534)\n"
     ]
    },
    {
     "data": {
      "application/vnd.jupyter.widget-view+json": {
       "model_id": "d40b7b9fc2d440858fdde32f7b1f663e",
       "version_major": 2,
       "version_minor": 0
      },
      "text/plain": [
       "Validation: 0it [00:00, ?it/s]"
      ]
     },
     "metadata": {},
     "output_type": "display_data"
    },
    {
     "name": "stdout",
     "output_type": "stream",
     "text": [
      "tensor(0.9922)\n",
      "tensor(0.9219)\n",
      "tensor(0.9062)\n",
      "tensor(0.9062)\n",
      "tensor(0.4141)\n",
      "tensor(0.8906)\n",
      "tensor(0.9688)\n",
      "tensor(0.9375)\n",
      "tensor(0.8276)\n"
     ]
    },
    {
     "data": {
      "application/vnd.jupyter.widget-view+json": {
       "model_id": "6734c2b6cd034f9ab42f3bf7c7b6d52f",
       "version_major": 2,
       "version_minor": 0
      },
      "text/plain": [
       "Validation: 0it [00:00, ?it/s]"
      ]
     },
     "metadata": {},
     "output_type": "display_data"
    },
    {
     "name": "stdout",
     "output_type": "stream",
     "text": [
      "tensor(1.)\n",
      "tensor(0.9766)\n",
      "tensor(0.9062)\n",
      "tensor(0.8750)\n",
      "tensor(0.4922)\n",
      "tensor(0.7578)\n",
      "tensor(0.9922)\n",
      "tensor(0.9688)\n",
      "tensor(0.8534)\n"
     ]
    },
    {
     "data": {
      "application/vnd.jupyter.widget-view+json": {
       "model_id": "257b53f20fc845e28496206612affebb",
       "version_major": 2,
       "version_minor": 0
      },
      "text/plain": [
       "Validation: 0it [00:00, ?it/s]"
      ]
     },
     "metadata": {},
     "output_type": "display_data"
    },
    {
     "name": "stdout",
     "output_type": "stream",
     "text": [
      "tensor(0.9922)\n",
      "tensor(0.9531)\n",
      "tensor(0.8906)\n",
      "tensor(0.9062)\n",
      "tensor(0.7422)\n",
      "tensor(0.8516)\n",
      "tensor(0.9922)\n",
      "tensor(0.9609)\n",
      "tensor(0.7931)\n"
     ]
    },
    {
     "data": {
      "application/vnd.jupyter.widget-view+json": {
       "model_id": "e95b0e1ad4014879960d9a3b67e67576",
       "version_major": 2,
       "version_minor": 0
      },
      "text/plain": [
       "Validation: 0it [00:00, ?it/s]"
      ]
     },
     "metadata": {},
     "output_type": "display_data"
    },
    {
     "name": "stdout",
     "output_type": "stream",
     "text": [
      "tensor(0.9688)\n",
      "tensor(0.9453)\n",
      "tensor(0.9297)\n",
      "tensor(0.9297)\n",
      "tensor(0.7109)\n",
      "tensor(0.8438)\n",
      "tensor(0.9844)\n",
      "tensor(0.9453)\n",
      "tensor(0.8879)\n"
     ]
    },
    {
     "data": {
      "application/vnd.jupyter.widget-view+json": {
       "model_id": "d028eb892bc14516ad3d308dcd9bcf18",
       "version_major": 2,
       "version_minor": 0
      },
      "text/plain": [
       "Validation: 0it [00:00, ?it/s]"
      ]
     },
     "metadata": {},
     "output_type": "display_data"
    },
    {
     "name": "stdout",
     "output_type": "stream",
     "text": [
      "tensor(0.9453)\n",
      "tensor(0.9844)\n",
      "tensor(0.9141)\n",
      "tensor(0.9062)\n",
      "tensor(0.6172)\n",
      "tensor(0.8359)\n",
      "tensor(0.9844)\n",
      "tensor(0.8594)\n",
      "tensor(0.8276)\n"
     ]
    },
    {
     "data": {
      "application/vnd.jupyter.widget-view+json": {
       "model_id": "3a0604e2c5aa4b4c8ffab6e9b642c558",
       "version_major": 2,
       "version_minor": 0
      },
      "text/plain": [
       "Validation: 0it [00:00, ?it/s]"
      ]
     },
     "metadata": {},
     "output_type": "display_data"
    },
    {
     "name": "stdout",
     "output_type": "stream",
     "text": [
      "tensor(1.)\n",
      "tensor(0.9844)\n",
      "tensor(0.8516)\n",
      "tensor(0.8906)\n",
      "tensor(0.5469)\n",
      "tensor(0.8984)\n",
      "tensor(1.)\n",
      "tensor(0.9531)\n",
      "tensor(0.8276)\n"
     ]
    },
    {
     "data": {
      "application/vnd.jupyter.widget-view+json": {
       "model_id": "af7dcc4d10784c4eb06d216ce1c4d3de",
       "version_major": 2,
       "version_minor": 0
      },
      "text/plain": [
       "Validation: 0it [00:00, ?it/s]"
      ]
     },
     "metadata": {},
     "output_type": "display_data"
    },
    {
     "name": "stdout",
     "output_type": "stream",
     "text": [
      "tensor(0.9844)\n",
      "tensor(0.8438)\n",
      "tensor(0.9062)\n",
      "tensor(0.8047)\n",
      "tensor(0.5938)\n",
      "tensor(0.8359)\n",
      "tensor(0.9375)\n",
      "tensor(0.9219)\n",
      "tensor(0.8190)\n"
     ]
    },
    {
     "data": {
      "application/vnd.jupyter.widget-view+json": {
       "model_id": "8021c37f3d2c433fa97eb5fe10da2d9c",
       "version_major": 2,
       "version_minor": 0
      },
      "text/plain": [
       "Validation: 0it [00:00, ?it/s]"
      ]
     },
     "metadata": {},
     "output_type": "display_data"
    },
    {
     "name": "stdout",
     "output_type": "stream",
     "text": [
      "tensor(0.9766)\n",
      "tensor(0.7656)\n",
      "tensor(0.8281)\n",
      "tensor(0.9297)\n",
      "tensor(0.6094)\n",
      "tensor(0.8359)\n",
      "tensor(0.8281)\n",
      "tensor(0.9531)\n",
      "tensor(0.6724)\n"
     ]
    },
    {
     "data": {
      "application/vnd.jupyter.widget-view+json": {
       "model_id": "4cafde1dfa93431bb5215f5bc4914616",
       "version_major": 2,
       "version_minor": 0
      },
      "text/plain": [
       "Validation: 0it [00:00, ?it/s]"
      ]
     },
     "metadata": {},
     "output_type": "display_data"
    },
    {
     "name": "stdout",
     "output_type": "stream",
     "text": [
      "tensor(0.8047)\n",
      "tensor(0.7266)\n",
      "tensor(0.7266)\n",
      "tensor(0.6562)\n",
      "tensor(0.7266)\n",
      "tensor(0.7109)\n",
      "tensor(0.8203)\n",
      "tensor(0.9531)\n",
      "tensor(0.7414)\n"
     ]
    },
    {
     "data": {
      "application/vnd.jupyter.widget-view+json": {
       "model_id": "d9e44bcf4ba34962815d6648b98ce0f8",
       "version_major": 2,
       "version_minor": 0
      },
      "text/plain": [
       "Validation: 0it [00:00, ?it/s]"
      ]
     },
     "metadata": {},
     "output_type": "display_data"
    },
    {
     "name": "stdout",
     "output_type": "stream",
     "text": [
      "tensor(1.)\n",
      "tensor(0.9219)\n",
      "tensor(0.9297)\n",
      "tensor(0.8047)\n",
      "tensor(0.5156)\n",
      "tensor(0.7422)\n",
      "tensor(0.9922)\n",
      "tensor(0.9453)\n",
      "tensor(0.8276)\n"
     ]
    },
    {
     "data": {
      "application/vnd.jupyter.widget-view+json": {
       "model_id": "0635c34b4f284c9b999b32eca66e7571",
       "version_major": 2,
       "version_minor": 0
      },
      "text/plain": [
       "Validation: 0it [00:00, ?it/s]"
      ]
     },
     "metadata": {},
     "output_type": "display_data"
    },
    {
     "name": "stdout",
     "output_type": "stream",
     "text": [
      "tensor(0.9766)\n",
      "tensor(0.9766)\n",
      "tensor(0.9062)\n",
      "tensor(0.9141)\n",
      "tensor(0.6016)\n",
      "tensor(0.8359)\n",
      "tensor(0.9766)\n",
      "tensor(0.9609)\n",
      "tensor(0.8362)\n"
     ]
    },
    {
     "data": {
      "application/vnd.jupyter.widget-view+json": {
       "model_id": "a5390e732bd34637803ad8450d59237a",
       "version_major": 2,
       "version_minor": 0
      },
      "text/plain": [
       "Validation: 0it [00:00, ?it/s]"
      ]
     },
     "metadata": {},
     "output_type": "display_data"
    },
    {
     "name": "stdout",
     "output_type": "stream",
     "text": [
      "tensor(0.9922)\n",
      "tensor(0.9844)\n",
      "tensor(0.9297)\n",
      "tensor(0.9453)\n",
      "tensor(0.8203)\n",
      "tensor(0.8516)\n",
      "tensor(0.9922)\n",
      "tensor(0.9844)\n",
      "tensor(0.8879)\n"
     ]
    },
    {
     "data": {
      "application/vnd.jupyter.widget-view+json": {
       "model_id": "d9f241e51512404ba8a3cf60217512d4",
       "version_major": 2,
       "version_minor": 0
      },
      "text/plain": [
       "Validation: 0it [00:00, ?it/s]"
      ]
     },
     "metadata": {},
     "output_type": "display_data"
    },
    {
     "name": "stdout",
     "output_type": "stream",
     "text": [
      "tensor(0.9922)\n",
      "tensor(0.9766)\n",
      "tensor(0.9141)\n",
      "tensor(0.9609)\n",
      "tensor(0.7812)\n",
      "tensor(0.8828)\n",
      "tensor(0.9922)\n",
      "tensor(0.9844)\n",
      "tensor(0.8879)\n"
     ]
    },
    {
     "data": {
      "application/vnd.jupyter.widget-view+json": {
       "model_id": "6935d6fb6fc243d5a3a96b77572afce3",
       "version_major": 2,
       "version_minor": 0
      },
      "text/plain": [
       "Validation: 0it [00:00, ?it/s]"
      ]
     },
     "metadata": {},
     "output_type": "display_data"
    },
    {
     "name": "stdout",
     "output_type": "stream",
     "text": [
      "tensor(1.)\n",
      "tensor(0.9844)\n",
      "tensor(0.9141)\n",
      "tensor(0.9531)\n",
      "tensor(0.7891)\n",
      "tensor(0.8906)\n",
      "tensor(1.)\n",
      "tensor(0.9688)\n",
      "tensor(0.8793)\n"
     ]
    },
    {
     "data": {
      "application/vnd.jupyter.widget-view+json": {
       "model_id": "14649ee1e27c44d28a9c64d9930a89e9",
       "version_major": 2,
       "version_minor": 0
      },
      "text/plain": [
       "Validation: 0it [00:00, ?it/s]"
      ]
     },
     "metadata": {},
     "output_type": "display_data"
    },
    {
     "name": "stdout",
     "output_type": "stream",
     "text": [
      "tensor(0.9922)\n",
      "tensor(0.9531)\n",
      "tensor(0.9453)\n",
      "tensor(0.9531)\n",
      "tensor(0.8047)\n",
      "tensor(0.8984)\n",
      "tensor(0.9766)\n"
     ]
    },
    {
     "name": "stderr",
     "output_type": "stream",
     "text": [
      "g:\\install\\anaconda\\envs\\nni\\lib\\site-packages\\pytorch_lightning\\trainer\\call.py:53: UserWarning: Detected KeyboardInterrupt, attempting graceful shutdown...\n",
      "  rank_zero_warn(\"Detected KeyboardInterrupt, attempting graceful shutdown...\")\n"
     ]
    }
   ],
   "source": [
    "from pytorch_lightning import loggers\n",
    "logger=loggers.TensorBoardLogger(save_dir=r'D:\\project_meta\\NNproject\\NNI\\notebook\\TraineSummery\\EEG\\EndToEnd\\TESST_LOG_PATH',name='E2E_SampleCNN1D_IDSplit')\n",
    "net=TrainModel(Model,torch.nn.CrossEntropyLoss(),optimizer=torch.optim.Adam(Model.parameters(),lr=0.01))\n",
    "summary(net,(5,4*2560),device='cpu')\n",
    "trainer=pl.Trainer(logger=logger)\n",
    "trainer.fit(net,train_dataloaders=trainDataloader,val_dataloaders=testDataloader)"
   ]
  },
  {
   "cell_type": "code",
   "execution_count": 90,
   "metadata": {},
   "outputs": [
    {
     "data": {
      "text/plain": [
       "torch.Size([4])"
      ]
     },
     "execution_count": 90,
     "metadata": {},
     "output_type": "execute_result"
    }
   ],
   "source": [
    "target = torch.tensor([0,0, 1, 2])\n",
    "preds = torch.tensor([[0.1, 0.9, 0],[0.1, 0.9, 0], [0.3, 0.1, 0.6], [0.2, 0.5, 0.3]])\n",
    "accuracy(preds, target, task=\"multiclass\", num_classes=3, top_k=2)\n",
    "\n",
    "target.shape"
   ]
  },
  {
   "cell_type": "code",
   "execution_count": 91,
   "metadata": {},
   "outputs": [
    {
     "name": "stdout",
     "output_type": "stream",
     "text": [
      "torch.Size([128, 3])\n"
     ]
    },
    {
     "data": {
      "text/plain": [
       "tensor(0.3594)"
      ]
     },
     "execution_count": 91,
     "metadata": {},
     "output_type": "execute_result"
    }
   ],
   "source": [
    "batch=next(iter(eegDataloader))\n",
    "x=batch[0].to(torch.float32)\n",
    "y_hat=net(x)\n",
    "print(y_hat.shape)\n",
    "y=batch[1]-1\n",
    "accuracy(y_hat,y,task='MULTICLASS',num_classes=3)"
   ]
  }
 ],
 "metadata": {
  "kernelspec": {
   "display_name": "nni",
   "language": "python",
   "name": "python3"
  },
  "language_info": {
   "codemirror_mode": {
    "name": "ipython",
    "version": 3
   },
   "file_extension": ".py",
   "mimetype": "text/x-python",
   "name": "python",
   "nbconvert_exporter": "python",
   "pygments_lexer": "ipython3",
   "version": "3.10.13"
  }
 },
 "nbformat": 4,
 "nbformat_minor": 2
}
