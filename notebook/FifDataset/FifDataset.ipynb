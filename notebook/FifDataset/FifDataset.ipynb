{
 "cells": [
  {
   "cell_type": "markdown",
   "metadata": {},
   "source": [
    "# 设定路径"
   ]
  },
  {
   "cell_type": "code",
   "execution_count": 1,
   "metadata": {},
   "outputs": [
    {
     "name": "stdout",
     "output_type": "stream",
     "text": [
      "D:\\project_meta\\NNproject\\NNI\n"
     ]
    }
   ],
   "source": [
    "def setProjectPath(projectPath):\n",
    "    import os\n",
    "    import sys\n",
    "    root=os.path.abspath(projectPath)\n",
    "    print(root)\n",
    "    sys.path.append(root)\n",
    "    os.environ[\"TORCH_HOME\"]=r\"E:\\Data\\torch-model\"\n",
    "    import warnings  \n",
    "    warnings.filterwarnings(\"ignore\", category=RuntimeWarning, module=\"mne\")\n",
    "\n",
    "projectPath=r'D:\\project_meta\\NNproject\\NNI'\n",
    "setProjectPath(projectPath)"
   ]
  },
  {
   "cell_type": "code",
   "execution_count": 2,
   "metadata": {},
   "outputs": [],
   "source": [
    "from project.dataset.BaseDataset import TableControlFifDataset\n",
    "import pandas as pd\n",
    "infoTable=pd.read_csv(r'D:\\project_meta\\NNproject\\NNI\\output\\noncross.csv')\n",
    "uniformFifFolderPath=r'D:\\project_meta\\NNproject\\NNI\\output\\psg_uniformfilted'\n",
    "fifSignalDataset=TableControlFifDataset(infoTable,uniformFifFolderPath)"
   ]
  },
  {
   "cell_type": "code",
   "execution_count": 4,
   "metadata": {},
   "outputs": [
    {
     "data": {
      "text/plain": [
       "(5, 2560)"
      ]
     },
     "execution_count": 4,
     "metadata": {},
     "output_type": "execute_result"
    }
   ],
   "source": [
    "fifSignalDataset[0]['data'].shape"
   ]
  },
  {
   "cell_type": "code",
   "execution_count": null,
   "metadata": {},
   "outputs": [],
   "source": []
  }
 ],
 "metadata": {
  "kernelspec": {
   "display_name": "nni",
   "language": "python",
   "name": "python3"
  },
  "language_info": {
   "codemirror_mode": {
    "name": "ipython",
    "version": 3
   },
   "file_extension": ".py",
   "mimetype": "text/x-python",
   "name": "python",
   "nbconvert_exporter": "python",
   "pygments_lexer": "ipython3",
   "version": "3.10.13"
  }
 },
 "nbformat": 4,
 "nbformat_minor": 2
}
