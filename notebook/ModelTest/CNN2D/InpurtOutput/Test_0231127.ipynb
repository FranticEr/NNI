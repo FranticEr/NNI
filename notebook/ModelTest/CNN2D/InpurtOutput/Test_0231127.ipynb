{
 "cells": [
  {
   "cell_type": "code",
   "execution_count": null,
   "metadata": {},
   "outputs": [],
   "source": []
  },
  {
   "cell_type": "code",
   "execution_count": 1,
   "metadata": {},
   "outputs": [],
   "source": [
    "def setProjectPath(projectPath):\n",
    "    import os\n",
    "    import sys\n",
    "    root=os.path.abspath(projectPath)\n",
    "    print(root)\n",
    "    sys.path.append(root)\n",
    "    os.environ[\"TORCH_HOME\"]=r\"E:\\Data\\torch-model\"\n",
    "    import warnings  \n",
    "    warnings.filterwarnings(\"ignore\", category=RuntimeWarning, module=\"mne\")\n"
   ]
  },
  {
   "cell_type": "code",
   "execution_count": 2,
   "metadata": {},
   "outputs": [
    {
     "name": "stdout",
     "output_type": "stream",
     "text": [
      "D:\\project_meta\\NNproject\\NNI\n",
      "{'annotation_auto_folder': 'D:\\\\dataset\\\\driver_dataset\\\\DROZY\\\\DROZY\\\\annotations-auto',\n",
      " 'annotation_manual_folder': 'D:\\\\dataset\\\\driver_dataset\\\\DROZY\\\\DROZY\\\\annotations-manual',\n",
      " 'kinect_file': 'D:\\\\dataset\\\\driver_dataset\\\\DROZY\\\\DROZY\\\\kinect-intrinsics.yaml',\n",
      " 'kss_file': 'D:\\\\dataset\\\\driver_dataset\\\\DROZY\\\\DROZY\\\\KSS.txt',\n",
      " 'psg_folder': 'D:\\\\dataset\\\\driver_dataset\\\\DROZY\\\\DROZY\\\\psg',\n",
      " 'pvt_rt_folder': 'D:\\\\dataset\\\\driver_dataset\\\\DROZY\\\\DROZY\\\\pvt-rt',\n",
      " 'videos_folder': 'D:\\\\dataset\\\\driver_dataset\\\\DROZY\\\\DROZY\\\\videos_i8'}\n",
      "{'ECG_filted_folder': 'D:\\\\project_meta\\\\NNproject\\\\NNI\\\\output\\\\psg_filted\\\\ECG',\n",
      " 'ECG_table_file': 'D:\\\\project_meta\\\\NNproject\\\\NNI\\\\output\\\\ECG_table.csv',\n",
      " 'ECG_uniformfilted_folder': 'D:\\\\project_meta\\\\NNproject\\\\NNI\\\\output\\\\psg_filted\\\\ECG',\n",
      " 'EEG_filted_folder': 'D:\\\\project_meta\\\\NNproject\\\\NNI\\\\output\\\\psg_filted\\\\EEG',\n",
      " 'EEG_table_file': 'D:\\\\project_meta\\\\NNproject\\\\NNI\\\\output\\\\EEG_table.csv',\n",
      " 'EEG_uniformfilted_folder': 'D:\\\\project_meta\\\\NNproject\\\\NNI\\\\output\\\\psg_filted\\\\EEG',\n",
      " 'bandpower_file': 'D:\\\\project_meta\\\\NNproject\\\\NNI\\\\output\\\\bandpower.csv',\n",
      " 'cwt_folder': 'D:\\\\project_meta\\\\NNproject\\\\NNI\\\\output\\\\cwt',\n",
      " 'face_kss_frames_folder': 'D:\\\\project_meta\\\\NNproject\\\\NNI\\\\output\\\\video_frames\\\\face_kss_frames',\n",
      " 'face_level_frames_folder': 'D:\\\\project_meta\\\\NNproject\\\\NNI\\\\output\\\\video_frames\\\\face_level_frames',\n",
      " 'filted_folder': 'D:\\\\project_meta\\\\NNproject\\\\NNI\\\\output\\\\psg_filted',\n",
      " 'info_file': 'D:\\\\project_meta\\\\NNproject\\\\NNI\\\\output\\\\info.csv',\n",
      " 'kss_frames_folder': 'D:\\\\project_meta\\\\NNproject\\\\NNI\\\\output\\\\video_frames\\\\kss_frames',\n",
      " 'level_frames_folder': 'D:\\\\project_meta\\\\NNproject\\\\NNI\\\\output\\\\video_frames\\\\level_frames',\n",
      " 'nomalfilted_folder': 'D:\\\\project_meta\\\\NNproject\\\\NNI\\\\output\\\\psg_nomalfilted',\n",
      " 'noncross_file': 'D:\\\\project_meta\\\\NNproject\\\\NNI\\\\output\\\\noncross.csv',\n",
      " 'uniformbandpower_file': 'D:\\\\project_meta\\\\NNproject\\\\NNI\\\\output\\\\uniformbandpower.csv',\n",
      " 'uniformfilted_folder': 'D:\\\\project_meta\\\\NNproject\\\\NNI\\\\output\\\\psg_uniformfilted',\n",
      " 'video_frames_folder': 'D:\\\\project_meta\\\\NNproject\\\\NNI\\\\output\\\\video_frames',\n",
      " 'windowsTable': 'D:\\\\project_meta\\\\NNproject\\\\NNI\\\\output\\\\windowsTable.csv'}\n"
     ]
    }
   ],
   "source": [
    "projectPath=r'D:\\project_meta\\NNproject\\NNI'\n",
    "setProjectPath(projectPath)\n",
    "import mne\n",
    "datasetFolder=r'D:\\dataset\\driver_dataset\\DROZY\\DROZY'\n",
    "outputFolder=r'D:\\project_meta\\NNproject\\NNI\\output'\n",
    "from project.dataprocess.FolderTree import *\n",
    "datasetDict=getDataPath(datasetFolder)\n",
    "outputDict=getOutPath(outputFolder)\n",
    "import pprint\n",
    "pprint.pprint(datasetDict)\n",
    "pprint.pprint(outputDict)"
   ]
  },
  {
   "cell_type": "markdown",
   "metadata": {},
   "source": [
    "# 模型"
   ]
  },
  {
   "cell_type": "code",
   "execution_count": 3,
   "metadata": {},
   "outputs": [],
   "source": [
    "from project.model.CNN1D import *\n",
    "from torchvision.datasets import *\n",
    "from torchvision.transforms import *\n",
    "import torchvision\n",
    "train_transforms = torchvision.transforms.Compose([\n",
    "    torchvision.transforms.ToTensor(),\n",
    "])\n",
    "MNISTDataset=FashionMNIST(root=r'D:/dataset',transform=train_transforms)\n"
   ]
  },
  {
   "cell_type": "code",
   "execution_count": 4,
   "metadata": {},
   "outputs": [],
   "source": [
    "from typing import Any, Optional\n",
    "import pytorch_lightning as pl\n",
    "from pytorch_lightning.utilities.types import STEP_OUTPUT\n",
    "from torchmetrics.functional import accuracy\n",
    "class Base(pl.LightningModule):\n",
    "    def __init__(self, net,classes,lossFuncthion,optimizer,lrScheduler,*args: Any, **kwargs: Any) -> None:\n",
    "        super().__init__(*args, **kwargs)  \n",
    "        self.Net=net\n",
    "        self.LossFunction=nn.CrossEntropyLoss()\n",
    "        self.Optimizer=optimizer\n",
    "        self.classes=classes\n",
    "        \n",
    "        # self.LrScheduler=lrScheduler\n",
    "\n",
    "    def forward(self,x, *args: Any, **kwargs: Any) -> Any:\n",
    "        y=self.Net(x)\n",
    "        return y#torch.rand([1,10])\n",
    "    def configure_optimizers(self) -> Any:\n",
    "        return [self.Optimizer]\n",
    "    def training_step(self, batch,*args: Any, **kwargs: Any) -> STEP_OUTPUT:\n",
    "        x,y=batch\n",
    "        y_hat=self.forward(x)\n",
    "        loss=self.LossFunction(y_hat,y)\n",
    "        acc=accuracy(y_hat,y,task='multiclass',num_classes=self.classes)\n",
    "        self.log(\"train_acc\", acc, on_step=True, on_epoch=True)\n",
    "        self.log(\"trainloss\", loss, on_step=True, on_epoch=True)\n",
    "        return {'loss':loss}\n",
    "    def validation_step(self,batch, *args: Any, **kwargs: Any) -> STEP_OUTPUT | None:\n",
    "        x,y=batch\n",
    "        y_hat=self.Net(x)\n",
    "        loss=self.LossFunction(y_hat,y)\n",
    "        acc=accuracy(y_hat,y,task='multiclass',num_classes=self.classes)\n",
    "        self.log(\"test_acc\", acc, on_step=False, on_epoch=True)\n",
    "        self.log(\"testloss\", loss, on_step=False, on_epoch=True)\n",
    "        return {'loss':loss}\n",
    "        "
   ]
  },
  {
   "cell_type": "code",
   "execution_count": 6,
   "metadata": {},
   "outputs": [
    {
     "name": "stderr",
     "output_type": "stream",
     "text": [
      "g:\\install\\anaconda\\envs\\nni\\lib\\site-packages\\torchvision\\models\\_utils.py:135: UserWarning: Using 'weights' as positional parameter(s) is deprecated since 0.13 and may be removed in the future. Please use keyword parameter(s) instead.\n",
      "  warnings.warn(\n"
     ]
    },
    {
     "data": {
      "text/plain": [
       "Base(\n",
       "  (Net): ResNet(\n",
       "    (conv1): Conv2d(1, 64, kernel_size=(7, 7), stride=(2, 2), padding=(3, 3), bias=False)\n",
       "    (bn1): BatchNorm2d(64, eps=1e-05, momentum=0.1, affine=True, track_running_stats=True)\n",
       "    (relu): ReLU(inplace=True)\n",
       "    (maxpool): MaxPool2d(kernel_size=3, stride=2, padding=1, dilation=1, ceil_mode=False)\n",
       "    (layer1): Sequential(\n",
       "      (0): Bottleneck(\n",
       "        (conv1): Conv2d(64, 64, kernel_size=(1, 1), stride=(1, 1), bias=False)\n",
       "        (bn1): BatchNorm2d(64, eps=1e-05, momentum=0.1, affine=True, track_running_stats=True)\n",
       "        (conv2): Conv2d(64, 64, kernel_size=(3, 3), stride=(1, 1), padding=(1, 1), bias=False)\n",
       "        (bn2): BatchNorm2d(64, eps=1e-05, momentum=0.1, affine=True, track_running_stats=True)\n",
       "        (conv3): Conv2d(64, 256, kernel_size=(1, 1), stride=(1, 1), bias=False)\n",
       "        (bn3): BatchNorm2d(256, eps=1e-05, momentum=0.1, affine=True, track_running_stats=True)\n",
       "        (relu): ReLU(inplace=True)\n",
       "        (downsample): Sequential(\n",
       "          (0): Conv2d(64, 256, kernel_size=(1, 1), stride=(1, 1), bias=False)\n",
       "          (1): BatchNorm2d(256, eps=1e-05, momentum=0.1, affine=True, track_running_stats=True)\n",
       "        )\n",
       "      )\n",
       "      (1): Bottleneck(\n",
       "        (conv1): Conv2d(256, 64, kernel_size=(1, 1), stride=(1, 1), bias=False)\n",
       "        (bn1): BatchNorm2d(64, eps=1e-05, momentum=0.1, affine=True, track_running_stats=True)\n",
       "        (conv2): Conv2d(64, 64, kernel_size=(3, 3), stride=(1, 1), padding=(1, 1), bias=False)\n",
       "        (bn2): BatchNorm2d(64, eps=1e-05, momentum=0.1, affine=True, track_running_stats=True)\n",
       "        (conv3): Conv2d(64, 256, kernel_size=(1, 1), stride=(1, 1), bias=False)\n",
       "        (bn3): BatchNorm2d(256, eps=1e-05, momentum=0.1, affine=True, track_running_stats=True)\n",
       "        (relu): ReLU(inplace=True)\n",
       "      )\n",
       "      (2): Bottleneck(\n",
       "        (conv1): Conv2d(256, 64, kernel_size=(1, 1), stride=(1, 1), bias=False)\n",
       "        (bn1): BatchNorm2d(64, eps=1e-05, momentum=0.1, affine=True, track_running_stats=True)\n",
       "        (conv2): Conv2d(64, 64, kernel_size=(3, 3), stride=(1, 1), padding=(1, 1), bias=False)\n",
       "        (bn2): BatchNorm2d(64, eps=1e-05, momentum=0.1, affine=True, track_running_stats=True)\n",
       "        (conv3): Conv2d(64, 256, kernel_size=(1, 1), stride=(1, 1), bias=False)\n",
       "        (bn3): BatchNorm2d(256, eps=1e-05, momentum=0.1, affine=True, track_running_stats=True)\n",
       "        (relu): ReLU(inplace=True)\n",
       "      )\n",
       "    )\n",
       "    (layer2): Sequential(\n",
       "      (0): Bottleneck(\n",
       "        (conv1): Conv2d(256, 128, kernel_size=(1, 1), stride=(1, 1), bias=False)\n",
       "        (bn1): BatchNorm2d(128, eps=1e-05, momentum=0.1, affine=True, track_running_stats=True)\n",
       "        (conv2): Conv2d(128, 128, kernel_size=(3, 3), stride=(2, 2), padding=(1, 1), bias=False)\n",
       "        (bn2): BatchNorm2d(128, eps=1e-05, momentum=0.1, affine=True, track_running_stats=True)\n",
       "        (conv3): Conv2d(128, 512, kernel_size=(1, 1), stride=(1, 1), bias=False)\n",
       "        (bn3): BatchNorm2d(512, eps=1e-05, momentum=0.1, affine=True, track_running_stats=True)\n",
       "        (relu): ReLU(inplace=True)\n",
       "        (downsample): Sequential(\n",
       "          (0): Conv2d(256, 512, kernel_size=(1, 1), stride=(2, 2), bias=False)\n",
       "          (1): BatchNorm2d(512, eps=1e-05, momentum=0.1, affine=True, track_running_stats=True)\n",
       "        )\n",
       "      )\n",
       "      (1): Bottleneck(\n",
       "        (conv1): Conv2d(512, 128, kernel_size=(1, 1), stride=(1, 1), bias=False)\n",
       "        (bn1): BatchNorm2d(128, eps=1e-05, momentum=0.1, affine=True, track_running_stats=True)\n",
       "        (conv2): Conv2d(128, 128, kernel_size=(3, 3), stride=(1, 1), padding=(1, 1), bias=False)\n",
       "        (bn2): BatchNorm2d(128, eps=1e-05, momentum=0.1, affine=True, track_running_stats=True)\n",
       "        (conv3): Conv2d(128, 512, kernel_size=(1, 1), stride=(1, 1), bias=False)\n",
       "        (bn3): BatchNorm2d(512, eps=1e-05, momentum=0.1, affine=True, track_running_stats=True)\n",
       "        (relu): ReLU(inplace=True)\n",
       "      )\n",
       "      (2): Bottleneck(\n",
       "        (conv1): Conv2d(512, 128, kernel_size=(1, 1), stride=(1, 1), bias=False)\n",
       "        (bn1): BatchNorm2d(128, eps=1e-05, momentum=0.1, affine=True, track_running_stats=True)\n",
       "        (conv2): Conv2d(128, 128, kernel_size=(3, 3), stride=(1, 1), padding=(1, 1), bias=False)\n",
       "        (bn2): BatchNorm2d(128, eps=1e-05, momentum=0.1, affine=True, track_running_stats=True)\n",
       "        (conv3): Conv2d(128, 512, kernel_size=(1, 1), stride=(1, 1), bias=False)\n",
       "        (bn3): BatchNorm2d(512, eps=1e-05, momentum=0.1, affine=True, track_running_stats=True)\n",
       "        (relu): ReLU(inplace=True)\n",
       "      )\n",
       "      (3): Bottleneck(\n",
       "        (conv1): Conv2d(512, 128, kernel_size=(1, 1), stride=(1, 1), bias=False)\n",
       "        (bn1): BatchNorm2d(128, eps=1e-05, momentum=0.1, affine=True, track_running_stats=True)\n",
       "        (conv2): Conv2d(128, 128, kernel_size=(3, 3), stride=(1, 1), padding=(1, 1), bias=False)\n",
       "        (bn2): BatchNorm2d(128, eps=1e-05, momentum=0.1, affine=True, track_running_stats=True)\n",
       "        (conv3): Conv2d(128, 512, kernel_size=(1, 1), stride=(1, 1), bias=False)\n",
       "        (bn3): BatchNorm2d(512, eps=1e-05, momentum=0.1, affine=True, track_running_stats=True)\n",
       "        (relu): ReLU(inplace=True)\n",
       "      )\n",
       "    )\n",
       "    (layer3): Sequential(\n",
       "      (0): Bottleneck(\n",
       "        (conv1): Conv2d(512, 256, kernel_size=(1, 1), stride=(1, 1), bias=False)\n",
       "        (bn1): BatchNorm2d(256, eps=1e-05, momentum=0.1, affine=True, track_running_stats=True)\n",
       "        (conv2): Conv2d(256, 256, kernel_size=(3, 3), stride=(2, 2), padding=(1, 1), bias=False)\n",
       "        (bn2): BatchNorm2d(256, eps=1e-05, momentum=0.1, affine=True, track_running_stats=True)\n",
       "        (conv3): Conv2d(256, 1024, kernel_size=(1, 1), stride=(1, 1), bias=False)\n",
       "        (bn3): BatchNorm2d(1024, eps=1e-05, momentum=0.1, affine=True, track_running_stats=True)\n",
       "        (relu): ReLU(inplace=True)\n",
       "        (downsample): Sequential(\n",
       "          (0): Conv2d(512, 1024, kernel_size=(1, 1), stride=(2, 2), bias=False)\n",
       "          (1): BatchNorm2d(1024, eps=1e-05, momentum=0.1, affine=True, track_running_stats=True)\n",
       "        )\n",
       "      )\n",
       "      (1): Bottleneck(\n",
       "        (conv1): Conv2d(1024, 256, kernel_size=(1, 1), stride=(1, 1), bias=False)\n",
       "        (bn1): BatchNorm2d(256, eps=1e-05, momentum=0.1, affine=True, track_running_stats=True)\n",
       "        (conv2): Conv2d(256, 256, kernel_size=(3, 3), stride=(1, 1), padding=(1, 1), bias=False)\n",
       "        (bn2): BatchNorm2d(256, eps=1e-05, momentum=0.1, affine=True, track_running_stats=True)\n",
       "        (conv3): Conv2d(256, 1024, kernel_size=(1, 1), stride=(1, 1), bias=False)\n",
       "        (bn3): BatchNorm2d(1024, eps=1e-05, momentum=0.1, affine=True, track_running_stats=True)\n",
       "        (relu): ReLU(inplace=True)\n",
       "      )\n",
       "      (2): Bottleneck(\n",
       "        (conv1): Conv2d(1024, 256, kernel_size=(1, 1), stride=(1, 1), bias=False)\n",
       "        (bn1): BatchNorm2d(256, eps=1e-05, momentum=0.1, affine=True, track_running_stats=True)\n",
       "        (conv2): Conv2d(256, 256, kernel_size=(3, 3), stride=(1, 1), padding=(1, 1), bias=False)\n",
       "        (bn2): BatchNorm2d(256, eps=1e-05, momentum=0.1, affine=True, track_running_stats=True)\n",
       "        (conv3): Conv2d(256, 1024, kernel_size=(1, 1), stride=(1, 1), bias=False)\n",
       "        (bn3): BatchNorm2d(1024, eps=1e-05, momentum=0.1, affine=True, track_running_stats=True)\n",
       "        (relu): ReLU(inplace=True)\n",
       "      )\n",
       "      (3): Bottleneck(\n",
       "        (conv1): Conv2d(1024, 256, kernel_size=(1, 1), stride=(1, 1), bias=False)\n",
       "        (bn1): BatchNorm2d(256, eps=1e-05, momentum=0.1, affine=True, track_running_stats=True)\n",
       "        (conv2): Conv2d(256, 256, kernel_size=(3, 3), stride=(1, 1), padding=(1, 1), bias=False)\n",
       "        (bn2): BatchNorm2d(256, eps=1e-05, momentum=0.1, affine=True, track_running_stats=True)\n",
       "        (conv3): Conv2d(256, 1024, kernel_size=(1, 1), stride=(1, 1), bias=False)\n",
       "        (bn3): BatchNorm2d(1024, eps=1e-05, momentum=0.1, affine=True, track_running_stats=True)\n",
       "        (relu): ReLU(inplace=True)\n",
       "      )\n",
       "      (4): Bottleneck(\n",
       "        (conv1): Conv2d(1024, 256, kernel_size=(1, 1), stride=(1, 1), bias=False)\n",
       "        (bn1): BatchNorm2d(256, eps=1e-05, momentum=0.1, affine=True, track_running_stats=True)\n",
       "        (conv2): Conv2d(256, 256, kernel_size=(3, 3), stride=(1, 1), padding=(1, 1), bias=False)\n",
       "        (bn2): BatchNorm2d(256, eps=1e-05, momentum=0.1, affine=True, track_running_stats=True)\n",
       "        (conv3): Conv2d(256, 1024, kernel_size=(1, 1), stride=(1, 1), bias=False)\n",
       "        (bn3): BatchNorm2d(1024, eps=1e-05, momentum=0.1, affine=True, track_running_stats=True)\n",
       "        (relu): ReLU(inplace=True)\n",
       "      )\n",
       "      (5): Bottleneck(\n",
       "        (conv1): Conv2d(1024, 256, kernel_size=(1, 1), stride=(1, 1), bias=False)\n",
       "        (bn1): BatchNorm2d(256, eps=1e-05, momentum=0.1, affine=True, track_running_stats=True)\n",
       "        (conv2): Conv2d(256, 256, kernel_size=(3, 3), stride=(1, 1), padding=(1, 1), bias=False)\n",
       "        (bn2): BatchNorm2d(256, eps=1e-05, momentum=0.1, affine=True, track_running_stats=True)\n",
       "        (conv3): Conv2d(256, 1024, kernel_size=(1, 1), stride=(1, 1), bias=False)\n",
       "        (bn3): BatchNorm2d(1024, eps=1e-05, momentum=0.1, affine=True, track_running_stats=True)\n",
       "        (relu): ReLU(inplace=True)\n",
       "      )\n",
       "    )\n",
       "    (layer4): Sequential(\n",
       "      (0): Bottleneck(\n",
       "        (conv1): Conv2d(1024, 512, kernel_size=(1, 1), stride=(1, 1), bias=False)\n",
       "        (bn1): BatchNorm2d(512, eps=1e-05, momentum=0.1, affine=True, track_running_stats=True)\n",
       "        (conv2): Conv2d(512, 512, kernel_size=(3, 3), stride=(2, 2), padding=(1, 1), bias=False)\n",
       "        (bn2): BatchNorm2d(512, eps=1e-05, momentum=0.1, affine=True, track_running_stats=True)\n",
       "        (conv3): Conv2d(512, 2048, kernel_size=(1, 1), stride=(1, 1), bias=False)\n",
       "        (bn3): BatchNorm2d(2048, eps=1e-05, momentum=0.1, affine=True, track_running_stats=True)\n",
       "        (relu): ReLU(inplace=True)\n",
       "        (downsample): Sequential(\n",
       "          (0): Conv2d(1024, 2048, kernel_size=(1, 1), stride=(2, 2), bias=False)\n",
       "          (1): BatchNorm2d(2048, eps=1e-05, momentum=0.1, affine=True, track_running_stats=True)\n",
       "        )\n",
       "      )\n",
       "      (1): Bottleneck(\n",
       "        (conv1): Conv2d(2048, 512, kernel_size=(1, 1), stride=(1, 1), bias=False)\n",
       "        (bn1): BatchNorm2d(512, eps=1e-05, momentum=0.1, affine=True, track_running_stats=True)\n",
       "        (conv2): Conv2d(512, 512, kernel_size=(3, 3), stride=(1, 1), padding=(1, 1), bias=False)\n",
       "        (bn2): BatchNorm2d(512, eps=1e-05, momentum=0.1, affine=True, track_running_stats=True)\n",
       "        (conv3): Conv2d(512, 2048, kernel_size=(1, 1), stride=(1, 1), bias=False)\n",
       "        (bn3): BatchNorm2d(2048, eps=1e-05, momentum=0.1, affine=True, track_running_stats=True)\n",
       "        (relu): ReLU(inplace=True)\n",
       "      )\n",
       "      (2): Bottleneck(\n",
       "        (conv1): Conv2d(2048, 512, kernel_size=(1, 1), stride=(1, 1), bias=False)\n",
       "        (bn1): BatchNorm2d(512, eps=1e-05, momentum=0.1, affine=True, track_running_stats=True)\n",
       "        (conv2): Conv2d(512, 512, kernel_size=(3, 3), stride=(1, 1), padding=(1, 1), bias=False)\n",
       "        (bn2): BatchNorm2d(512, eps=1e-05, momentum=0.1, affine=True, track_running_stats=True)\n",
       "        (conv3): Conv2d(512, 2048, kernel_size=(1, 1), stride=(1, 1), bias=False)\n",
       "        (bn3): BatchNorm2d(2048, eps=1e-05, momentum=0.1, affine=True, track_running_stats=True)\n",
       "        (relu): ReLU(inplace=True)\n",
       "      )\n",
       "    )\n",
       "    (avgpool): AdaptiveAvgPool2d(output_size=(1, 1))\n",
       "    (fc): Linear(in_features=2048, out_features=10, bias=True)\n",
       "  )\n",
       "  (LossFunction): CrossEntropyLoss()\n",
       ")"
      ]
     },
     "execution_count": 6,
     "metadata": {},
     "output_type": "execute_result"
    }
   ],
   "source": [
    "from torchsummary import summary\n",
    "from project.model.MLP import *\n",
    "from torchvision.models import resnet50,ResNet50_Weights\n",
    "net=resnet50(ResNet50_Weights.DEFAULT)\n",
    "net.conv1=torch.nn.Conv2d(1, 64, kernel_size=(7, 7), stride=(2, 2), padding=(3, 3), bias=False)\n",
    "net.fc= torch.nn.Linear(in_features=2048, out_features=10, bias=True)\n",
    "Base(net,10,nn.CrossEntropyLoss(),torch.optim.Adam(net.parameters(),lr=0.01),lrScheduler=None)\n"
   ]
  },
  {
   "cell_type": "code",
   "execution_count": 7,
   "metadata": {},
   "outputs": [
    {
     "name": "stdout",
     "output_type": "stream",
     "text": [
      "----------------------------------------------------------------\n",
      "        Layer (type)               Output Shape         Param #\n",
      "================================================================\n",
      "            Conv2d-1            [2, 64, 14, 14]           3,136\n",
      "       BatchNorm2d-2            [2, 64, 14, 14]             128\n",
      "              ReLU-3            [2, 64, 14, 14]               0\n",
      "         MaxPool2d-4              [2, 64, 7, 7]               0\n",
      "            Conv2d-5              [2, 64, 7, 7]           4,096\n",
      "       BatchNorm2d-6              [2, 64, 7, 7]             128\n",
      "              ReLU-7              [2, 64, 7, 7]               0\n",
      "            Conv2d-8              [2, 64, 7, 7]          36,864\n",
      "       BatchNorm2d-9              [2, 64, 7, 7]             128\n",
      "             ReLU-10              [2, 64, 7, 7]               0\n",
      "           Conv2d-11             [2, 256, 7, 7]          16,384\n",
      "      BatchNorm2d-12             [2, 256, 7, 7]             512\n",
      "           Conv2d-13             [2, 256, 7, 7]          16,384\n",
      "      BatchNorm2d-14             [2, 256, 7, 7]             512\n",
      "             ReLU-15             [2, 256, 7, 7]               0\n",
      "       Bottleneck-16             [2, 256, 7, 7]               0\n",
      "           Conv2d-17              [2, 64, 7, 7]          16,384\n",
      "      BatchNorm2d-18              [2, 64, 7, 7]             128\n",
      "             ReLU-19              [2, 64, 7, 7]               0\n",
      "           Conv2d-20              [2, 64, 7, 7]          36,864\n",
      "      BatchNorm2d-21              [2, 64, 7, 7]             128\n",
      "             ReLU-22              [2, 64, 7, 7]               0\n",
      "           Conv2d-23             [2, 256, 7, 7]          16,384\n",
      "      BatchNorm2d-24             [2, 256, 7, 7]             512\n",
      "             ReLU-25             [2, 256, 7, 7]               0\n",
      "       Bottleneck-26             [2, 256, 7, 7]               0\n",
      "           Conv2d-27              [2, 64, 7, 7]          16,384\n",
      "      BatchNorm2d-28              [2, 64, 7, 7]             128\n",
      "             ReLU-29              [2, 64, 7, 7]               0\n",
      "           Conv2d-30              [2, 64, 7, 7]          36,864\n",
      "      BatchNorm2d-31              [2, 64, 7, 7]             128\n",
      "             ReLU-32              [2, 64, 7, 7]               0\n",
      "           Conv2d-33             [2, 256, 7, 7]          16,384\n",
      "      BatchNorm2d-34             [2, 256, 7, 7]             512\n",
      "             ReLU-35             [2, 256, 7, 7]               0\n",
      "       Bottleneck-36             [2, 256, 7, 7]               0\n",
      "           Conv2d-37             [2, 128, 7, 7]          32,768\n",
      "      BatchNorm2d-38             [2, 128, 7, 7]             256\n",
      "             ReLU-39             [2, 128, 7, 7]               0\n",
      "           Conv2d-40             [2, 128, 4, 4]         147,456\n",
      "      BatchNorm2d-41             [2, 128, 4, 4]             256\n",
      "             ReLU-42             [2, 128, 4, 4]               0\n",
      "           Conv2d-43             [2, 512, 4, 4]          65,536\n",
      "      BatchNorm2d-44             [2, 512, 4, 4]           1,024\n",
      "           Conv2d-45             [2, 512, 4, 4]         131,072\n",
      "      BatchNorm2d-46             [2, 512, 4, 4]           1,024\n",
      "             ReLU-47             [2, 512, 4, 4]               0\n",
      "       Bottleneck-48             [2, 512, 4, 4]               0\n",
      "           Conv2d-49             [2, 128, 4, 4]          65,536\n",
      "      BatchNorm2d-50             [2, 128, 4, 4]             256\n",
      "             ReLU-51             [2, 128, 4, 4]               0\n",
      "           Conv2d-52             [2, 128, 4, 4]         147,456\n",
      "      BatchNorm2d-53             [2, 128, 4, 4]             256\n",
      "             ReLU-54             [2, 128, 4, 4]               0\n",
      "           Conv2d-55             [2, 512, 4, 4]          65,536\n",
      "      BatchNorm2d-56             [2, 512, 4, 4]           1,024\n",
      "             ReLU-57             [2, 512, 4, 4]               0\n",
      "       Bottleneck-58             [2, 512, 4, 4]               0\n",
      "           Conv2d-59             [2, 128, 4, 4]          65,536\n",
      "      BatchNorm2d-60             [2, 128, 4, 4]             256\n",
      "             ReLU-61             [2, 128, 4, 4]               0\n",
      "           Conv2d-62             [2, 128, 4, 4]         147,456\n",
      "      BatchNorm2d-63             [2, 128, 4, 4]             256\n",
      "             ReLU-64             [2, 128, 4, 4]               0\n",
      "           Conv2d-65             [2, 512, 4, 4]          65,536\n",
      "      BatchNorm2d-66             [2, 512, 4, 4]           1,024\n",
      "             ReLU-67             [2, 512, 4, 4]               0\n",
      "       Bottleneck-68             [2, 512, 4, 4]               0\n",
      "           Conv2d-69             [2, 128, 4, 4]          65,536\n",
      "      BatchNorm2d-70             [2, 128, 4, 4]             256\n",
      "             ReLU-71             [2, 128, 4, 4]               0\n",
      "           Conv2d-72             [2, 128, 4, 4]         147,456\n",
      "      BatchNorm2d-73             [2, 128, 4, 4]             256\n",
      "             ReLU-74             [2, 128, 4, 4]               0\n",
      "           Conv2d-75             [2, 512, 4, 4]          65,536\n",
      "      BatchNorm2d-76             [2, 512, 4, 4]           1,024\n",
      "             ReLU-77             [2, 512, 4, 4]               0\n",
      "       Bottleneck-78             [2, 512, 4, 4]               0\n",
      "           Conv2d-79             [2, 256, 4, 4]         131,072\n",
      "      BatchNorm2d-80             [2, 256, 4, 4]             512\n",
      "             ReLU-81             [2, 256, 4, 4]               0\n",
      "           Conv2d-82             [2, 256, 2, 2]         589,824\n",
      "      BatchNorm2d-83             [2, 256, 2, 2]             512\n",
      "             ReLU-84             [2, 256, 2, 2]               0\n",
      "           Conv2d-85            [2, 1024, 2, 2]         262,144\n",
      "      BatchNorm2d-86            [2, 1024, 2, 2]           2,048\n",
      "           Conv2d-87            [2, 1024, 2, 2]         524,288\n",
      "      BatchNorm2d-88            [2, 1024, 2, 2]           2,048\n",
      "             ReLU-89            [2, 1024, 2, 2]               0\n",
      "       Bottleneck-90            [2, 1024, 2, 2]               0\n",
      "           Conv2d-91             [2, 256, 2, 2]         262,144\n",
      "      BatchNorm2d-92             [2, 256, 2, 2]             512\n",
      "             ReLU-93             [2, 256, 2, 2]               0\n",
      "           Conv2d-94             [2, 256, 2, 2]         589,824\n",
      "      BatchNorm2d-95             [2, 256, 2, 2]             512\n",
      "             ReLU-96             [2, 256, 2, 2]               0\n",
      "           Conv2d-97            [2, 1024, 2, 2]         262,144\n",
      "      BatchNorm2d-98            [2, 1024, 2, 2]           2,048\n",
      "             ReLU-99            [2, 1024, 2, 2]               0\n",
      "      Bottleneck-100            [2, 1024, 2, 2]               0\n",
      "          Conv2d-101             [2, 256, 2, 2]         262,144\n",
      "     BatchNorm2d-102             [2, 256, 2, 2]             512\n",
      "            ReLU-103             [2, 256, 2, 2]               0\n",
      "          Conv2d-104             [2, 256, 2, 2]         589,824\n",
      "     BatchNorm2d-105             [2, 256, 2, 2]             512\n",
      "            ReLU-106             [2, 256, 2, 2]               0\n",
      "          Conv2d-107            [2, 1024, 2, 2]         262,144\n",
      "     BatchNorm2d-108            [2, 1024, 2, 2]           2,048\n",
      "            ReLU-109            [2, 1024, 2, 2]               0\n",
      "      Bottleneck-110            [2, 1024, 2, 2]               0\n",
      "          Conv2d-111             [2, 256, 2, 2]         262,144\n",
      "     BatchNorm2d-112             [2, 256, 2, 2]             512\n",
      "            ReLU-113             [2, 256, 2, 2]               0\n",
      "          Conv2d-114             [2, 256, 2, 2]         589,824\n",
      "     BatchNorm2d-115             [2, 256, 2, 2]             512\n",
      "            ReLU-116             [2, 256, 2, 2]               0\n",
      "          Conv2d-117            [2, 1024, 2, 2]         262,144\n",
      "     BatchNorm2d-118            [2, 1024, 2, 2]           2,048\n",
      "            ReLU-119            [2, 1024, 2, 2]               0\n",
      "      Bottleneck-120            [2, 1024, 2, 2]               0\n",
      "          Conv2d-121             [2, 256, 2, 2]         262,144\n",
      "     BatchNorm2d-122             [2, 256, 2, 2]             512\n",
      "            ReLU-123             [2, 256, 2, 2]               0\n",
      "          Conv2d-124             [2, 256, 2, 2]         589,824\n",
      "     BatchNorm2d-125             [2, 256, 2, 2]             512\n",
      "            ReLU-126             [2, 256, 2, 2]               0\n",
      "          Conv2d-127            [2, 1024, 2, 2]         262,144\n",
      "     BatchNorm2d-128            [2, 1024, 2, 2]           2,048\n",
      "            ReLU-129            [2, 1024, 2, 2]               0\n",
      "      Bottleneck-130            [2, 1024, 2, 2]               0\n",
      "          Conv2d-131             [2, 256, 2, 2]         262,144\n",
      "     BatchNorm2d-132             [2, 256, 2, 2]             512\n",
      "            ReLU-133             [2, 256, 2, 2]               0\n",
      "          Conv2d-134             [2, 256, 2, 2]         589,824\n",
      "     BatchNorm2d-135             [2, 256, 2, 2]             512\n",
      "            ReLU-136             [2, 256, 2, 2]               0\n",
      "          Conv2d-137            [2, 1024, 2, 2]         262,144\n",
      "     BatchNorm2d-138            [2, 1024, 2, 2]           2,048\n",
      "            ReLU-139            [2, 1024, 2, 2]               0\n",
      "      Bottleneck-140            [2, 1024, 2, 2]               0\n",
      "          Conv2d-141             [2, 512, 2, 2]         524,288\n",
      "     BatchNorm2d-142             [2, 512, 2, 2]           1,024\n",
      "            ReLU-143             [2, 512, 2, 2]               0\n",
      "          Conv2d-144             [2, 512, 1, 1]       2,359,296\n",
      "     BatchNorm2d-145             [2, 512, 1, 1]           1,024\n",
      "            ReLU-146             [2, 512, 1, 1]               0\n",
      "          Conv2d-147            [2, 2048, 1, 1]       1,048,576\n",
      "     BatchNorm2d-148            [2, 2048, 1, 1]           4,096\n",
      "          Conv2d-149            [2, 2048, 1, 1]       2,097,152\n",
      "     BatchNorm2d-150            [2, 2048, 1, 1]           4,096\n",
      "            ReLU-151            [2, 2048, 1, 1]               0\n",
      "      Bottleneck-152            [2, 2048, 1, 1]               0\n",
      "          Conv2d-153             [2, 512, 1, 1]       1,048,576\n",
      "     BatchNorm2d-154             [2, 512, 1, 1]           1,024\n",
      "            ReLU-155             [2, 512, 1, 1]               0\n",
      "          Conv2d-156             [2, 512, 1, 1]       2,359,296\n",
      "     BatchNorm2d-157             [2, 512, 1, 1]           1,024\n",
      "            ReLU-158             [2, 512, 1, 1]               0\n",
      "          Conv2d-159            [2, 2048, 1, 1]       1,048,576\n",
      "     BatchNorm2d-160            [2, 2048, 1, 1]           4,096\n",
      "            ReLU-161            [2, 2048, 1, 1]               0\n",
      "      Bottleneck-162            [2, 2048, 1, 1]               0\n",
      "          Conv2d-163             [2, 512, 1, 1]       1,048,576\n",
      "     BatchNorm2d-164             [2, 512, 1, 1]           1,024\n",
      "            ReLU-165             [2, 512, 1, 1]               0\n",
      "          Conv2d-166             [2, 512, 1, 1]       2,359,296\n",
      "     BatchNorm2d-167             [2, 512, 1, 1]           1,024\n",
      "            ReLU-168             [2, 512, 1, 1]               0\n",
      "          Conv2d-169            [2, 2048, 1, 1]       1,048,576\n",
      "     BatchNorm2d-170            [2, 2048, 1, 1]           4,096\n",
      "            ReLU-171            [2, 2048, 1, 1]               0\n",
      "      Bottleneck-172            [2, 2048, 1, 1]               0\n",
      "AdaptiveAvgPool2d-173            [2, 2048, 1, 1]               0\n",
      "          Linear-174                    [2, 10]          20,490\n",
      "          ResNet-175                    [2, 10]               0\n",
      "================================================================\n",
      "Total params: 23,522,250\n",
      "Trainable params: 23,522,250\n",
      "Non-trainable params: 0\n",
      "----------------------------------------------------------------\n",
      "Input size (MB): 0.01\n",
      "Forward/backward pass size (MB): 10.36\n",
      "Params size (MB): 89.73\n",
      "Estimated Total Size (MB): 100.10\n",
      "----------------------------------------------------------------\n"
     ]
    }
   ],
   "source": [
    "plnet=Base(net,lossFuncthion='none',classes=10,optimizer=torch.optim.Adam(net.parameters(),lr=0.01),lrScheduler=None)\n",
    "summary(plnet,(1,28,28),batch_size=2,device='cpu')"
   ]
  },
  {
   "cell_type": "code",
   "execution_count": 27,
   "metadata": {},
   "outputs": [
    {
     "name": "stderr",
     "output_type": "stream",
     "text": [
      "GPU available: True (cuda), used: True\n",
      "TPU available: False, using: 0 TPU cores\n",
      "IPU available: False, using: 0 IPUs\n",
      "HPU available: False, using: 0 HPUs\n",
      "LOCAL_RANK: 0 - CUDA_VISIBLE_DEVICES: [0]\n",
      "\n",
      "  | Name         | Type             | Params\n",
      "--------------------------------------------------\n",
      "0 | Net          | ResNet           | 23.5 M\n",
      "1 | LossFunction | CrossEntropyLoss | 0     \n",
      "--------------------------------------------------\n",
      "23.5 M    Trainable params\n",
      "0         Non-trainable params\n",
      "23.5 M    Total params\n",
      "94.089    Total estimated model params size (MB)\n"
     ]
    },
    {
     "data": {
      "application/vnd.jupyter.widget-view+json": {
       "model_id": "dc8ea1255f584819a8b31e1a8571516e",
       "version_major": 2,
       "version_minor": 0
      },
      "text/plain": [
       "Sanity Checking: 0it [00:00, ?it/s]"
      ]
     },
     "metadata": {},
     "output_type": "display_data"
    },
    {
     "name": "stderr",
     "output_type": "stream",
     "text": [
      "g:\\install\\anaconda\\envs\\nni\\lib\\site-packages\\pytorch_lightning\\trainer\\connectors\\data_connector.py:432: PossibleUserWarning: The dataloader, val_dataloader, does not have many workers which may be a bottleneck. Consider increasing the value of the `num_workers` argument` (try 20 which is the number of cpus on this machine) in the `DataLoader` init to improve performance.\n",
      "  rank_zero_warn(\n"
     ]
    },
    {
     "data": {
      "application/vnd.jupyter.widget-view+json": {
       "model_id": "6f51e869c0944595b54bd8f1e97273cc",
       "version_major": 2,
       "version_minor": 0
      },
      "text/plain": [
       "Training: 0it [00:00, ?it/s]"
      ]
     },
     "metadata": {},
     "output_type": "display_data"
    },
    {
     "data": {
      "application/vnd.jupyter.widget-view+json": {
       "model_id": "e91fa0dc412f48e899550915e6dfde08",
       "version_major": 2,
       "version_minor": 0
      },
      "text/plain": [
       "Validation: 0it [00:00, ?it/s]"
      ]
     },
     "metadata": {},
     "output_type": "display_data"
    },
    {
     "data": {
      "application/vnd.jupyter.widget-view+json": {
       "model_id": "0359e9701a1b4f8591975fbee3650ad9",
       "version_major": 2,
       "version_minor": 0
      },
      "text/plain": [
       "Validation: 0it [00:00, ?it/s]"
      ]
     },
     "metadata": {},
     "output_type": "display_data"
    },
    {
     "data": {
      "application/vnd.jupyter.widget-view+json": {
       "model_id": "09f4c70dc39042f3a960b9ba6232b5c6",
       "version_major": 2,
       "version_minor": 0
      },
      "text/plain": [
       "Validation: 0it [00:00, ?it/s]"
      ]
     },
     "metadata": {},
     "output_type": "display_data"
    },
    {
     "data": {
      "application/vnd.jupyter.widget-view+json": {
       "model_id": "c29b38eb97a34ff0905bb9e57ee6ff23",
       "version_major": 2,
       "version_minor": 0
      },
      "text/plain": [
       "Validation: 0it [00:00, ?it/s]"
      ]
     },
     "metadata": {},
     "output_type": "display_data"
    },
    {
     "data": {
      "application/vnd.jupyter.widget-view+json": {
       "model_id": "50afcedaf7bc47699ef69fd33a2c2e17",
       "version_major": 2,
       "version_minor": 0
      },
      "text/plain": [
       "Validation: 0it [00:00, ?it/s]"
      ]
     },
     "metadata": {},
     "output_type": "display_data"
    },
    {
     "data": {
      "application/vnd.jupyter.widget-view+json": {
       "model_id": "508c6ac6b1274efa9f785585fa2c6daf",
       "version_major": 2,
       "version_minor": 0
      },
      "text/plain": [
       "Validation: 0it [00:00, ?it/s]"
      ]
     },
     "metadata": {},
     "output_type": "display_data"
    },
    {
     "data": {
      "application/vnd.jupyter.widget-view+json": {
       "model_id": "353d598b00ee46e5adbc7439db1fe36c",
       "version_major": 2,
       "version_minor": 0
      },
      "text/plain": [
       "Validation: 0it [00:00, ?it/s]"
      ]
     },
     "metadata": {},
     "output_type": "display_data"
    },
    {
     "data": {
      "application/vnd.jupyter.widget-view+json": {
       "model_id": "d3c5923f33014100a2a9a21a5236ac64",
       "version_major": 2,
       "version_minor": 0
      },
      "text/plain": [
       "Validation: 0it [00:00, ?it/s]"
      ]
     },
     "metadata": {},
     "output_type": "display_data"
    },
    {
     "data": {
      "application/vnd.jupyter.widget-view+json": {
       "model_id": "43db1b43fa854d5d94c920aed0ba3cce",
       "version_major": 2,
       "version_minor": 0
      },
      "text/plain": [
       "Validation: 0it [00:00, ?it/s]"
      ]
     },
     "metadata": {},
     "output_type": "display_data"
    },
    {
     "data": {
      "application/vnd.jupyter.widget-view+json": {
       "model_id": "07726a449f5243149aae96a77fedfa82",
       "version_major": 2,
       "version_minor": 0
      },
      "text/plain": [
       "Validation: 0it [00:00, ?it/s]"
      ]
     },
     "metadata": {},
     "output_type": "display_data"
    }
   ],
   "source": [
    "from torch.utils.data import random_split\n",
    "train, val = random_split(MNISTDataset, [55000, 5000])\n",
    "trainer = pl.Trainer()\n",
    "trainer.progress_bar_refresh_rate = 10\n",
    "trainer.fit(plnet, DataLoader(train,batch_size=64),DataLoader(val,batch_size=64))#,"
   ]
  }
 ],
 "metadata": {
  "kernelspec": {
   "display_name": "nni",
   "language": "python",
   "name": "python3"
  },
  "language_info": {
   "codemirror_mode": {
    "name": "ipython",
    "version": 3
   },
   "file_extension": ".py",
   "mimetype": "text/x-python",
   "name": "python",
   "nbconvert_exporter": "python",
   "pygments_lexer": "ipython3",
   "version": "3.10.13"
  }
 },
 "nbformat": 4,
 "nbformat_minor": 2
}
