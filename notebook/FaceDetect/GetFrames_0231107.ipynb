{
 "cells": [
  {
   "cell_type": "code",
   "execution_count": 10,
   "metadata": {},
   "outputs": [
    {
     "ename": "KeyboardInterrupt",
     "evalue": "",
     "output_type": "error",
     "traceback": [
      "\u001b[1;31m---------------------------------------------------------------------------\u001b[0m",
      "\u001b[1;31mKeyboardInterrupt\u001b[0m                         Traceback (most recent call last)",
      "\u001b[1;32md:\\project_meta\\NNproject\\NNI\\notebook\\FaceDetect\\GetFrames_0231107.ipynb 单元格 1\u001b[0m line \u001b[0;36m1\n\u001b[0;32m     <a href='vscode-notebook-cell:/d%3A/project_meta/NNproject/NNI/notebook/FaceDetect/GetFrames_0231107.ipynb#W0sZmlsZQ%3D%3D?line=13'>14</a>\u001b[0m     rval,frame\u001b[39m=\u001b[39mvc\u001b[39m.\u001b[39mread()\n\u001b[0;32m     <a href='vscode-notebook-cell:/d%3A/project_meta/NNproject/NNI/notebook/FaceDetect/GetFrames_0231107.ipynb#W0sZmlsZQ%3D%3D?line=15'>16</a>\u001b[0m     \u001b[39mif\u001b[39;00m (c\u001b[39m%\u001b[39mtimeF\u001b[39m==\u001b[39m\u001b[39m0\u001b[39m):\n\u001b[1;32m---> <a href='vscode-notebook-cell:/d%3A/project_meta/NNproject/NNI/notebook/FaceDetect/GetFrames_0231107.ipynb#W0sZmlsZQ%3D%3D?line=16'>17</a>\u001b[0m         cv2\u001b[39m.\u001b[39;49mimwrite(os\u001b[39m.\u001b[39;49mpath\u001b[39m.\u001b[39;49mjoin(\u001b[39mr\u001b[39;49m\u001b[39m\"\u001b[39;49m\u001b[39mD:\u001b[39;49m\u001b[39m\\\u001b[39;49m\u001b[39mproject_meta\u001b[39;49m\u001b[39m\\\u001b[39;49m\u001b[39mNNproject\u001b[39;49m\u001b[39m\\\u001b[39;49m\u001b[39mNNI\u001b[39;49m\u001b[39m\\\u001b[39;49m\u001b[39moutput\u001b[39;49m\u001b[39m\\\u001b[39;49m\u001b[39mvideo_frames\u001b[39;49m\u001b[39m\\\u001b[39;49m\u001b[39m3\u001b[39;49m\u001b[39m\"\u001b[39;49m,\u001b[39mf\u001b[39;49m\u001b[39m'\u001b[39;49m\u001b[39m{\u001b[39;49;00m\u001b[39mstr\u001b[39;49m(c)\u001b[39m}\u001b[39;49;00m\u001b[39m.jpg\u001b[39;49m\u001b[39m'\u001b[39;49m),frame)\n\u001b[0;32m     <a href='vscode-notebook-cell:/d%3A/project_meta/NNproject/NNI/notebook/FaceDetect/GetFrames_0231107.ipynb#W0sZmlsZQ%3D%3D?line=17'>18</a>\u001b[0m     c\u001b[39m=\u001b[39mc\u001b[39m+\u001b[39m\u001b[39m1\u001b[39m\n\u001b[0;32m     <a href='vscode-notebook-cell:/d%3A/project_meta/NNproject/NNI/notebook/FaceDetect/GetFrames_0231107.ipynb#W0sZmlsZQ%3D%3D?line=19'>20</a>\u001b[0m vc\u001b[39m.\u001b[39mrelease()\n",
      "\u001b[1;31mKeyboardInterrupt\u001b[0m: "
     ]
    }
   ],
   "source": [
    "import cv2\n",
    "import os\n",
    "vc=cv2.VideoCapture(r\"D:\\dataset\\driver_dataset\\DROZY\\DROZY\\videos_i8\\1-3.mp4\")\n",
    "os.makedirs(r\"D:\\project_meta\\NNproject\\NNI\\output\\video_frames\\3\")\n",
    "import matplotlib.pyplot as plt\n",
    "%matplotlib inline\n",
    "if vc.isOpened():\n",
    "    rval,frame=vc.read()\n",
    "timeF=10\n",
    "\n",
    "c=1\n",
    "while rval:\n",
    "    \n",
    "    rval,frame=vc.read()\n",
    "    \n",
    "    if (c%timeF==0):\n",
    "        cv2.imwrite(os.path.join(r\"D:\\project_meta\\NNproject\\NNI\\output\\video_frames\\3\",f'{str(c)}.jpg'),frame)\n",
    "    c=c+1\n",
    "    \n",
    "vc.release()"
   ]
  },
  {
   "cell_type": "code",
   "execution_count": 3,
   "metadata": {},
   "outputs": [
    {
     "name": "stdout",
     "output_type": "stream",
     "text": [
      "D:\\project_meta\\NNproject\\NNI\n"
     ]
    }
   ],
   "source": [
    "import os\n",
    "import sys\n",
    "root=os.path.abspath(r\"D:\\project_meta\\NNproject\\NNI\")\n",
    "print(root)\n",
    "sys.path.append(root)\n",
    "os.environ[\"TORCH_HOME\"]=r\"E:\\Data\\torch-model\"\n",
    "import warnings  \n",
    "warnings.filterwarnings(\"ignore\", category=RuntimeWarning, module=\"mne\")"
   ]
  },
  {
   "cell_type": "code",
   "execution_count": 4,
   "metadata": {},
   "outputs": [],
   "source": [
    "import project.dataprocess.FolderTree as FolderTree\n",
    "data_root=r\"D:\\dataset\\driver_dataset\\DROZY\\DROZY\"\n",
    "data_dict=FolderTree.getDataPath(data_root=data_root)"
   ]
  },
  {
   "cell_type": "code",
   "execution_count": 5,
   "metadata": {},
   "outputs": [],
   "source": [
    "videoFolder=data_dict['videos_folder']\n",
    "videoFilenameList=os.listdir(videoFolder)"
   ]
  },
  {
   "cell_type": "code",
   "execution_count": 7,
   "metadata": {},
   "outputs": [
    {
     "name": "stdout",
     "output_type": "stream",
     "text": [
      "1-1.mp4\n",
      "1-2.mp4\n",
      "1-3.mp4\n",
      "10-1.mp4\n",
      "10-3.mp4\n",
      "11-1.mp4\n",
      "11-2.mp4\n",
      "11-3.mp4\n",
      "12-1.mp4\n",
      "13-1.mp4\n",
      "13-2.mp4\n",
      "14-1.mp4\n",
      "14-2.mp4\n",
      "14-3.mp4\n",
      "2-1.mp4\n",
      "2-2.mp4\n",
      "2-3.mp4\n",
      "3-1.mp4\n",
      "3-2.mp4\n",
      "3-3.mp4\n",
      "4-1.mp4\n",
      "4-2.mp4\n",
      "4-3.mp4\n",
      "5-1.mp4\n",
      "5-2.mp4\n",
      "5-3.mp4\n",
      "6-1.mp4\n",
      "6-2.mp4\n",
      "6-3.mp4\n",
      "7-2.mp4\n",
      "7-3.mp4\n",
      "8-1.mp4\n",
      "8-2.mp4\n",
      "8-3.mp4\n",
      "9-2.mp4\n",
      "9-3.mp4\n"
     ]
    }
   ],
   "source": [
    "import cv2\n",
    "for videoName in videoFilenameList:\n",
    "    print(videoName)\n",
    "    ID_LEVEL,type=videoName.split(\".\")\n",
    "    ID,LEVEL=ID_LEVEL.split('-')\n",
    "    saveFolder=os.path.join(r\"D:\\project_meta\\NNproject\\NNI\\output\\video_frames\\IDFolder\",f'{ID}',f'{LEVEL}')\n",
    " \n",
    "\n",
    "    vc=cv2.VideoCapture(os.path.join(videoFolder,videoName))\n",
    "    if not os.path.exists(saveFolder):\n",
    "        os.makedirs(saveFolder)\n",
    "    if vc.isOpened():\n",
    "        rval,frame=vc.read()\n",
    "    timeF=30*5\n",
    "    c=1\n",
    "    while rval:\n",
    "        try:\n",
    "            rval,frame=vc.read()\n",
    "            \n",
    "            if (c%timeF==0):\n",
    "                cv2.imwrite(os.path.join(saveFolder,f'{ID}_{str(c)}.jpg'),frame)\n",
    "            c=c+1\n",
    "        except Exception as e:\n",
    "            pass\n",
    "            print(Exception)\n",
    "    vc.release()"
   ]
  },
  {
   "cell_type": "code",
   "execution_count": 8,
   "metadata": {},
   "outputs": [
    {
     "name": "stdout",
     "output_type": "stream",
     "text": [
      "1-1.mp4\n",
      "1-2.mp4\n",
      "1-3.mp4\n",
      "10-1.mp4\n",
      "10-3.mp4\n",
      "11-1.mp4\n",
      "11-2.mp4\n",
      "11-3.mp4\n",
      "12-1.mp4\n",
      "13-1.mp4\n",
      "13-2.mp4\n",
      "14-1.mp4\n",
      "14-2.mp4\n",
      "14-3.mp4\n",
      "2-1.mp4\n",
      "2-2.mp4\n",
      "2-3.mp4\n",
      "3-1.mp4\n",
      "3-2.mp4\n",
      "3-3.mp4\n",
      "4-1.mp4\n",
      "4-2.mp4\n",
      "4-3.mp4\n",
      "5-1.mp4\n",
      "5-2.mp4\n",
      "5-3.mp4\n",
      "6-1.mp4\n",
      "6-2.mp4\n",
      "6-3.mp4\n",
      "7-2.mp4\n",
      "7-3.mp4\n",
      "8-1.mp4\n",
      "8-2.mp4\n",
      "8-3.mp4\n",
      "9-2.mp4\n",
      "9-3.mp4\n"
     ]
    }
   ],
   "source": [
    "import cv2\n",
    "for videoName in videoFilenameList:\n",
    "    print(videoName)\n",
    "    ID_LEVEL,type=videoName.split(\".\")\n",
    "    ID,LEVEL=ID_LEVEL.split('-')\n",
    "    vc=cv2.VideoCapture(os.path.join(videoFolder,videoName))\n",
    "\n",
    "    saveFolder=os.path.join(r\"D:\\project_meta\\NNproject\\NNI\\output\\video_frames\\LEVEL\",f'{LEVEL}')\n",
    "    if not os.path.exists(saveFolder):\n",
    "        os.makedirs(saveFolder)\n",
    "    if vc.isOpened():\n",
    "        rval,frame=vc.read()\n",
    "\n",
    "    timeF=30*5\n",
    "\n",
    "    c=1\n",
    "    while rval:\n",
    "        try:\n",
    "            rval,frame=vc.read()\n",
    "            if (c%timeF==0):\n",
    "                cv2.imwrite(os.path.join(saveFolder,f'{ID}_{str(c)}.jpg'),frame)\n",
    "            c=c+1\n",
    "        except Exception as e:\n",
    "            pass\n",
    "            print(c)\n",
    "    vc.release()"
   ]
  }
 ],
 "metadata": {
  "kernelspec": {
   "display_name": "nni",
   "language": "python",
   "name": "python3"
  },
  "language_info": {
   "codemirror_mode": {
    "name": "ipython",
    "version": 3
   },
   "file_extension": ".py",
   "mimetype": "text/x-python",
   "name": "python",
   "nbconvert_exporter": "python",
   "pygments_lexer": "ipython3",
   "version": "3.10.13"
  }
 },
 "nbformat": 4,
 "nbformat_minor": 2
}
