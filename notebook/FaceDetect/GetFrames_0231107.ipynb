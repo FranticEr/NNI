{
 "cells": [
  {
   "cell_type": "code",
   "execution_count": 10,
   "metadata": {},
   "outputs": [
    {
     "ename": "KeyboardInterrupt",
     "evalue": "",
     "output_type": "error",
     "traceback": [
      "\u001b[1;31m---------------------------------------------------------------------------\u001b[0m",
      "\u001b[1;31mKeyboardInterrupt\u001b[0m                         Traceback (most recent call last)",
      "\u001b[1;32md:\\project_meta\\NNproject\\NNI\\notebook\\FaceDetect\\GetFrames_0231107.ipynb 单元格 1\u001b[0m line \u001b[0;36m1\n\u001b[0;32m     <a href='vscode-notebook-cell:/d%3A/project_meta/NNproject/NNI/notebook/FaceDetect/GetFrames_0231107.ipynb#W0sZmlsZQ%3D%3D?line=13'>14</a>\u001b[0m     rval,frame\u001b[39m=\u001b[39mvc\u001b[39m.\u001b[39mread()\n\u001b[0;32m     <a href='vscode-notebook-cell:/d%3A/project_meta/NNproject/NNI/notebook/FaceDetect/GetFrames_0231107.ipynb#W0sZmlsZQ%3D%3D?line=15'>16</a>\u001b[0m     \u001b[39mif\u001b[39;00m (c\u001b[39m%\u001b[39mtimeF\u001b[39m==\u001b[39m\u001b[39m0\u001b[39m):\n\u001b[1;32m---> <a href='vscode-notebook-cell:/d%3A/project_meta/NNproject/NNI/notebook/FaceDetect/GetFrames_0231107.ipynb#W0sZmlsZQ%3D%3D?line=16'>17</a>\u001b[0m         cv2\u001b[39m.\u001b[39;49mimwrite(os\u001b[39m.\u001b[39;49mpath\u001b[39m.\u001b[39;49mjoin(\u001b[39mr\u001b[39;49m\u001b[39m\"\u001b[39;49m\u001b[39mD:\u001b[39;49m\u001b[39m\\\u001b[39;49m\u001b[39mproject_meta\u001b[39;49m\u001b[39m\\\u001b[39;49m\u001b[39mNNproject\u001b[39;49m\u001b[39m\\\u001b[39;49m\u001b[39mNNI\u001b[39;49m\u001b[39m\\\u001b[39;49m\u001b[39moutput\u001b[39;49m\u001b[39m\\\u001b[39;49m\u001b[39mvideo_frames\u001b[39;49m\u001b[39m\\\u001b[39;49m\u001b[39m3\u001b[39;49m\u001b[39m\"\u001b[39;49m,\u001b[39mf\u001b[39;49m\u001b[39m'\u001b[39;49m\u001b[39m{\u001b[39;49;00m\u001b[39mstr\u001b[39;49m(c)\u001b[39m}\u001b[39;49;00m\u001b[39m.jpg\u001b[39;49m\u001b[39m'\u001b[39;49m),frame)\n\u001b[0;32m     <a href='vscode-notebook-cell:/d%3A/project_meta/NNproject/NNI/notebook/FaceDetect/GetFrames_0231107.ipynb#W0sZmlsZQ%3D%3D?line=17'>18</a>\u001b[0m     c\u001b[39m=\u001b[39mc\u001b[39m+\u001b[39m\u001b[39m1\u001b[39m\n\u001b[0;32m     <a href='vscode-notebook-cell:/d%3A/project_meta/NNproject/NNI/notebook/FaceDetect/GetFrames_0231107.ipynb#W0sZmlsZQ%3D%3D?line=19'>20</a>\u001b[0m vc\u001b[39m.\u001b[39mrelease()\n",
      "\u001b[1;31mKeyboardInterrupt\u001b[0m: "
     ]
    }
   ],
   "source": [
    "# import cv2\n",
    "# import os\n",
    "# vc=cv2.VideoCapture(r\"D:\\dataset\\driver_dataset\\DROZY\\DROZY\\videos_i8\\1-3.mp4\")\n",
    "# os.makedirs(r\"D:\\project_meta\\NNproject\\NNI\\output\\video_frames\\3\")\n",
    "# import matplotlib.pyplot as plt\n",
    "# %matplotlib inline\n",
    "# if vc.isOpened():\n",
    "#     rval,frame=vc.read()\n",
    "# timeF=10\n",
    "\n",
    "# c=1\n",
    "# while rval:\n",
    "    \n",
    "#     rval,frame=vc.read()\n",
    "    \n",
    "#     if (c%timeF==0):\n",
    "#         cv2.imwrite(os.path.join(r\"D:\\project_meta\\NNproject\\NNI\\output\\video_frames\\3\",f'{str(c)}.jpg'),frame)\n",
    "#     c=c+1\n",
    "    \n",
    "# vc.release()"
   ]
  },
  {
   "cell_type": "markdown",
   "metadata": {},
   "source": [
    "# 路径"
   ]
  },
  {
   "cell_type": "code",
   "execution_count": 2,
   "metadata": {},
   "outputs": [
    {
     "name": "stdout",
     "output_type": "stream",
     "text": [
      "D:\\project_meta\\NNproject\\NNI\n"
     ]
    }
   ],
   "source": [
    "import os\n",
    "import sys\n",
    "root=os.path.abspath(r\"D:\\project_meta\\NNproject\\NNI\")\n",
    "print(root)\n",
    "sys.path.append(root)\n",
    "os.environ[\"TORCH_HOME\"]=r\"E:\\Data\\torch-model\"\n",
    "import warnings  \n",
    "warnings.filterwarnings(\"ignore\", category=RuntimeWarning, module=\"mne\")"
   ]
  },
  {
   "cell_type": "code",
   "execution_count": 3,
   "metadata": {},
   "outputs": [],
   "source": [
    "import project.dataprocess.FolderTree as FolderTree\n",
    "data_root=r\"D:\\dataset\\driver_dataset\\DROZY\\DROZY\"\n",
    "data_dict=FolderTree.getDataPath(data_root=data_root)"
   ]
  },
  {
   "cell_type": "code",
   "execution_count": 4,
   "metadata": {},
   "outputs": [],
   "source": [
    "videoFolder=data_dict['videos_folder']\n",
    "videoFilenameList=os.listdir(videoFolder)"
   ]
  },
  {
   "cell_type": "markdown",
   "metadata": {},
   "source": [
    "# 抽帧"
   ]
  },
  {
   "cell_type": "code",
   "execution_count": 6,
   "metadata": {},
   "outputs": [
    {
     "ename": "KeyboardInterrupt",
     "evalue": "",
     "output_type": "error",
     "traceback": [
      "\u001b[1;31m---------------------------------------------------------------------------\u001b[0m",
      "\u001b[1;31mKeyboardInterrupt\u001b[0m                         Traceback (most recent call last)",
      "\u001b[1;32md:\\project_meta\\NNproject\\NNI\\notebook\\FaceDetect\\GetFrames_0231107.ipynb 单元格 7\u001b[0m line \u001b[0;36m1\n\u001b[0;32m     <a href='vscode-notebook-cell:/d%3A/project_meta/NNproject/NNI/notebook/FaceDetect/GetFrames_0231107.ipynb#W6sZmlsZQ%3D%3D?line=15'>16</a>\u001b[0m \u001b[39mwhile\u001b[39;00m rval:\n\u001b[0;32m     <a href='vscode-notebook-cell:/d%3A/project_meta/NNproject/NNI/notebook/FaceDetect/GetFrames_0231107.ipynb#W6sZmlsZQ%3D%3D?line=16'>17</a>\u001b[0m     \u001b[39mtry\u001b[39;00m:\n\u001b[1;32m---> <a href='vscode-notebook-cell:/d%3A/project_meta/NNproject/NNI/notebook/FaceDetect/GetFrames_0231107.ipynb#W6sZmlsZQ%3D%3D?line=17'>18</a>\u001b[0m         rval,frame\u001b[39m=\u001b[39mvc\u001b[39m.\u001b[39;49mread()\n\u001b[0;32m     <a href='vscode-notebook-cell:/d%3A/project_meta/NNproject/NNI/notebook/FaceDetect/GetFrames_0231107.ipynb#W6sZmlsZQ%3D%3D?line=18'>19</a>\u001b[0m         \u001b[39mif\u001b[39;00m (c\u001b[39m%\u001b[39mtimeF\u001b[39m==\u001b[39m\u001b[39m0\u001b[39m):\n\u001b[0;32m     <a href='vscode-notebook-cell:/d%3A/project_meta/NNproject/NNI/notebook/FaceDetect/GetFrames_0231107.ipynb#W6sZmlsZQ%3D%3D?line=19'>20</a>\u001b[0m             cv2\u001b[39m.\u001b[39mimwrite(os\u001b[39m.\u001b[39mpath\u001b[39m.\u001b[39mjoin(saveFolder,\u001b[39mf\u001b[39m\u001b[39m'\u001b[39m\u001b[39m{\u001b[39;00mID\u001b[39m}\u001b[39;00m\u001b[39m_\u001b[39m\u001b[39m{\u001b[39;00m\u001b[39mstr\u001b[39m(c)\u001b[39m}\u001b[39;00m\u001b[39m.jpg\u001b[39m\u001b[39m'\u001b[39m),frame)\n",
      "\u001b[1;31mKeyboardInterrupt\u001b[0m: "
     ]
    }
   ],
   "source": [
    "import cv2\n",
    "\n",
    "videoFolder=data_dict['videos_folder']\n",
    "videoFilenameList=os.listdir(videoFolder)\n",
    "for videoName in videoFilenameList:\n",
    "    ID_LEVEL,type=videoName.split(\".\")\n",
    "    ID,LEVEL=ID_LEVEL.split('-')\n",
    "    saveFolder=os.path.join(r\"D:\\project_meta\\NNproject\\NNI\\output\\video_frames\\LEVELFolder\",f'{LEVEL}',f'{ID}')\n",
    "    vc=cv2.VideoCapture(os.path.join(videoFolder,videoName))\n",
    "    if not os.path.exists(saveFolder):\n",
    "        os.makedirs(saveFolder)\n",
    "    if vc.isOpened():\n",
    "        rval,frame=vc.read()\n",
    "    timeF=30*5\n",
    "    c=1\n",
    "    while rval:\n",
    "        try:\n",
    "            rval,frame=vc.read()\n",
    "            if (c%timeF==0):\n",
    "                cv2.imwrite(os.path.join(saveFolder,f'{ID}_{str(c)}.jpg'),frame)\n",
    "            c=c+1\n",
    "        except Exception as e:\n",
    "            pass\n",
    "            print(Exception)\n",
    "    vc.release()"
   ]
  },
  {
   "cell_type": "code",
   "execution_count": null,
   "metadata": {},
   "outputs": [],
   "source": [
    "import cv2\n",
    "\n",
    "videoFolder=data_dict['videos_folder']\n",
    "videoFilenameList=os.listdir(videoFolder)\n",
    "def getVideoFrames(videoFolder, videoName, ID, saveFolder):\n",
    "    vc=cv2.VideoCapture(os.path.join(videoFolder,videoName))\n",
    "    if not os.path.exists(saveFolder):\n",
    "        os.makedirs(saveFolder)\n",
    "    if vc.isOpened():\n",
    "        rval,frame=vc.read()\n",
    "    timeF=30*5\n",
    "    c=1\n",
    "    while rval:\n",
    "        try:\n",
    "            rval,frame=vc.read()\n",
    "            \n",
    "            if (c%timeF==0):\n",
    "                cv2.imwrite(os.path.join(saveFolder,f'{ID}_{str(c)}.jpg'),frame)\n",
    "            c=c+1\n",
    "        except Exception as e:\n",
    "            pass\n",
    "            print(Exception)\n",
    "    vc.release()\n",
    "\n",
    "    \n",
    "videoFolder=data_dict['videos_folder']\n",
    "videoFilenameList=os.listdir(videoFolder)\n",
    "for videoName in videoFilenameList:\n",
    "    ID_LEVEL,type=videoName.split(\".\")\n",
    "    ID,LEVEL=ID_LEVEL.split('-')\n",
    "    saveFolder=os.path.join(r\"D:\\project_meta\\NNproject\\NNI\\output\\video_frames\\LEVELFolder\",f'{LEVEL}',f'{ID}')\n",
    "    getVideoFrames(videoFolder, videoName, ID, saveFolder)"
   ]
  },
  {
   "cell_type": "code",
   "execution_count": 8,
   "metadata": {},
   "outputs": [
    {
     "name": "stdout",
     "output_type": "stream",
     "text": [
      "1-1.mp4\n",
      "1-2.mp4\n",
      "1-3.mp4\n",
      "10-1.mp4\n",
      "10-3.mp4\n",
      "11-1.mp4\n",
      "11-2.mp4\n",
      "11-3.mp4\n",
      "12-1.mp4\n",
      "13-1.mp4\n",
      "13-2.mp4\n",
      "14-1.mp4\n",
      "14-2.mp4\n",
      "14-3.mp4\n",
      "2-1.mp4\n",
      "2-2.mp4\n",
      "2-3.mp4\n",
      "3-1.mp4\n",
      "3-2.mp4\n",
      "3-3.mp4\n",
      "4-1.mp4\n",
      "4-2.mp4\n",
      "4-3.mp4\n",
      "5-1.mp4\n",
      "5-2.mp4\n",
      "5-3.mp4\n",
      "6-1.mp4\n",
      "6-2.mp4\n",
      "6-3.mp4\n",
      "7-2.mp4\n",
      "7-3.mp4\n",
      "8-1.mp4\n",
      "8-2.mp4\n",
      "8-3.mp4\n",
      "9-2.mp4\n",
      "9-3.mp4\n"
     ]
    }
   ],
   "source": [
    "import cv2\n",
    "for videoName in videoFilenameList:\n",
    "    print(videoName)\n",
    "    ID_LEVEL,type=videoName.split(\".\")\n",
    "    ID,LEVEL=ID_LEVEL.split('-')\n",
    "    vc=cv2.VideoCapture(os.path.join(videoFolder,videoName))\n",
    "\n",
    "    saveFolder=os.path.join(r\"D:\\project_meta\\NNproject\\NNI\\output\\video_frames\\LEVEL\",f'{LEVEL}')\n",
    "    if not os.path.exists(saveFolder):\n",
    "        os.makedirs(saveFolder)\n",
    "    if vc.isOpened():\n",
    "        rval,frame=vc.read()\n",
    "\n",
    "    timeF=30*5\n",
    "\n",
    "    c=1\n",
    "    while rval:\n",
    "        try:\n",
    "            rval,frame=vc.read()\n",
    "            if (c%timeF==0):\n",
    "                cv2.imwrite(os.path.join(saveFolder,f'{ID}_{str(c)}.jpg'),frame)\n",
    "            c=c+1\n",
    "        except Exception as e:\n",
    "            pass\n",
    "            print(c)\n",
    "    vc.release()"
   ]
  },
  {
   "cell_type": "code",
   "execution_count": 1,
   "metadata": {},
   "outputs": [],
   "source": [
    "from typing import Any\n",
    "import pytorch_lightning as pl\n",
    "from pytorch_lightning.utilities.types import STEP_OUTPUT, TRAIN_DATALOADERS\n",
    "from pytorch_lightning import Trainer\n",
    "import torch\n",
    "import torchvision\n",
    "from torchvision.models import resnet50,ResNet50_Weights\n",
    "import os\n",
    "from torch.utils.data import Dataset,DataLoader\n",
    "os.environ['TORCH_HOME']=r\"D:\\torch_model\"\n",
    "#weights\n",
    "import nni\n",
    "class ClassModel(pl.LightningModule):\n",
    "    def __init__(self, *args: Any, **kwargs: Any) -> None:\n",
    "        super().__init__(*args, **kwargs)\n",
    "        self.net=resnet50(weights=ResNet50_Weights.DEFAULT)\n",
    "        self.lossFunction=torch.nn.CrossEntropyLoss()\n",
    "    def forward(self,x):\n",
    "        y=self.net(x)\n",
    "        return y\n",
    "    def train_dataloader(self) -> TRAIN_DATALOADERS:\n",
    "        transforms = torchvision.transforms.Compose([\n",
    "        torchvision.transforms.Resize((224, 224)),\n",
    "        torchvision.transforms.ToTensor(),\n",
    "        torchvision.transforms.Normalize(mean=[.5, .5, .5], std=[.5, .5, .5]),\n",
    "        ])\n",
    "        dataset=torchvision.datasets.ImageFolder(r'D:\\project_meta\\NNproject\\NNI\\output\\video_frames\\IDsplite\\train',transform=transforms)\n",
    "        dataloader=DataLoader(dataset,batch_size=128,shuffle=True)\n",
    "        return dataloader\n",
    "    def configure_optimizers(self) -> Any:\n",
    "        return torch.optim.Adam(self.net.parameters(),lr=1)\n",
    "    def training_step(self,batch,batah_idx, *args: Any, **kwargs: Any) -> STEP_OUTPUT:\n",
    "        x,y=batch\n",
    "        y_hat=self.forward(x)\n",
    "        loss=self.lossFunction(y_hat,y)\n",
    "        return {'loss':loss}\n",
    "        "
   ]
  },
  {
   "cell_type": "code",
   "execution_count": 2,
   "metadata": {},
   "outputs": [
    {
     "name": "stderr",
     "output_type": "stream",
     "text": [
      "GPU available: True (cuda), used: True\n",
      "TPU available: False, using: 0 TPU cores\n",
      "IPU available: False, using: 0 IPUs\n",
      "HPU available: False, using: 0 HPUs\n",
      "g:\\install\\anaconda\\envs\\nni\\lib\\site-packages\\pytorch_lightning\\trainer\\connectors\\logger_connector\\logger_connector.py:67: Starting from v1.9.0, `tensorboardX` has been removed as a dependency of the `pytorch_lightning` package, due to potential conflicts with other packages in the ML ecosystem. For this reason, `logger=True` will use `CSVLogger` as the default logger, unless the `tensorboard` or `tensorboardX` packages are found. Please `pip install lightning[extra]` or one of them to enable TensorBoard support by default\n",
      "g:\\install\\anaconda\\envs\\nni\\lib\\site-packages\\pytorch_lightning\\loops\\utilities.py:72: `max_epochs` was not set. Setting it to 1000 epochs. To train without an epoch limit, set `max_epochs=-1`.\n",
      "LOCAL_RANK: 0 - CUDA_VISIBLE_DEVICES: [0]\n",
      "\n",
      "  | Name         | Type             | Params\n",
      "--------------------------------------------------\n",
      "0 | net          | ResNet           | 25.6 M\n",
      "1 | lossFunction | CrossEntropyLoss | 0     \n",
      "--------------------------------------------------\n",
      "25.6 M    Trainable params\n",
      "0         Non-trainable params\n",
      "25.6 M    Total params\n",
      "102.228   Total estimated model params size (MB)\n",
      "g:\\install\\anaconda\\envs\\nni\\lib\\site-packages\\pytorch_lightning\\trainer\\connectors\\data_connector.py:441: The 'train_dataloader' does not have many workers which may be a bottleneck. Consider increasing the value of the `num_workers` argument` to `num_workers=19` in the `DataLoader` to improve performance.\n",
      "g:\\install\\anaconda\\envs\\nni\\lib\\site-packages\\pytorch_lightning\\loops\\fit_loop.py:293: The number of training batches (24) is smaller than the logging interval Trainer(log_every_n_steps=50). Set a lower value for log_every_n_steps if you want to see logs for the training epoch.\n"
     ]
    },
    {
     "data": {
      "application/vnd.jupyter.widget-view+json": {
       "model_id": "5cf05b71822a4a34bc467da83ad274ae",
       "version_major": 2,
       "version_minor": 0
      },
      "text/plain": [
       "Training: |          | 0/? [00:00<?, ?it/s]"
      ]
     },
     "metadata": {},
     "output_type": "display_data"
    }
   ],
   "source": [
    "model=ClassModel()\n",
    "trainer=Trainer()\n",
    "trainer.fit(model,model.train_dataloader())"
   ]
  },
  {
   "cell_type": "code",
   "execution_count": 1,
   "metadata": {},
   "outputs": [
    {
     "name": "stderr",
     "output_type": "stream",
     "text": [
      "ERROR: pip's dependency resolver does not currently take into account all the packages that are installed. This behaviour is the source of the following dependency conflicts.\n",
      "torchaudio 2.1.0 requires torch==2.1.0, but you have torch 2.0.1 which is incompatible.\n",
      "torchvision 0.16.0 requires torch==2.1.0, but you have torch 2.0.1 which is incompatible.\n"
     ]
    }
   ],
   "source": [
    "! pip install --quiet \"finetuning-scheduler[examples]>=2.0.0\" \"setuptools>=68.0.0, <68.3.0\" \"urllib3\" \"torchmetrics>=0.7, <1.3\" \"torch>=1.12.1\" \"matplotlib>=3.0.0, <3.9.0\" \"pytorch-lightning>=1.4, <2.1.0\" \"ipython[notebook]>=8.0.0, <8.17.0\" \"torch>=1.8.1, <2.1.0\""
   ]
  }
 ],
 "metadata": {
  "kernelspec": {
   "display_name": "nni",
   "language": "python",
   "name": "python3"
  },
  "language_info": {
   "codemirror_mode": {
    "name": "ipython",
    "version": 3
   },
   "file_extension": ".py",
   "mimetype": "text/x-python",
   "name": "python",
   "nbconvert_exporter": "python",
   "pygments_lexer": "ipython3",
   "version": "3.10.13"
  }
 },
 "nbformat": 4,
 "nbformat_minor": 2
}
