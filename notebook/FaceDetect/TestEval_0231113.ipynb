{
 "cells": [
  {
   "cell_type": "code",
   "execution_count": 1,
   "metadata": {},
   "outputs": [],
   "source": [
    "import torch \n",
    "from torchvision.models import resnet50,ResNet50_Weights,resnet152,ResNet152_Weights\n",
    "import torchvision\n",
    "import os\n",
    "os.environ['TORCH_HOME']=r\"D:\\torch_model\"\n",
    "from d2l import torch as d2l\n",
    "from torch.utils.data import DataLoader,Dataset,Subset\n",
    "\n",
    "transforms = torchvision.transforms.Compose([\n",
    "    torchvision.transforms.Resize((224, 224)),\n",
    "    torchvision.transforms.ToTensor(),\n",
    "    torchvision.transforms.Normalize(mean=[.5, .5, .5], std=[.5, .5, .5]),\n",
    "])\n",
    "dataset=torchvision.datasets.ImageFolder(root=r'D:\\project_meta\\NNproject\\NNI\\output\\video_frames\\LEVEL',transform=transforms)\n",
    "\n",
    "from sklearn.model_selection import train_test_split\n",
    "import datetime\n",
    "indexs=torch.tensor(range(len(dataset)))\n",
    "train_dataset_index,test_dataset_index=train_test_split(indexs,test_size=0.3,shuffle=False)\n",
    "train_dataset=Subset(dataset=dataset,indices=train_dataset_index)\n",
    "test_dataset=Subset(dataset=dataset,indices=test_dataset_index)\n",
    "train_dataloader=DataLoader(train_dataset,batch_size=128)\n",
    "test_dataloader=DataLoader(test_dataset,batch_size=256)\n",
    "\n",
    "timer, num_batches = d2l.Timer(), len(train_dataloader)"
   ]
  },
  {
   "cell_type": "code",
   "execution_count": 25,
   "metadata": {},
   "outputs": [
    {
     "ename": "KeyError",
     "evalue": "'class_str(data[1])'",
     "output_type": "error",
     "traceback": [
      "\u001b[1;31m---------------------------------------------------------------------------\u001b[0m",
      "\u001b[1;31mKeyError\u001b[0m                                  Traceback (most recent call last)",
      "\u001b[1;32md:\\project_meta\\NNproject\\NNI\\notebook\\FaceDetect\\TestEval_0231113.ipynb 单元格 2\u001b[0m line \u001b[0;36m8\n\u001b[0;32m      <a href='vscode-notebook-cell:/d%3A/project_meta/NNproject/NNI/notebook/FaceDetect/TestEval_0231113.ipynb#W3sZmlsZQ%3D%3D?line=5'>6</a>\u001b[0m         classnum[\u001b[39mf\u001b[39m\u001b[39m'\u001b[39m\u001b[39mclass_str(data[1])\u001b[39m\u001b[39m'\u001b[39m]\u001b[39m=\u001b[39m\u001b[39m1\u001b[39m\n\u001b[0;32m      <a href='vscode-notebook-cell:/d%3A/project_meta/NNproject/NNI/notebook/FaceDetect/TestEval_0231113.ipynb#W3sZmlsZQ%3D%3D?line=6'>7</a>\u001b[0m     \u001b[39melse\u001b[39;00m:\n\u001b[1;32m----> <a href='vscode-notebook-cell:/d%3A/project_meta/NNproject/NNI/notebook/FaceDetect/TestEval_0231113.ipynb#W3sZmlsZQ%3D%3D?line=7'>8</a>\u001b[0m         classnum[\u001b[39mf\u001b[39m\u001b[39m'\u001b[39m\u001b[39mclass_str(data[1])\u001b[39m\u001b[39m'\u001b[39m]\u001b[39m=\u001b[39mclassnum[\u001b[39mf\u001b[39;49m\u001b[39m'\u001b[39;49m\u001b[39mclass_str(data[1])\u001b[39;49m\u001b[39m'\u001b[39;49m]\u001b[39m+\u001b[39m\u001b[39m1\u001b[39m\n\u001b[0;32m      <a href='vscode-notebook-cell:/d%3A/project_meta/NNproject/NNI/notebook/FaceDetect/TestEval_0231113.ipynb#W3sZmlsZQ%3D%3D?line=8'>9</a>\u001b[0m     \u001b[39mprint\u001b[39m(classnum[\u001b[39mf\u001b[39m\u001b[39m'\u001b[39m\u001b[39mclass_str(data[1])\u001b[39m\u001b[39m'\u001b[39m])\n\u001b[0;32m     <a href='vscode-notebook-cell:/d%3A/project_meta/NNproject/NNI/notebook/FaceDetect/TestEval_0231113.ipynb#W3sZmlsZQ%3D%3D?line=9'>10</a>\u001b[0m \u001b[39mprint\u001b[39m(classnum)\n",
      "\u001b[1;31mKeyError\u001b[0m: 'class_str(data[1])'"
     ]
    }
   ],
   "source": [
    "classnum={}\n",
    "\n",
    "for data in iter(train_dataset):\n",
    "    \n",
    "    if str(data[1]) in classnum.keys():\n",
    "        classnum[f'class_str(data[1])']=1\n",
    "    else:\n",
    "        classnum[f'class_str(data[1])']=classnum[f'class_str(data[1])']+1\n",
    "    print(classnum[f'class_str(data[1])'])\n",
    "print(classnum)"
   ]
  },
  {
   "cell_type": "code",
   "execution_count": 2,
   "metadata": {},
   "outputs": [
    {
     "data": {
      "image/png": "[encoded data removed]",
      "text/plain": [
       "<Figure size 640x480 with 2 Axes>"
      ]
     },
     "metadata": {},
     "output_type": "display_data"
    }
   ],
   "source": [
    "\n",
    "test_transforms = torchvision.transforms.Compose([\n",
    "    torchvision.transforms.Resize((224, 224)),\n",
    "    torchvision.transforms.ToTensor(),\n",
    "    torchvision.transforms.Normalize(mean=[.5, .5, .5], std=[.5, .5, .5]),\n",
    "])\n",
    "test_dataset=torchvision.datasets.ImageFolder(root=r'D:\\project_meta\\NNproject\\NNI\\output\\video_frames\\IDSplite\\test',transform=test_transforms)\n",
    "\n",
    "from sklearn.metrics import confusion_matrix\n",
    "import numpy as np\n",
    "import torch\n",
    "torch.cuda.empty_cache()\n",
    "device=torch.device('cpu')\n",
    "net=resnet50(weights=ResNet50_Weights.DEFAULT).to(device)\n",
    "net.eval()\n",
    "with torch.no_grad():\n",
    "    num_classes=3\n",
    "    test_dataloader=DataLoader(test_dataset,batch_size=128)\n",
    "    confusion_matrix_test = np.zeros((num_classes, num_classes))\n",
    "    net.load_state_dict(torch.load(r\"D:\\project_meta\\NNproject\\NNI\\output\\model_parameter\\FaceDetect\\2023_11_16_08_17_55\\0.8381742738589212.pt\"))\n",
    "    # net.load_state_dict(torch.load(r\"D:\\project_meta\\NNproject\\NNI\\output\\model_parameter\\FaceDetect\\2023_11_15_18_48_50\\0.5477178423236515.pt\"))\n",
    "    for data_dict in test_dataloader:\n",
    "        x=data_dict[0].to(torch.float32).to(device)\n",
    "        y=data_dict[1].long().to(device)\n",
    "        y_hat=net(x)\n",
    "        pre=torch.argmax(y_hat.detach().cpu(),dim=1)\n",
    "        num_true=sum(pre==y.cpu())\n",
    "        y_pred = torch.stack((pre, y.cpu()), dim=1)\n",
    "        confusion_matrix_test += confusion_matrix(y_pred[:, 1], y_pred[:, 0], labels=range(num_classes))\n",
    "    import seaborn as sns\n",
    "    sns.heatmap(confusion_matrix_test,annot=True, fmt=\".2f\", cmap=\"Blues\")"
   ]
  },
  {
   "cell_type": "code",
   "execution_count": null,
   "metadata": {},
   "outputs": [],
   "source": [
    "import torch\n",
    "import torchvision\n",
    "from torchvision import transforms, models\n",
    "import numpy as np\n",
    "from PIL import Image"
   ]
  },
  {
   "cell_type": "code",
   "execution_count": 4,
   "metadata": {},
   "outputs": [],
   "source": [
    "transforms = torchvision.transforms.Compose([\n",
    "    torchvision.transforms.Resize((224, 224)),\n",
    "    torchvision.transforms.ToTensor(),\n",
    "    torchvision.transforms.Normalize(mean=[.5, .5, .5], std=[.5, .5, .5]),\n",
    "])"
   ]
  },
  {
   "cell_type": "code",
   "execution_count": 6,
   "metadata": {},
   "outputs": [],
   "source": [
    "def predict_image_classification(image_path, model):\n",
    "    # 加载图像\n",
    "    image = Image.open(image_path)\n",
    "    # 应用变换\n",
    "    image_tensor = transforms(image).float()\n",
    "    # 增加一个维度，因为模型需要一个批次(batch)的输入(batch size=1)\n",
    "    image_tensor = image_tensor.unsqueeze_(0)\n",
    "    # 将图像传递给模型进行预测\n",
    "    output = model(image_tensor)\n",
    "    # 获取输出张量中最大元素的索引，即预测输出类别\n",
    "    index = output.data.numpy().argmax()\n",
    "    return index"
   ]
  },
  {
   "cell_type": "code",
   "execution_count": null,
   "metadata": {},
   "outputs": [],
   "source": [
    "image_path = 'path/to/image.jpg'\n",
    "index = predict_image_classification(image_path,net)\n",
    "print(index)"
   ]
  }
 ],
 "metadata": {
  "kernelspec": {
   "display_name": "nni",
   "language": "python",
   "name": "python3"
  },
  "language_info": {
   "codemirror_mode": {
    "name": "ipython",
    "version": 3
   },
   "file_extension": ".py",
   "mimetype": "text/x-python",
   "name": "python",
   "nbconvert_exporter": "python",
   "pygments_lexer": "ipython3",
   "version": "3.10.13"
  }
 },
 "nbformat": 4,
 "nbformat_minor": 2
}
