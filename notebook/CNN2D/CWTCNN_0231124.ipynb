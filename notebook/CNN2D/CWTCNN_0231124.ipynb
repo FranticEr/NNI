{
 "cells": [
  {
   "cell_type": "code",
   "execution_count": 22,
   "metadata": {},
   "outputs": [
    {
     "name": "stdout",
     "output_type": "stream",
     "text": [
      "D:\\project_meta\\NNproject\\NNI\n"
     ]
    }
   ],
   "source": [
    "import torch\n",
    "from torch import nn\n",
    "import os\n",
    "import sys\n",
    "root=os.path.abspath(os.path.join(r\"D:\\project_meta\\NNproject\\NNI\"))\n",
    "print(root)\n",
    "sys.path.append(root)\n",
    "os.environ[\"TORCH_HOME\"]=r\"E:\\Data\\torch-model\"\n",
    "import warnings  \n",
    "warnings.filterwarnings(\"ignore\", category=RuntimeWarning, module=\"mne\")\n"
   ]
  },
  {
   "cell_type": "code",
   "execution_count": null,
   "metadata": {},
   "outputs": [],
   "source": [
    "layer1=nn.Conv2d(5,10)\n",
    "layer2=nn.MaxPool2d()\n",
    "layer3=nn.BatchNorm2d\n",
    "layer4=nn.ReLU\n",
    "layer5=nn.Conv2d([5,10],padding='same')\n",
    "layer6=nn.MaxPool2d()\n",
    "layer7=nn.BatchNorm2d\n",
    "layer8=nn.ReLU\n",
    "\n",
    "layer9=nn.Flatten\n",
    "\n",
    "layer10=nn.AvgPool1d\n",
    "layer11=nn.Dropout1d\n",
    "layer12=nn.Linear\n",
    "\n"
   ]
  },
  {
   "cell_type": "code",
   "execution_count": 3,
   "metadata": {},
   "outputs": [],
   "source": [
    "layer5=nn.Conv2d(in_channels=5,out_channels=5*8,kernel_size=[5,10])\n"
   ]
  },
  {
   "cell_type": "code",
   "execution_count": 19,
   "metadata": {},
   "outputs": [],
   "source": [
    "class BasicLayer(nn.Module):\n",
    "    def __init__(self,maxpool2dargs :int|list=[5,10],conv2dargs={\"in_channels\":5,\"out_channels\":10,'kernel_size':[5,10],}):\n",
    "        self.layer1=nn.Conv2d(**conv2dargs)\n",
    "        self.layer2=nn.MaxPool2d(maxpool2dargs)\n",
    "        self.layer3=nn.BatchNorm2d\n",
    "        self.layer4=nn.ReLU\n",
    "    def forward(self, x):\n",
    "        x = self.layer1(x)\n",
    "        x = self.layer2(x)\n",
    "        x = self.layer3(x)\n",
    "        x = self.layer4(x)\n",
    "        return x\n",
    "    pass"
   ]
  },
  {
   "cell_type": "code",
   "execution_count": null,
   "metadata": {},
   "outputs": [],
   "source": [
    "from typing import Any\n",
    "\n",
    "class Classfier_Layer(nn.Module):\n",
    "    def __init__(self, in_features,out_features,hidden_num,*args, **kwargs) -> None:\n",
    "        super().__init__(*args, **kwargs)\n",
    "        self.avgpool=nn.AdaptiveAvgPool2d([1,1])\n",
    "        self.flatten=nn.Flatten()       \n",
    "        self.relu1=nn.ReLU()\n",
    "        self.linear1=nn.Linear(in_features=in_features,out_features=hidden_num)\n",
    "        self.relu2=nn.ReLU()\n",
    "        self.linear2=nn.Linear(in_features=hidden_num,out_features=out_features)\n",
    "    def __call__(self,x, *args: Any, **kwds: Any) -> Any:\n",
    "        x=self.avgpool(x)\n",
    "        x=self.flatten(x)\n",
    "        x=self.relu1(x)\n",
    "        x=self.linear1(x)\n",
    "        x=self.relu2(x)\n",
    "        x=self.linear2(x)\n",
    "        return x"
   ]
  },
  {
   "cell_type": "code",
   "execution_count": 8,
   "metadata": {},
   "outputs": [
    {
     "name": "stdout",
     "output_type": "stream",
     "text": [
      "{'in_channels': 5, 'out_channels': 10, 'kernel_size': 3}\n"
     ]
    }
   ],
   "source": [
    "def printargs(conv2dargs):\n",
    "    print(conv2dargs)\n",
    "    layer1=nn.Conv2d(**conv2dargs)\n",
    "conv2dargs={\"in_channels\":5,\"out_channels\":10,'kernel_size':3,}\n",
    "\n",
    "printargs(conv2dargs)"
   ]
  },
  {
   "cell_type": "code",
   "execution_count": 36,
   "metadata": {},
   "outputs": [
    {
     "data": {
      "text/plain": [
       "BasicLayer(\n",
       "  (layer1): Conv2d(5, 32, kernel_size=(5, 10), stride=(1, 1))\n",
       "  (layer2): MaxPool2d(kernel_size=5, stride=10, padding=0, dilation=1, ceil_mode=False)\n",
       "  (layer3): BatchNorm2d(32, eps=1e-05, momentum=0.1, affine=True, track_running_stats=True)\n",
       "  (layer4): ReLU()\n",
       ")"
      ]
     },
     "execution_count": 36,
     "metadata": {},
     "output_type": "execute_result"
    }
   ],
   "source": [
    "class BasicLayer(nn.Module):\n",
    "    def __init__(self, conv2dargs={\"in_channels\":5, \"out_channels\":32, 'kernel_size':[5,10]},\n",
    "                 maxpool2dargs=[5, 10]):\n",
    "        super(BasicLayer, self).__init__()\n",
    "        self.layer1 = nn.Conv2d(**conv2dargs)\n",
    "        self.layer2 = nn.MaxPool2d(*maxpool2dargs)\n",
    "        self.layer3 = nn.BatchNorm2d(conv2dargs['out_channels'])\n",
    "        self.layer4 = nn.ReLU()\n",
    "    def forward(self, x):\n",
    "        x = self.layer1(x)\n",
    "        x = self.layer2(x)\n",
    "        x = self.layer3(x)\n",
    "        x = self.layer4(x)\n",
    "        return x\n",
    "BasicLayer()"
   ]
  },
  {
   "cell_type": "code",
   "execution_count": 23,
   "metadata": {},
   "outputs": [
    {
     "name": "stdout",
     "output_type": "stream",
     "text": [
      "{'annotation_auto_folder': 'D:\\\\dataset\\\\driver_dataset\\\\DROZY\\\\DROZY\\\\annotations-auto',\n",
      " 'annotation_manual_folder': 'D:\\\\dataset\\\\driver_dataset\\\\DROZY\\\\DROZY\\\\annotations-manual',\n",
      " 'kinect_file': 'D:\\\\dataset\\\\driver_dataset\\\\DROZY\\\\DROZY\\\\kinect-intrinsics.yaml',\n",
      " 'kss_file': 'D:\\\\dataset\\\\driver_dataset\\\\DROZY\\\\DROZY\\\\KSS.txt',\n",
      " 'psg_folder': 'D:\\\\dataset\\\\driver_dataset\\\\DROZY\\\\DROZY\\\\psg',\n",
      " 'pvt_rt_folder': 'D:\\\\dataset\\\\driver_dataset\\\\DROZY\\\\DROZY\\\\pvt-rt',\n",
      " 'videos_folder': 'D:\\\\dataset\\\\driver_dataset\\\\DROZY\\\\DROZY\\\\videos_i8'}\n",
      "{'ECG_filted_folder': 'D:\\\\project_meta\\\\NNproject\\\\NNI\\\\output\\\\psg_filted\\\\ECG',\n",
      " 'ECG_table_file': 'D:\\\\project_meta\\\\NNproject\\\\NNI\\\\output\\\\ECG_table.csv',\n",
      " 'ECG_uniformfilted_folder': 'D:\\\\project_meta\\\\NNproject\\\\NNI\\\\output\\\\psg_filted\\\\ECG',\n",
      " 'EEG_filted_folder': 'D:\\\\project_meta\\\\NNproject\\\\NNI\\\\output\\\\psg_filted\\\\EEG',\n",
      " 'EEG_table_file': 'D:\\\\project_meta\\\\NNproject\\\\NNI\\\\output\\\\EEG_table.csv',\n",
      " 'EEG_uniformfilted_folder': 'D:\\\\project_meta\\\\NNproject\\\\NNI\\\\output\\\\psg_filted\\\\EEG',\n",
      " 'bandpower_file': 'D:\\\\project_meta\\\\NNproject\\\\NNI\\\\output\\\\bandpower.csv',\n",
      " 'cwt_folder': 'D:\\\\project_meta\\\\NNproject\\\\NNI\\\\output\\\\cwt',\n",
      " 'face_kss_frames_folder': 'D:\\\\project_meta\\\\NNproject\\\\NNI\\\\output\\\\video_frames\\\\face_kss_frames',\n",
      " 'face_level_frames_folder': 'D:\\\\project_meta\\\\NNproject\\\\NNI\\\\output\\\\video_frames\\\\face_level_frames',\n",
      " 'filted_folder': 'D:\\\\project_meta\\\\NNproject\\\\NNI\\\\output\\\\psg_filted',\n",
      " 'info_file': 'D:\\\\project_meta\\\\NNproject\\\\NNI\\\\output\\\\info.csv',\n",
      " 'kss_frames_folder': 'D:\\\\project_meta\\\\NNproject\\\\NNI\\\\output\\\\video_frames\\\\kss_frames',\n",
      " 'level_frames_folder': 'D:\\\\project_meta\\\\NNproject\\\\NNI\\\\output\\\\video_frames\\\\level_frames',\n",
      " 'nomalfilted_folder': 'D:\\\\project_meta\\\\NNproject\\\\NNI\\\\output\\\\psg_nomalfilted',\n",
      " 'noncross_file': 'D:\\\\project_meta\\\\NNproject\\\\NNI\\\\output\\\\noncross.csv',\n",
      " 'uniformbandpower_file': 'D:\\\\project_meta\\\\NNproject\\\\NNI\\\\output\\\\uniformbandpower.csv',\n",
      " 'uniformfilted_folder': 'D:\\\\project_meta\\\\NNproject\\\\NNI\\\\output\\\\psg_uniformfilted',\n",
      " 'video_frames_folder': 'D:\\\\project_meta\\\\NNproject\\\\NNI\\\\output\\\\video_frames',\n",
      " 'windowsTable': 'D:\\\\project_meta\\\\NNproject\\\\NNI\\\\output\\\\windowsTable.csv'}\n"
     ]
    }
   ],
   "source": [
    "from project.dataset.ExtendDataset import *\n",
    "from project.dataprocess.FolderTree import *\n",
    "data_root=r'D:\\dataset\\driver_dataset\\DROZY\\DROZY'\n",
    "output_root=r\"D:\\project_meta\\NNproject\\NNI\\output\"\n",
    "dataDict=getDataPath(data_root)\n",
    "outDict=getOutPath(output_root)\n",
    "import pprint\n",
    "pprint.pprint(dataDict)\n",
    "pprint.pprint(outDict)"
   ]
  },
  {
   "cell_type": "code",
   "execution_count": 27,
   "metadata": {},
   "outputs": [],
   "source": [
    "import pandas as pd\n",
    "table=pd.read_csv(outDict['windowsTable'])\n",
    "sfftdataset=SFFTDataset(info_table=table,psgFileFolderPath=dataDict['psg_folder'])"
   ]
  },
  {
   "cell_type": "code",
   "execution_count": 83,
   "metadata": {},
   "outputs": [],
   "source": [
    "class CWTCNN2D(nn.Module):\n",
    "    def __init__(self):\n",
    "        super(CWTCNN2D, self).__init__()\n",
    "        self.layer1 = BasicLayer()\n",
    "        self.layer2 = BasicLayer(conv2dargs={\"in_channels\": 32, \"out_channels\": 64, \"kernel_size\": [5, 10]})\n",
    "        self.avgpool=nn.AdaptiveAvgPool2d(3)\n",
    "        self.flatten=nn.Flatten()       \n",
    "        self.relu1=nn.ReLU()\n",
    "        self.linear1=nn.Linear(in_features=64*9,out_features=128)\n",
    "        self.relu2=nn.ReLU()\n",
    "        self.dropout=nn.Dropout(0.4)\n",
    "        self.linear2=nn.Linear(in_features=128,out_features=3)\n",
    "    def forward(self,x):\n",
    "        x=self.layer1(x)\n",
    "        x=self.layer2(x)\n",
    "        x=self.avgpool(x)\n",
    "        x=self.flatten(x)\n",
    "        x=self.relu1(x)\n",
    "        x=self.dropout(x)\n",
    "        x=self.linear1(x)\n",
    "        x=self.relu2(x)\n",
    "        x=self.linear2(x)\n",
    "        return x"
   ]
  },
  {
   "cell_type": "code",
   "execution_count": 84,
   "metadata": {},
   "outputs": [
    {
     "data": {
      "text/plain": [
       "CWTCNN2D(\n",
       "  (layer1): BasicLayer(\n",
       "    (layer1): Conv2d(5, 32, kernel_size=(5, 10), stride=(1, 1))\n",
       "    (layer2): MaxPool2d(kernel_size=5, stride=10, padding=0, dilation=1, ceil_mode=False)\n",
       "    (layer3): BatchNorm2d(32, eps=1e-05, momentum=0.1, affine=True, track_running_stats=True)\n",
       "    (layer4): ReLU()\n",
       "  )\n",
       "  (layer2): BasicLayer(\n",
       "    (layer1): Conv2d(32, 64, kernel_size=(5, 10), stride=(1, 1))\n",
       "    (layer2): MaxPool2d(kernel_size=5, stride=10, padding=0, dilation=1, ceil_mode=False)\n",
       "    (layer3): BatchNorm2d(64, eps=1e-05, momentum=0.1, affine=True, track_running_stats=True)\n",
       "    (layer4): ReLU()\n",
       "  )\n",
       "  (avgpool): AdaptiveAvgPool2d(output_size=3)\n",
       "  (flatten): Flatten(start_dim=1, end_dim=-1)\n",
       "  (relu1): ReLU()\n",
       "  (linear1): Linear(in_features=576, out_features=128, bias=True)\n",
       "  (relu2): ReLU()\n",
       "  (dropout): Dropout(p=0.4, inplace=False)\n",
       "  (linear2): Linear(in_features=128, out_features=3, bias=True)\n",
       ")"
      ]
     },
     "execution_count": 84,
     "metadata": {},
     "output_type": "execute_result"
    }
   ],
   "source": [
    "cwtcnn=CWTCNN2D()\n",
    "cwtcnn"
   ]
  },
  {
   "cell_type": "code",
   "execution_count": 85,
   "metadata": {},
   "outputs": [
    {
     "name": "stdout",
     "output_type": "stream",
     "text": [
      "----------------------------------------------------------------\n",
      "        Layer (type)               Output Shape         Param #\n",
      "================================================================\n",
      "            Conv2d-1        [-1, 32, 386, 7671]           8,032\n",
      "         MaxPool2d-2          [-1, 32, 39, 767]               0\n",
      "       BatchNorm2d-3          [-1, 32, 39, 767]              64\n",
      "              ReLU-4          [-1, 32, 39, 767]               0\n",
      "        BasicLayer-5          [-1, 32, 39, 767]               0\n",
      "            Conv2d-6          [-1, 64, 35, 758]         102,464\n",
      "         MaxPool2d-7            [-1, 64, 4, 76]               0\n",
      "       BatchNorm2d-8            [-1, 64, 4, 76]             128\n",
      "              ReLU-9            [-1, 64, 4, 76]               0\n",
      "       BasicLayer-10            [-1, 64, 4, 76]               0\n",
      "AdaptiveAvgPool2d-11             [-1, 64, 3, 3]               0\n",
      "          Flatten-12                  [-1, 576]               0\n",
      "             ReLU-13                  [-1, 576]               0\n",
      "          Dropout-14                  [-1, 576]               0\n",
      "           Linear-15                  [-1, 128]          73,856\n",
      "             ReLU-16                  [-1, 128]               0\n",
      "           Linear-17                    [-1, 3]             387\n",
      "================================================================\n",
      "Total params: 184,931\n",
      "Trainable params: 184,931\n",
      "Non-trainable params: 0\n",
      "----------------------------------------------------------------\n",
      "Input size (MB): 57.13\n",
      "Forward/backward pass size (MB): 765.68\n",
      "Params size (MB): 0.71\n",
      "Estimated Total Size (MB): 823.52\n",
      "----------------------------------------------------------------\n"
     ]
    }
   ],
   "source": [
    "from torchsummary import summary\n",
    "summary(cwtcnn,(5,390, 7680),device='cpu')"
   ]
  },
  {
   "cell_type": "code",
   "execution_count": null,
   "metadata": {},
   "outputs": [],
   "source": []
  }
 ],
 "metadata": {
  "kernelspec": {
   "display_name": "nni",
   "language": "python",
   "name": "python3"
  },
  "language_info": {
   "codemirror_mode": {
    "name": "ipython",
    "version": 3
   },
   "file_extension": ".py",
   "mimetype": "text/x-python",
   "name": "python",
   "nbconvert_exporter": "python",
   "pygments_lexer": "ipython3",
   "version": "3.10.13"
  }
 },
 "nbformat": 4,
 "nbformat_minor": 2
}
