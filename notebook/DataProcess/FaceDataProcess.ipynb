{
 "cells": [
  {
   "cell_type": "code",
   "execution_count": null,
   "metadata": {},
   "outputs": [],
   "source": [
    "import os\n",
    "import sys\n",
    "root=os.path.abspath(r\"D:\\project_meta\\NNproject\\NNI\")\n",
    "print(root)\n",
    "sys.path.append(root)\n",
    "os.environ[\"TORCH_HOME\"]=r\"E:\\Data\\torch-model\"\n",
    "import warnings  \n",
    "warnings.filterwarnings(\"ignore\", category=RuntimeWarning, module=\"mne\")\n",
    "\n",
    "import cv2\n",
    "import project.dataprocess.FolderTree as FolderTree\n",
    "from project.dataprocess.FacePrrocess import getFaceImage\n",
    "\n",
    "from project.dataprocess.DatasetProcess import getLevelFacesFolder,getKSSFacesFolder\n",
    "import pandas as pd\n",
    "data_root=r\"D:\\dataset\\driver_dataset\\DROZY\\DROZY\"\n",
    "data_dict=FolderTree.getDataPath(data_root=data_root)\n",
    "videoFolder=data_dict['videos_folder']\n",
    "videoFilenameList=os.listdir(videoFolder)\n",
    "KSS_table=pd.read_csv(data_dict['kss_file'],sep=\" \",header=None)\n",
    "getKSSFacesFolder(videoFolder,r\"D:\\project_meta\\NNproject\\NNI\\output\\video_frames\\FaceKSSFolder\",KSS_table)\n",
    "getLevelFacesFolder(videoFolder,r\"D:\\project_meta\\NNproject\\NNI\\output\\video_frames\\FaceLEVELFolder\")"
   ]
  }
 ],
 "metadata": {
  "kernelspec": {
   "display_name": "nni",
   "language": "python",
   "name": "python3"
  },
  "language_info": {
   "name": "python",
   "version": "3.10.13"
  }
 },
 "nbformat": 4,
 "nbformat_minor": 2
}
