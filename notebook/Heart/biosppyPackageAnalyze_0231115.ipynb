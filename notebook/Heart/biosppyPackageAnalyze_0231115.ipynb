{
 "cells": [
  {
   "cell_type": "markdown",
   "metadata": {},
   "source": [
    "# biosppy.signals.ecg.christov_segmenter\n"
   ]
  },
  {
   "cell_type": "markdown",
   "metadata": {},
   "source": [
    "(signal(array)=None，sampling_rate=1000.0)\n",
    "ECG R-peak 分割算法。\n",
    "\n",
    "\n",
    "- 参数：\t\n",
    "1. signal （array） – 输入滤波后的 ECG 信号。\n",
    "2. sampling_rate （int， float， optional） - 采样频率 （Hz）。\n",
    "- 返回：\t\n",
    "1. rpeaks （array） - R 峰位置索引。\n",
    "\n"
   ]
  },
  {
   "cell_type": "markdown",
   "metadata": {},
   "source": [
    "# biosppy.signals.ecg.compare_segmentation\n",
    "(reference=None，test=None，sampling_rate=1000.0，offset=0，minRR=None，tol=0.05)\n",
    "比较 R 峰值位置列表的分割性能 根据参考列表。"
   ]
  },
  {
   "cell_type": "markdown",
   "metadata": {},
   "source": [
    "- 参数：\t\n",
    "1. reference （array） - 参考 R 峰位置指数。\n",
    "2. test （array） - 测试 R 峰位置指数。\n",
    "3. sampling_rate （int， float， optional） - 采样频率 （Hz）。\n",
    "4. offset （int， 可选） - 在引用和 测试 R 峰位置。\n",
    "5. minRR （float， 可选） - 允许的最小 RR 间隔（秒）。\n",
    "6. tol （float， 可选） – 对应参考和测试 R 峰之间的容差 位置（秒）。\n",
    "- 返回：\t\n",
    "1. TP （int） - 真正 R 峰的数量。\n",
    "2. FP （int） - 误报 R 峰的数量。\n",
    "3. performance （float） - 测试性能;TP / len（参考）。\n",
    "4. acc （float） – 准确率;TP / （TP + FP）。\n",
    "5. err （float） - 错误率;FP / （TP + FP）。\n",
    "6. match （list） - 与 R 峰匹配的“test”元素的索引 来自“引用”。\n",
    "7. deviation （array） - 匹配的 R 峰值的绝对误差（秒）。\n",
    "8. mean_deviation （float） - 平均误差（秒）。\n",
    "9. std_deviation （float） - 误差的标准偏差（秒）。\n",
    "10. mean_ref_ibi （float） - 参考节拍间隔的平均值（秒）。\n",
    "11. std_ref_ibi （float） - 参考节拍间隔（秒）的标准偏差。\n",
    "12. mean_test_ibi （float） - 测试间隔的平均值（秒）。\n",
    "13. std_test_ibi （float） - 测试节拍间隔（秒）的标准偏差。"
   ]
  },
  {
   "cell_type": "markdown",
   "metadata": {},
   "source": [
    "# biosppy.signals.ecg.ecg\n",
    "(signal=None，sampling_rate=1000.0，show=True)"
   ]
  },
  {
   "cell_type": "markdown",
   "metadata": {},
   "source": [
    "处理原始心电图信号并使用以下方法提取相关信号特征 默认参数。"
   ]
  },
  {
   "cell_type": "markdown",
   "metadata": {},
   "source": [
    "\n",
    "- 参数：\t\n",
    "1. signal （array） – 原始心电图信号。\n",
    "2. sampling_rate （int， float， optional） - 采样频率 （Hz）。\n",
    "3. show （bool， 可选） - 如果为 True，则显示汇总图。\n",
    "- 返回：\t\n",
    "1. ts （array） - 信号时间轴参考（秒）。\n",
    "2. filtered （array） - 滤波后的心电图信号。\n",
    "3. rpeaks （array） - R 峰位置索引。\n",
    "4. templates_ts （array） - 模板时间轴参考（秒）。\n",
    "5. templates （array） - 提取的心跳模板。\n",
    "6. heart_rate_ts （array） – 心率时间轴参考（秒）。\n",
    "7. heart_rate （array） – 瞬时心率 （bpm）"
   ]
  }
 ],
 "metadata": {
  "kernelspec": {
   "display_name": "nni",
   "language": "python",
   "name": "python3"
  },
  "language_info": {
   "name": "python",
   "version": "3.10.13"
  }
 },
 "nbformat": 4,
 "nbformat_minor": 2
}
