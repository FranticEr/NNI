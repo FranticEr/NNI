{
 "cells": [
  {
   "cell_type": "markdown",
   "metadata": {},
   "source": [
    "# 过程设计 "
   ]
  },
  {
   "cell_type": "markdown",
   "metadata": {},
   "source": [
    "1. 读取源数据\n",
    "2. 按数据表都数据段\n",
    "3. 提取数据段特征\n",
    "   - 原始心电图的特征（60）：频谱功率0–6 Hz（每0.1 Hz）\n",
    "\n",
    "   - HRV特征（10）：平均值、标准差、偏度、峰度、均方根、连续差异的均方根、高于平均值+标准差的点百分比、低于平均值-标准差的点数百分比、低频频谱功率（0.01–0.08 Hz），中频谱功率（0.08–0.15 Hz）、高频谱功率（0.15–0.50 Hz）。\n",
    "\n",
    "   - HR特征（6）：均值、标准差、偏度、峰度、高于均值的百分比+标准差、低于均值的百分比-标准差\n",
    "4. 保存特征"
   ]
  },
  {
   "cell_type": "code",
   "execution_count": 1,
   "metadata": {},
   "outputs": [
    {
     "name": "stdout",
     "output_type": "stream",
     "text": [
      "D:\\project_meta\\NNproject\\NNI\n"
     ]
    }
   ],
   "source": [
    "def setProjectPath(projectPath):\n",
    "    import os\n",
    "    import sys\n",
    "    root=os.path.abspath(projectPath)\n",
    "    print(root)\n",
    "    sys.path.append(root)\n",
    "    os.environ[\"TORCH_HOME\"]=r\"E:\\Data\\torch-model\"\n",
    "    import warnings  \n",
    "    warnings.filterwarnings(\"ignore\", category=RuntimeWarning, module=\"mne\")\n",
    "\n",
    "projectPath=r'D:\\project_meta\\NNproject\\NNI'\n",
    "setProjectPath(projectPath)"
   ]
  },
  {
   "cell_type": "code",
   "execution_count": 2,
   "metadata": {},
   "outputs": [
    {
     "name": "stdout",
     "output_type": "stream",
     "text": [
      "{'annotation_auto_folder': 'D:\\\\dataset\\\\driver_dataset\\\\DROZY\\\\DROZY\\\\annotations-auto',\n",
      " 'annotation_manual_folder': 'D:\\\\dataset\\\\driver_dataset\\\\DROZY\\\\DROZY\\\\annotations-manual',\n",
      " 'kinect_file': 'D:\\\\dataset\\\\driver_dataset\\\\DROZY\\\\DROZY\\\\kinect-intrinsics.yaml',\n",
      " 'kss_file': 'D:\\\\dataset\\\\driver_dataset\\\\DROZY\\\\DROZY\\\\KSS.txt',\n",
      " 'psg_folder': 'D:\\\\dataset\\\\driver_dataset\\\\DROZY\\\\DROZY\\\\psg',\n",
      " 'pvt_rt_folder': 'D:\\\\dataset\\\\driver_dataset\\\\DROZY\\\\DROZY\\\\pvt-rt',\n",
      " 'videos_folder': 'D:\\\\dataset\\\\driver_dataset\\\\DROZY\\\\DROZY\\\\videos_i8'}\n",
      "{'ECG_filted_folder': 'D:\\\\project_meta\\\\NNproject\\\\NNI\\\\output\\\\psg_filted\\\\ECG',\n",
      " 'ECG_table_file': 'D:\\\\project_meta\\\\NNproject\\\\NNI\\\\output\\\\ECG_table.csv',\n",
      " 'ECG_uniformfilted_folder': 'D:\\\\project_meta\\\\NNproject\\\\NNI\\\\output\\\\psg_filted\\\\ECG',\n",
      " 'EEG_filted_folder': 'D:\\\\project_meta\\\\NNproject\\\\NNI\\\\output\\\\psg_filted\\\\EEG',\n",
      " 'EEG_table_file': 'D:\\\\project_meta\\\\NNproject\\\\NNI\\\\output\\\\EEG_table.csv',\n",
      " 'EEG_uniformfilted_folder': 'D:\\\\project_meta\\\\NNproject\\\\NNI\\\\output\\\\psg_filted\\\\EEG',\n",
      " 'bandpower_file': 'D:\\\\project_meta\\\\NNproject\\\\NNI\\\\output\\\\bandpower.csv',\n",
      " 'cwt_folder': 'D:\\\\project_meta\\\\NNproject\\\\NNI\\\\output\\\\cwt',\n",
      " 'face_kss_frames_folder': 'D:\\\\project_meta\\\\NNproject\\\\NNI\\\\output\\\\video_frames\\\\face_kss_frames',\n",
      " 'face_level_frames_folder': 'D:\\\\project_meta\\\\NNproject\\\\NNI\\\\output\\\\video_frames\\\\face_level_frames',\n",
      " 'filted_folder': 'D:\\\\project_meta\\\\NNproject\\\\NNI\\\\output\\\\psg_filted',\n",
      " 'info_file': 'D:\\\\project_meta\\\\NNproject\\\\NNI\\\\output\\\\info.csv',\n",
      " 'kss_frames_folder': 'D:\\\\project_meta\\\\NNproject\\\\NNI\\\\output\\\\video_frames\\\\kss_frames',\n",
      " 'level_frames_folder': 'D:\\\\project_meta\\\\NNproject\\\\NNI\\\\output\\\\video_frames\\\\level_frames',\n",
      " 'nomalfilted_folder': 'D:\\\\project_meta\\\\NNproject\\\\NNI\\\\output\\\\psg_nomalfilted',\n",
      " 'noncross_file': 'D:\\\\project_meta\\\\NNproject\\\\NNI\\\\output\\\\noncross.csv',\n",
      " 'uniformbandpower_file': 'D:\\\\project_meta\\\\NNproject\\\\NNI\\\\output\\\\uniformbandpower.csv',\n",
      " 'uniformfilted_folder': 'D:\\\\project_meta\\\\NNproject\\\\NNI\\\\output\\\\psg_uniformfilted',\n",
      " 'video_frames_folder': 'D:\\\\project_meta\\\\NNproject\\\\NNI\\\\output\\\\video_frames',\n",
      " 'windowsTable': 'D:\\\\project_meta\\\\NNproject\\\\NNI\\\\output\\\\windowsTable.csv'}\n"
     ]
    }
   ],
   "source": [
    "import mne\n",
    "datasetFolder=r'D:\\dataset\\driver_dataset\\DROZY\\DROZY'\n",
    "outputFolder=r'D:\\project_meta\\NNproject\\NNI\\output'\n",
    "from project.dataprocess.FolderTree import *\n",
    "datasetDict=getDataPath(datasetFolder)\n",
    "outputDict=getOutPath(outputFolder)\n",
    "import pprint\n",
    "pprint.pprint(datasetDict)\n",
    "pprint.pprint(outputDict)"
   ]
  },
  {
   "cell_type": "markdown",
   "metadata": {},
   "source": [
    "# 读取数据\n"
   ]
  },
  {
   "cell_type": "code",
   "execution_count": 3,
   "metadata": {},
   "outputs": [],
   "source": [
    "from project.dataset.BaseDataset import *\n",
    "from project.dataset.ExtendDataset import *\n",
    "from project.dataprocess.SignalProcess import *\n",
    "import pandas as pd\n",
    "from project.dataprocess.FolderTree import *\n",
    "from project.dataprocess.ECGSignalProcess import *\n",
    "import matplotlib.pyplot as plt\n",
    "import os\n",
    "from biosppy.signals import ecg\n",
    "import pywt\n",
    "from biosppy.signals import ecg\n",
    "from biosppy.storage import load_txt\n",
    "from hrvanalysis import get_time_domain_features\n",
    "from hrvanalysis import get_frequency_domain_features\n",
    "os.environ[\"KMP_DUPLICATE_LIB_OK\"] = \"TRUE\"\n"
   ]
  },
  {
   "cell_type": "code",
   "execution_count": 8,
   "metadata": {},
   "outputs": [],
   "source": [
    "controlTable=pd.read_csv(outputDict['windowsTable'])\n",
    "ecgDataset=TableControlECGDataset(controlTable,datasetDict['psg_folder'],fix_len=False)"
   ]
  },
  {
   "cell_type": "code",
   "execution_count": 5,
   "metadata": {},
   "outputs": [],
   "source": [
    "data=ecgDataset[0]\n",
    "signals=data['data'][0]\n",
    "time=data['time']"
   ]
  },
  {
   "cell_type": "code",
   "execution_count": 7,
   "metadata": {},
   "outputs": [],
   "source": [
    "signals=Denoising(signal=signals,sfreq=512)\n",
    "signals=Calibration_direction(signal=signals,sfreq=512)\n",
    "filed_signal=mne.filter.filter_data(signals,sfreq=512,l_freq=0,h_freq=6,verbose=False)"
   ]
  },
  {
   "cell_type": "code",
   "execution_count": 9,
   "metadata": {},
   "outputs": [
    {
     "name": "stderr",
     "output_type": "stream",
     "text": [
      "g:\\install\\anaconda\\envs\\nni\\lib\\site-packages\\scipy\\signal\\_spectral_py.py:2014: UserWarning: nperseg = 256 is greater than input length  = 51, using nperseg = 51\n",
      "  warnings.warn('nperseg = {0:d} is greater than input length '\n"
     ]
    }
   ],
   "source": [
    "result=ecg.ecg(signals,512,interactive=False,show=False)\n",
    "result_dict=result.as_dict()\n",
    "Rpeak_ms=np.diff(result_dict['rpeaks'])/512*1000\n",
    "RRFeature=get_time_domain_features(Rpeak_ms)\n",
    "HRVFeature=get_frequency_domain_features(Rpeak_ms)\n",
    "cwtmatr, frequencies=getCWTAnalyze(filed_signal)"
   ]
  },
  {
   "cell_type": "code",
   "execution_count": 10,
   "metadata": {},
   "outputs": [],
   "source": [
    "a=[f'raw_{freq:.1f}' for freq in frequencies]\n",
    "HRVFeatureLabel=[freq.replace('.', '_') for freq in a]\n",
    "RawFeature=np.sum(abs(cwtmatr)**2,axis=1)\n",
    "RawSeries=pd.Series(RawFeature,index=HRVFeatureLabel)"
   ]
  },
  {
   "cell_type": "code",
   "execution_count": 11,
   "metadata": {},
   "outputs": [],
   "source": [
    "RRSeries=pd.Series(RRFeature)\n",
    "HRFSeries=pd.Series(HRVFeature)"
   ]
  },
  {
   "cell_type": "code",
   "execution_count": 12,
   "metadata": {},
   "outputs": [],
   "source": [
    "a=[f'raw_{freq:.1f}' for freq in frequencies]\n",
    "b=[freq.replace('.', '_') for freq in a]\n",
    "RawFeature=np.sum(abs(cwtmatr)**2,axis=1)\n",
    "RawSeries=pd.Series(RawFeature,index=b)\n"
   ]
  },
  {
   "cell_type": "code",
   "execution_count": 13,
   "metadata": {},
   "outputs": [
    {
     "data": {
      "text/html": [
       "<div>\n",
       "<style scoped>\n",
       "    .dataframe tbody tr th:only-of-type {\n",
       "        vertical-align: middle;\n",
       "    }\n",
       "\n",
       "    .dataframe tbody tr th {\n",
       "        vertical-align: top;\n",
       "    }\n",
       "\n",
       "    .dataframe thead th {\n",
       "        text-align: right;\n",
       "    }\n",
       "</style>\n",
       "<table border=\"1\" class=\"dataframe\">\n",
       "  <thead>\n",
       "    <tr style=\"text-align: right;\">\n",
       "      <th></th>\n",
       "      <th>mean_nni</th>\n",
       "      <th>sdnn</th>\n",
       "      <th>sdsd</th>\n",
       "      <th>nni_50</th>\n",
       "      <th>pnni_50</th>\n",
       "      <th>nni_20</th>\n",
       "      <th>pnni_20</th>\n",
       "      <th>rmssd</th>\n",
       "      <th>median_nni</th>\n",
       "      <th>range_nni</th>\n",
       "      <th>...</th>\n",
       "      <th>raw_1_0</th>\n",
       "      <th>raw_0_9</th>\n",
       "      <th>raw_0_8</th>\n",
       "      <th>raw_0_7</th>\n",
       "      <th>raw_0_6</th>\n",
       "      <th>raw_0_5</th>\n",
       "      <th>raw_0_4</th>\n",
       "      <th>raw_0_3</th>\n",
       "      <th>raw_0_2</th>\n",
       "      <th>raw_0_1</th>\n",
       "    </tr>\n",
       "  </thead>\n",
       "  <tbody>\n",
       "    <tr>\n",
       "      <th>0</th>\n",
       "      <td>958.007812</td>\n",
       "      <td>95.510532</td>\n",
       "      <td>115.127669</td>\n",
       "      <td>11.0</td>\n",
       "      <td>84.615385</td>\n",
       "      <td>11.0</td>\n",
       "      <td>84.615385</td>\n",
       "      <td>115.334916</td>\n",
       "      <td>977.539062</td>\n",
       "      <td>298.828125</td>\n",
       "      <td>...</td>\n",
       "      <td>0.002649</td>\n",
       "      <td>0.002075</td>\n",
       "      <td>0.000993</td>\n",
       "      <td>0.000204</td>\n",
       "      <td>0.000016</td>\n",
       "      <td>0.000006</td>\n",
       "      <td>0.000006</td>\n",
       "      <td>0.000006</td>\n",
       "      <td>0.000005</td>\n",
       "      <td>0.000007</td>\n",
       "    </tr>\n",
       "  </tbody>\n",
       "</table>\n",
       "<p>1 rows × 83 columns</p>\n",
       "</div>"
      ],
      "text/plain": [
       "     mean_nni       sdnn        sdsd  nni_50    pnni_50  nni_20    pnni_20  \\\n",
       "0  958.007812  95.510532  115.127669    11.0  84.615385    11.0  84.615385   \n",
       "\n",
       "        rmssd  median_nni   range_nni  ...   raw_1_0   raw_0_9   raw_0_8  \\\n",
       "0  115.334916  977.539062  298.828125  ...  0.002649  0.002075  0.000993   \n",
       "\n",
       "    raw_0_7   raw_0_6   raw_0_5   raw_0_4   raw_0_3   raw_0_2   raw_0_1  \n",
       "0  0.000204  0.000016  0.000006  0.000006  0.000006  0.000005  0.000007  \n",
       "\n",
       "[1 rows x 83 columns]"
      ]
     },
     "execution_count": 13,
     "metadata": {},
     "output_type": "execute_result"
    }
   ],
   "source": [
    "SumFeature=pd.concat((RRSeries,HRFSeries,RawSeries))\n",
    "line=SumFeature.to_frame().T\n",
    "line"
   ]
  },
  {
   "cell_type": "markdown",
   "metadata": {},
   "source": [
    "## 连续化"
   ]
  },
  {
   "cell_type": "code",
   "execution_count": 14,
   "metadata": {},
   "outputs": [
    {
     "name": "stdout",
     "output_type": "stream",
     "text": [
      "Setting up low-pass filter at 6 Hz\n",
      "\n",
      "FIR filter parameters\n",
      "---------------------\n",
      "Designing a one-pass, zero-phase, non-causal lowpass filter:\n",
      "- Windowed time-domain design (firwin) method\n",
      "- Hamming window with 0.0194 passband ripple and 53 dB stopband attenuation\n",
      "- Upper passband edge: 6.00 Hz\n",
      "- Upper transition bandwidth: 2.00 Hz (-6 dB cutoff frequency: 7.00 Hz)\n",
      "- Filter length: 845 samples (1.650 s)\n",
      "\n"
     ]
    },
    {
     "name": "stderr",
     "output_type": "stream",
     "text": [
      "g:\\install\\anaconda\\envs\\nni\\lib\\site-packages\\scipy\\signal\\_spectral_py.py:2014: UserWarning: nperseg = 256 is greater than input length  = 51, using nperseg = 51\n",
      "  warnings.warn('nperseg = {0:d} is greater than input length '\n"
     ]
    }
   ],
   "source": [
    "\n",
    "#\n",
    "signals=Denoising(signal=signals,sfreq=512)\n",
    "signals=Calibration_direction(signal=signals,sfreq=512)\n",
    "filed_signal=mne.filter.filter_data(signals,sfreq=512,l_freq=0,h_freq=6)\n",
    "\n",
    "# RR分析\n",
    "result=ecg.ecg(signals,512,interactive=False,show=False)\n",
    "result_dict=result.as_dict()\n",
    "Rpeak_ms=np.diff(result_dict['rpeaks'])/512*1000\n",
    "\n",
    "#RR统计信息\n",
    "RRFeature=get_time_domain_features(Rpeak_ms)\n",
    "RRSeries=pd.Series(RRFeature)\n",
    "#HRV统计信息\n",
    "HRVFeature=get_frequency_domain_features(Rpeak_ms)\n",
    "HRFSeries=pd.Series(HRVFeature)\n",
    "\n",
    "#信号频谱信息\n",
    "cwtmatr, frequencies=getCWTAnalyze(filed_signal)\n",
    "a=[f'raw_{freq:.1f}' for freq in frequencies]\n",
    "HRVFeatureLabel=[freq.replace('.', '_') for freq in a]\n",
    "\n",
    "RawFeature=np.sum(abs(cwtmatr)**2,axis=1)\n",
    "RawSeries=pd.Series(RawFeature,index=HRVFeatureLabel)\n",
    "#拼接信息\n",
    "SumFeature=pd.concat((RRSeries,HRFSeries,RawSeries))\n",
    "line=SumFeature.to_frame().T\n",
    "\n"
   ]
  },
  {
   "cell_type": "code",
   "execution_count": 21,
   "metadata": {},
   "outputs": [],
   "source": [
    "import warnings\n",
    "\n",
    "warnings.filterwarnings('ignore', message='nperseg = .* is greater than input length .*')\n",
    "\n",
    "def getFeatureLine(signals):\n",
    "    # print(1)\n",
    "    #预处理\n",
    "    signals=Denoising(signal=signals,sfreq=512)\n",
    "    # print(1)\n",
    "    signals=Calibration_direction(signal=signals,sfreq=512)\n",
    "    # print(1)\n",
    "    filed_signal=mne.filter.filter_data(signals,sfreq=512,l_freq=0,h_freq=6,verbose=False)\n",
    "    # print(1)\n",
    "# RR分析\n",
    "    result=ecg.ecg(signals,512,interactive=False,show=False)\n",
    "    result_dict=result.as_dict()\n",
    "    Rpeak_ms=np.diff(result_dict['rpeaks'])/512*1000\n",
    "    # print(1)\n",
    "#RR统计信息\n",
    "    RRFeature=get_time_domain_features(Rpeak_ms)\n",
    "    RRSeries=pd.Series(RRFeature)\n",
    "    # print(1)\n",
    "#HRV统计信息\n",
    "    HRVFeature=get_frequency_domain_features(Rpeak_ms)\n",
    "    HRFSeries=pd.Series(HRVFeature)\n",
    "    # print(1)\n",
    "#信号频谱信息\n",
    "    cwtmatr, frequencies=getCWTAnalyze(filed_signal,l_freq=0.01)\n",
    "    a=[f'raw_{freq:.1f}' for freq in frequencies]\n",
    "    HRVFeatureLabel=[freq.replace('.', '_') for freq in a]\n",
    "\n",
    "    RawFeature=np.sum(abs(cwtmatr)**2,axis=1)\n",
    "    RawSeries=pd.Series(RawFeature,index=HRVFeatureLabel)\n",
    "    # print(1)\n",
    "#拼接信息\n",
    "    SumFeature=pd.concat((RRSeries,HRFSeries,RawSeries))\n",
    "    line=SumFeature.to_frame().T\n",
    "    return line\n",
    "\n",
    "line=getFeatureLine(signals)"
   ]
  },
  {
   "cell_type": "code",
   "execution_count": 17,
   "metadata": {},
   "outputs": [
    {
     "name": "stdout",
     "output_type": "stream",
     "text": [
      "Setting up low-pass filter at 0.01 Hz\n",
      "\n",
      "FIR filter parameters\n",
      "---------------------\n",
      "Designing a one-pass, zero-phase, non-causal lowpass filter:\n",
      "- Windowed time-domain design (firwin) method\n",
      "- Hamming window with 0.0194 passband ripple and 53 dB stopband attenuation\n",
      "- Upper passband edge: 0.01 Hz\n",
      "- Upper transition bandwidth: 2.00 Hz (-6 dB cutoff frequency: 1.01 Hz)\n",
      "- Filter length: 845 samples (1.650 s)\n",
      "\n",
      "Setting up low-pass filter at 6 Hz\n",
      "\n",
      "FIR filter parameters\n",
      "---------------------\n",
      "Designing a one-pass, zero-phase, non-causal lowpass filter:\n",
      "- Windowed time-domain design (firwin) method\n",
      "- Hamming window with 0.0194 passband ripple and 53 dB stopband attenuation\n",
      "- Upper passband edge: 6.00 Hz\n",
      "- Upper transition bandwidth: 2.00 Hz (-6 dB cutoff frequency: 7.00 Hz)\n",
      "- Filter length: 845 samples (1.650 s)\n",
      "\n"
     ]
    },
    {
     "name": "stderr",
     "output_type": "stream",
     "text": [
      "g:\\install\\anaconda\\envs\\nni\\lib\\site-packages\\scipy\\signal\\_spectral_py.py:2014: UserWarning: nperseg = 256 is greater than input length  = 51, using nperseg = 51\n",
      "  warnings.warn('nperseg = {0:d} is greater than input length '\n"
     ]
    },
    {
     "data": {
      "text/plain": [
       "Index(['mean_nni', 'sdnn', 'sdsd', 'nni_50', 'pnni_50', 'nni_20', 'pnni_20',\n",
       "       'rmssd', 'median_nni', 'range_nni', 'cvsd', 'cvnni', 'mean_hr',\n",
       "       'max_hr', 'min_hr', 'std_hr', 'lf', 'hf', 'lf_hf_ratio', 'lfnu', 'hfnu',\n",
       "       'total_power', 'vlf', 'raw_6_0', 'raw_5_9', 'raw_5_8', 'raw_5_7',\n",
       "       'raw_5_6', 'raw_5_5', 'raw_5_4', 'raw_5_3', 'raw_5_2', 'raw_5_1',\n",
       "       'raw_5_0', 'raw_4_9', 'raw_4_8', 'raw_4_7', 'raw_4_6', 'raw_4_5',\n",
       "       'raw_4_4', 'raw_4_3', 'raw_4_2', 'raw_4_1', 'raw_4_0', 'raw_3_9',\n",
       "       'raw_3_8', 'raw_3_7', 'raw_3_6', 'raw_3_5', 'raw_3_4', 'raw_3_3',\n",
       "       'raw_3_2', 'raw_3_1', 'raw_3_0', 'raw_2_9', 'raw_2_8', 'raw_2_7',\n",
       "       'raw_2_6', 'raw_2_5', 'raw_2_4', 'raw_2_3', 'raw_2_2', 'raw_2_1',\n",
       "       'raw_2_0', 'raw_1_9', 'raw_1_8', 'raw_1_7', 'raw_1_6', 'raw_1_5',\n",
       "       'raw_1_4', 'raw_1_3', 'raw_1_2', 'raw_1_1', 'raw_1_0', 'raw_0_9',\n",
       "       'raw_0_8', 'raw_0_7', 'raw_0_6', 'raw_0_5', 'raw_0_4', 'raw_0_3',\n",
       "       'raw_0_2', 'raw_0_1'],\n",
       "      dtype='object')"
      ]
     },
     "execution_count": 17,
     "metadata": {},
     "output_type": "execute_result"
    }
   ],
   "source": [
    "line=getFeatureLine(signals)\n",
    "line.columns"
   ]
  },
  {
   "cell_type": "code",
   "execution_count": 47,
   "metadata": {},
   "outputs": [
    {
     "data": {
      "text/html": [
       "<div>\n",
       "<style scoped>\n",
       "    .dataframe tbody tr th:only-of-type {\n",
       "        vertical-align: middle;\n",
       "    }\n",
       "\n",
       "    .dataframe tbody tr th {\n",
       "        vertical-align: top;\n",
       "    }\n",
       "\n",
       "    .dataframe thead th {\n",
       "        text-align: right;\n",
       "    }\n",
       "</style>\n",
       "<table border=\"1\" class=\"dataframe\">\n",
       "  <thead>\n",
       "    <tr style=\"text-align: right;\">\n",
       "      <th></th>\n",
       "      <th>mean_nni</th>\n",
       "      <th>sdnn</th>\n",
       "      <th>sdsd</th>\n",
       "      <th>nni_50</th>\n",
       "      <th>pnni_50</th>\n",
       "      <th>nni_20</th>\n",
       "      <th>pnni_20</th>\n",
       "      <th>rmssd</th>\n",
       "      <th>median_nni</th>\n",
       "      <th>range_nni</th>\n",
       "      <th>...</th>\n",
       "      <th>raw_1_0</th>\n",
       "      <th>raw_0_9</th>\n",
       "      <th>raw_0_8</th>\n",
       "      <th>raw_0_7</th>\n",
       "      <th>raw_0_6</th>\n",
       "      <th>raw_0_5</th>\n",
       "      <th>raw_0_4</th>\n",
       "      <th>raw_0_3</th>\n",
       "      <th>raw_0_2</th>\n",
       "      <th>raw_0_1</th>\n",
       "    </tr>\n",
       "  </thead>\n",
       "  <tbody>\n",
       "  </tbody>\n",
       "</table>\n",
       "<p>0 rows × 83 columns</p>\n",
       "</div>"
      ],
      "text/plain": [
       "Empty DataFrame\n",
       "Columns: [mean_nni, sdnn, sdsd, nni_50, pnni_50, nni_20, pnni_20, rmssd, median_nni, range_nni, cvsd, cvnni, mean_hr, max_hr, min_hr, std_hr, lf, hf, lf_hf_ratio, lfnu, hfnu, total_power, vlf, raw_6_0, raw_5_9, raw_5_8, raw_5_7, raw_5_6, raw_5_5, raw_5_4, raw_5_3, raw_5_2, raw_5_1, raw_5_0, raw_4_9, raw_4_8, raw_4_7, raw_4_6, raw_4_5, raw_4_4, raw_4_3, raw_4_2, raw_4_1, raw_4_0, raw_3_9, raw_3_8, raw_3_7, raw_3_6, raw_3_5, raw_3_4, raw_3_3, raw_3_2, raw_3_1, raw_3_0, raw_2_9, raw_2_8, raw_2_7, raw_2_6, raw_2_5, raw_2_4, raw_2_3, raw_2_2, raw_2_1, raw_2_0, raw_1_9, raw_1_8, raw_1_7, raw_1_6, raw_1_5, raw_1_4, raw_1_3, raw_1_2, raw_1_1, raw_1_0, raw_0_9, raw_0_8, raw_0_7, raw_0_6, raw_0_5, raw_0_4, raw_0_3, raw_0_2, raw_0_1]\n",
       "Index: []\n",
       "\n",
       "[0 rows x 83 columns]"
      ]
     },
     "execution_count": 47,
     "metadata": {},
     "output_type": "execute_result"
    }
   ],
   "source": [
    "df=pd.DataFrame(columns=['mean_nni', 'sdnn', 'sdsd', 'nni_50', 'pnni_50', 'nni_20', 'pnni_20',\n",
    "       'rmssd', 'median_nni', 'range_nni', 'cvsd', 'cvnni', 'mean_hr',\n",
    "       'max_hr', 'min_hr', 'std_hr', 'lf', 'hf', 'lf_hf_ratio', 'lfnu', 'hfnu',\n",
    "       'total_power', 'vlf', 'raw_6_0', 'raw_5_9', 'raw_5_8', 'raw_5_7',\n",
    "       'raw_5_6', 'raw_5_5', 'raw_5_4', 'raw_5_3', 'raw_5_2', 'raw_5_1',\n",
    "       'raw_5_0', 'raw_4_9', 'raw_4_8', 'raw_4_7', 'raw_4_6', 'raw_4_5',\n",
    "       'raw_4_4', 'raw_4_3', 'raw_4_2', 'raw_4_1', 'raw_4_0', 'raw_3_9',\n",
    "       'raw_3_8', 'raw_3_7', 'raw_3_6', 'raw_3_5', 'raw_3_4', 'raw_3_3',\n",
    "       'raw_3_2', 'raw_3_1', 'raw_3_0', 'raw_2_9', 'raw_2_8', 'raw_2_7',\n",
    "       'raw_2_6', 'raw_2_5', 'raw_2_4', 'raw_2_3', 'raw_2_2', 'raw_2_1',\n",
    "       'raw_2_0', 'raw_1_9', 'raw_1_8', 'raw_1_7', 'raw_1_6', 'raw_1_5',\n",
    "       'raw_1_4', 'raw_1_3', 'raw_1_2', 'raw_1_1', 'raw_1_0', 'raw_0_9',\n",
    "       'raw_0_8', 'raw_0_7', 'raw_0_6', 'raw_0_5', 'raw_0_4', 'raw_0_3',\n",
    "       'raw_0_2', 'raw_0_1'])\n",
    "df\n"
   ]
  },
  {
   "cell_type": "code",
   "execution_count": 44,
   "metadata": {},
   "outputs": [
    {
     "name": "stdout",
     "output_type": "stream",
     "text": [
      "Setting up low-pass filter at 0.01 Hz\n",
      "\n",
      "FIR filter parameters\n",
      "---------------------\n",
      "Designing a one-pass, zero-phase, non-causal lowpass filter:\n",
      "- Windowed time-domain design (firwin) method\n",
      "- Hamming window with 0.0194 passband ripple and 53 dB stopband attenuation\n",
      "- Upper passband edge: 0.01 Hz\n",
      "- Upper transition bandwidth: 2.00 Hz (-6 dB cutoff frequency: 1.01 Hz)\n",
      "- Filter length: 845 samples (1.650 s)\n",
      "\n",
      "Setting up low-pass filter at 6 Hz\n",
      "\n",
      "FIR filter parameters\n",
      "---------------------\n",
      "Designing a one-pass, zero-phase, non-causal lowpass filter:\n",
      "- Windowed time-domain design (firwin) method\n",
      "- Hamming window with 0.0194 passband ripple and 53 dB stopband attenuation\n",
      "- Upper passband edge: 6.00 Hz\n",
      "- Upper transition bandwidth: 2.00 Hz (-6 dB cutoff frequency: 7.00 Hz)\n",
      "- Filter length: 845 samples (1.650 s)\n",
      "\n"
     ]
    },
    {
     "name": "stderr",
     "output_type": "stream",
     "text": [
      "g:\\install\\anaconda\\envs\\nni\\lib\\site-packages\\scipy\\signal\\_spectral_py.py:2014: UserWarning: nperseg = 256 is greater than input length  = 51, using nperseg = 51\n",
      "  warnings.warn('nperseg = {0:d} is greater than input length '\n"
     ]
    },
    {
     "data": {
      "text/plain": [
       "mean_nni    958.007812\n",
       "sdnn         95.510532\n",
       "sdsd        115.127669\n",
       "nni_50       11.000000\n",
       "pnni_50      84.615385\n",
       "               ...    \n",
       "raw_0_5       0.000006\n",
       "raw_0_4       0.000006\n",
       "raw_0_3       0.000006\n",
       "raw_0_2       0.000005\n",
       "raw_0_1       0.000007\n",
       "Name: 0, Length: 83, dtype: float64"
      ]
     },
     "execution_count": 44,
     "metadata": {},
     "output_type": "execute_result"
    }
   ],
   "source": [
    "line=getFeatureLine(signals)\n",
    "line.iloc[0]"
   ]
  },
  {
   "cell_type": "code",
   "execution_count": 52,
   "metadata": {},
   "outputs": [
    {
     "name": "stdout",
     "output_type": "stream",
     "text": [
      "Setting up low-pass filter at 0.01 Hz\n",
      "\n",
      "FIR filter parameters\n",
      "---------------------\n",
      "Designing a one-pass, zero-phase, non-causal lowpass filter:\n",
      "- Windowed time-domain design (firwin) method\n",
      "- Hamming window with 0.0194 passband ripple and 53 dB stopband attenuation\n",
      "- Upper passband edge: 0.01 Hz\n",
      "- Upper transition bandwidth: 2.00 Hz (-6 dB cutoff frequency: 1.01 Hz)\n",
      "- Filter length: 845 samples (1.650 s)\n",
      "\n",
      "Setting up low-pass filter at 6 Hz\n",
      "\n",
      "FIR filter parameters\n",
      "---------------------\n",
      "Designing a one-pass, zero-phase, non-causal lowpass filter:\n",
      "- Windowed time-domain design (firwin) method\n",
      "- Hamming window with 0.0194 passband ripple and 53 dB stopband attenuation\n",
      "- Upper passband edge: 6.00 Hz\n",
      "- Upper transition bandwidth: 2.00 Hz (-6 dB cutoff frequency: 7.00 Hz)\n",
      "- Filter length: 845 samples (1.650 s)\n",
      "\n"
     ]
    },
    {
     "name": "stderr",
     "output_type": "stream",
     "text": [
      "g:\\install\\anaconda\\envs\\nni\\lib\\site-packages\\scipy\\signal\\_spectral_py.py:2014: UserWarning: nperseg = 256 is greater than input length  = 50, using nperseg = 50\n",
      "  warnings.warn('nperseg = {0:d} is greater than input length '\n"
     ]
    }
   ],
   "source": [
    "line=getFeatureLine(signals)"
   ]
  },
  {
   "cell_type": "code",
   "execution_count": 39,
   "metadata": {},
   "outputs": [],
   "source": [
    "df=pd.DataFrame(columns=['mean_nni', 'sdnn', 'sdsd', 'nni_50', 'pnni_50', 'nni_20', 'pnni_20',\n",
    "       'rmssd', 'median_nni', 'range_nni', 'cvsd', 'cvnni', 'mean_hr',\n",
    "       'max_hr', 'min_hr', 'std_hr', 'lf', 'hf', 'lf_hf_ratio', 'lfnu', 'hfnu',\n",
    "       'total_power', 'vlf', 'raw_6_0', 'raw_5_9', 'raw_5_8', 'raw_5_7',\n",
    "       'raw_5_6', 'raw_5_5', 'raw_5_4', 'raw_5_3', 'raw_5_2', 'raw_5_1',\n",
    "       'raw_5_0', 'raw_4_9', 'raw_4_8', 'raw_4_7', 'raw_4_6', 'raw_4_5',\n",
    "       'raw_4_4', 'raw_4_3', 'raw_4_2', 'raw_4_1', 'raw_4_0', 'raw_3_9',\n",
    "       'raw_3_8', 'raw_3_7', 'raw_3_6', 'raw_3_5', 'raw_3_4', 'raw_3_3',\n",
    "       'raw_3_2', 'raw_3_1', 'raw_3_0', 'raw_2_9', 'raw_2_8', 'raw_2_7',\n",
    "       'raw_2_6', 'raw_2_5', 'raw_2_4', 'raw_2_3', 'raw_2_2', 'raw_2_1',\n",
    "       'raw_2_0', 'raw_1_9', 'raw_1_8', 'raw_1_7', 'raw_1_6', 'raw_1_5',\n",
    "       'raw_1_4', 'raw_1_3', 'raw_1_2', 'raw_1_1', 'raw_1_0', 'raw_0_9',\n",
    "       'raw_0_8', 'raw_0_7', 'raw_0_6', 'raw_0_5', 'raw_0_4', 'raw_0_3',\n",
    "       'raw_0_2', 'raw_0_1'])\n"
   ]
  },
  {
   "cell_type": "code",
   "execution_count": 40,
   "metadata": {},
   "outputs": [
    {
     "data": {
      "text/html": [
       "<div>\n",
       "<style scoped>\n",
       "    .dataframe tbody tr th:only-of-type {\n",
       "        vertical-align: middle;\n",
       "    }\n",
       "\n",
       "    .dataframe tbody tr th {\n",
       "        vertical-align: top;\n",
       "    }\n",
       "\n",
       "    .dataframe thead th {\n",
       "        text-align: right;\n",
       "    }\n",
       "</style>\n",
       "<table border=\"1\" class=\"dataframe\">\n",
       "  <thead>\n",
       "    <tr style=\"text-align: right;\">\n",
       "      <th></th>\n",
       "      <th>mean_nni</th>\n",
       "      <th>sdnn</th>\n",
       "      <th>sdsd</th>\n",
       "      <th>nni_50</th>\n",
       "      <th>pnni_50</th>\n",
       "      <th>nni_20</th>\n",
       "      <th>pnni_20</th>\n",
       "      <th>rmssd</th>\n",
       "      <th>median_nni</th>\n",
       "      <th>range_nni</th>\n",
       "      <th>...</th>\n",
       "      <th>raw_1_0</th>\n",
       "      <th>raw_0_9</th>\n",
       "      <th>raw_0_8</th>\n",
       "      <th>raw_0_7</th>\n",
       "      <th>raw_0_6</th>\n",
       "      <th>raw_0_5</th>\n",
       "      <th>raw_0_4</th>\n",
       "      <th>raw_0_3</th>\n",
       "      <th>raw_0_2</th>\n",
       "      <th>raw_0_1</th>\n",
       "    </tr>\n",
       "  </thead>\n",
       "  <tbody>\n",
       "  </tbody>\n",
       "</table>\n",
       "<p>0 rows × 83 columns</p>\n",
       "</div>"
      ],
      "text/plain": [
       "Empty DataFrame\n",
       "Columns: [mean_nni, sdnn, sdsd, nni_50, pnni_50, nni_20, pnni_20, rmssd, median_nni, range_nni, cvsd, cvnni, mean_hr, max_hr, min_hr, std_hr, lf, hf, lf_hf_ratio, lfnu, hfnu, total_power, vlf, raw_6_0, raw_5_9, raw_5_8, raw_5_7, raw_5_6, raw_5_5, raw_5_4, raw_5_3, raw_5_2, raw_5_1, raw_5_0, raw_4_9, raw_4_8, raw_4_7, raw_4_6, raw_4_5, raw_4_4, raw_4_3, raw_4_2, raw_4_1, raw_4_0, raw_3_9, raw_3_8, raw_3_7, raw_3_6, raw_3_5, raw_3_4, raw_3_3, raw_3_2, raw_3_1, raw_3_0, raw_2_9, raw_2_8, raw_2_7, raw_2_6, raw_2_5, raw_2_4, raw_2_3, raw_2_2, raw_2_1, raw_2_0, raw_1_9, raw_1_8, raw_1_7, raw_1_6, raw_1_5, raw_1_4, raw_1_3, raw_1_2, raw_1_1, raw_1_0, raw_0_9, raw_0_8, raw_0_7, raw_0_6, raw_0_5, raw_0_4, raw_0_3, raw_0_2, raw_0_1]\n",
       "Index: []\n",
       "\n",
       "[0 rows x 83 columns]"
      ]
     },
     "execution_count": 40,
     "metadata": {},
     "output_type": "execute_result"
    }
   ],
   "source": [
    "df"
   ]
  },
  {
   "cell_type": "code",
   "execution_count": 41,
   "metadata": {},
   "outputs": [
    {
     "name": "stderr",
     "output_type": "stream",
     "text": [
      "100%|██████████| 1440/1440 [1:34:19<00:00,  3.93s/it]\n"
     ]
    }
   ],
   "source": [
    "from tqdm import tqdm\n",
    "total = len(ecgDataset)\n",
    "for i,data in tqdm(enumerate(ecgDataset), total=total):\n",
    "    signals=data['data'][0]\n",
    "    line=getFeatureLine(signals)\n",
    "    df.loc[len(df)]=line.iloc[0]\n",
    "df.to_csv('temp.csv')"
   ]
  },
  {
   "cell_type": "code",
   "execution_count": 30,
   "metadata": {},
   "outputs": [
    {
     "data": {
      "text/html": [
       "<div>\n",
       "<style scoped>\n",
       "    .dataframe tbody tr th:only-of-type {\n",
       "        vertical-align: middle;\n",
       "    }\n",
       "\n",
       "    .dataframe tbody tr th {\n",
       "        vertical-align: top;\n",
       "    }\n",
       "\n",
       "    .dataframe thead th {\n",
       "        text-align: right;\n",
       "    }\n",
       "</style>\n",
       "<table border=\"1\" class=\"dataframe\">\n",
       "  <thead>\n",
       "    <tr style=\"text-align: right;\">\n",
       "      <th></th>\n",
       "      <th>mean_nni</th>\n",
       "      <th>sdnn</th>\n",
       "      <th>sdsd</th>\n",
       "      <th>nni_50</th>\n",
       "      <th>pnni_50</th>\n",
       "      <th>nni_20</th>\n",
       "      <th>pnni_20</th>\n",
       "      <th>rmssd</th>\n",
       "      <th>median_nni</th>\n",
       "      <th>range_nni</th>\n",
       "      <th>...</th>\n",
       "      <th>raw_1_0</th>\n",
       "      <th>raw_0_9</th>\n",
       "      <th>raw_0_8</th>\n",
       "      <th>raw_0_7</th>\n",
       "      <th>raw_0_6</th>\n",
       "      <th>raw_0_5</th>\n",
       "      <th>raw_0_4</th>\n",
       "      <th>raw_0_3</th>\n",
       "      <th>raw_0_2</th>\n",
       "      <th>raw_0_1</th>\n",
       "    </tr>\n",
       "  </thead>\n",
       "  <tbody>\n",
       "    <tr>\n",
       "      <th>0</th>\n",
       "      <td>958.007812</td>\n",
       "      <td>95.510532</td>\n",
       "      <td>115.127669</td>\n",
       "      <td>11.0</td>\n",
       "      <td>84.615385</td>\n",
       "      <td>11.0</td>\n",
       "      <td>84.615385</td>\n",
       "      <td>115.334916</td>\n",
       "      <td>977.539062</td>\n",
       "      <td>298.828125</td>\n",
       "      <td>...</td>\n",
       "      <td>0.009102</td>\n",
       "      <td>0.007747</td>\n",
       "      <td>0.004022</td>\n",
       "      <td>0.000974</td>\n",
       "      <td>0.000155</td>\n",
       "      <td>0.000048</td>\n",
       "      <td>0.000027</td>\n",
       "      <td>0.000023</td>\n",
       "      <td>0.000017</td>\n",
       "      <td>0.000021</td>\n",
       "    </tr>\n",
       "  </tbody>\n",
       "</table>\n",
       "<p>1 rows × 83 columns</p>\n",
       "</div>"
      ],
      "text/plain": [
       "     mean_nni       sdnn        sdsd  nni_50    pnni_50  nni_20    pnni_20  \\\n",
       "0  958.007812  95.510532  115.127669    11.0  84.615385    11.0  84.615385   \n",
       "\n",
       "        rmssd  median_nni   range_nni  ...   raw_1_0   raw_0_9   raw_0_8  \\\n",
       "0  115.334916  977.539062  298.828125  ...  0.009102  0.007747  0.004022   \n",
       "\n",
       "    raw_0_7   raw_0_6   raw_0_5   raw_0_4   raw_0_3   raw_0_2   raw_0_1  \n",
       "0  0.000974  0.000155  0.000048  0.000027  0.000023  0.000017  0.000021  \n",
       "\n",
       "[1 rows x 83 columns]"
      ]
     },
     "execution_count": 30,
     "metadata": {},
     "output_type": "execute_result"
    }
   ],
   "source": [
    "line"
   ]
  },
  {
   "cell_type": "code",
   "execution_count": 31,
   "metadata": {},
   "outputs": [
    {
     "data": {
      "text/html": [
       "<div>\n",
       "<style scoped>\n",
       "    .dataframe tbody tr th:only-of-type {\n",
       "        vertical-align: middle;\n",
       "    }\n",
       "\n",
       "    .dataframe tbody tr th {\n",
       "        vertical-align: top;\n",
       "    }\n",
       "\n",
       "    .dataframe thead th {\n",
       "        text-align: right;\n",
       "    }\n",
       "</style>\n",
       "<table border=\"1\" class=\"dataframe\">\n",
       "  <thead>\n",
       "    <tr style=\"text-align: right;\">\n",
       "      <th></th>\n",
       "      <th>0</th>\n",
       "    </tr>\n",
       "  </thead>\n",
       "  <tbody>\n",
       "    <tr>\n",
       "      <th>0</th>\n",
       "      <td>mean_nni</td>\n",
       "    </tr>\n",
       "    <tr>\n",
       "      <th>1</th>\n",
       "      <td>sdnn</td>\n",
       "    </tr>\n",
       "    <tr>\n",
       "      <th>2</th>\n",
       "      <td>sdsd</td>\n",
       "    </tr>\n",
       "    <tr>\n",
       "      <th>3</th>\n",
       "      <td>nni_50</td>\n",
       "    </tr>\n",
       "    <tr>\n",
       "      <th>4</th>\n",
       "      <td>pnni_50</td>\n",
       "    </tr>\n",
       "    <tr>\n",
       "      <th>...</th>\n",
       "      <td>...</td>\n",
       "    </tr>\n",
       "    <tr>\n",
       "      <th>79</th>\n",
       "      <td>raw_0_4</td>\n",
       "    </tr>\n",
       "    <tr>\n",
       "      <th>80</th>\n",
       "      <td>raw_0_3</td>\n",
       "    </tr>\n",
       "    <tr>\n",
       "      <th>81</th>\n",
       "      <td>raw_0_2</td>\n",
       "    </tr>\n",
       "    <tr>\n",
       "      <th>82</th>\n",
       "      <td>raw_0_1</td>\n",
       "    </tr>\n",
       "    <tr>\n",
       "      <th>83</th>\n",
       "      <td>NaN</td>\n",
       "    </tr>\n",
       "  </tbody>\n",
       "</table>\n",
       "<p>84 rows × 1 columns</p>\n",
       "</div>"
      ],
      "text/plain": [
       "           0\n",
       "0   mean_nni\n",
       "1       sdnn\n",
       "2       sdsd\n",
       "3     nni_50\n",
       "4    pnni_50\n",
       "..       ...\n",
       "79   raw_0_4\n",
       "80   raw_0_3\n",
       "81   raw_0_2\n",
       "82   raw_0_1\n",
       "83       NaN\n",
       "\n",
       "[84 rows x 1 columns]"
      ]
     },
     "execution_count": 31,
     "metadata": {},
     "output_type": "execute_result"
    }
   ],
   "source": [
    "df"
   ]
  },
  {
   "cell_type": "code",
   "execution_count": null,
   "metadata": {},
   "outputs": [],
   "source": [
    "for data in ecgDataset:\n",
    "    signals=data['data'][0]\n",
    "    line=getCWTAnalyze(signals)\n",
    "    df.loc[len(df)]=line"
   ]
  },
  {
   "cell_type": "code",
   "execution_count": 31,
   "metadata": {},
   "outputs": [
    {
     "data": {
      "text/plain": [
       "0    63.243792\n",
       "Name: mean_hr, dtype: float64"
      ]
     },
     "execution_count": 31,
     "metadata": {},
     "output_type": "execute_result"
    }
   ],
   "source": [
    "line['mean_hr']"
   ]
  },
  {
   "cell_type": "code",
   "execution_count": 32,
   "metadata": {},
   "outputs": [],
   "source": [
    "\n",
    "import pywt\n",
    "data=filed_signal\n",
    "totalscal = 512\n",
    "sampling_rate=512\n",
    "wavename = \"cgau8\"\n",
    "highest_frequency=6\n",
    "resolution_ratio=0.1\n",
    "lowes_tfrequency=0.01\n",
    "cwtmatr, frequencies=getCWTAnalyze(data)\n",
    "\n",
    "# fc = pywt.central_frequency(wavename)  # 计算小波函数的中心频率\n",
    "# cparam = 2 * fc * totalscal  # 常数c\\\n",
    "# highest_frequency=2*highest_frequency\n",
    "# resolution_ratio=-1*(resolution_ratio*2)\n",
    "# scales=cparam/np.arange(highest_frequency, lowes_tfrequency, resolution_ratio)  # 为使转换后的频率序列是一等差序列，尺度序列必须取为这一形式（也即小波尺度）\n",
    "# [cwtmatr, frequencies] = pywt.cwt(data, scales, wavename, 1.0/sampling_rate)  # 连续小波变换模块\n",
    "\n",
    "RawFeature=np.sum(abs(cwtmatr)**2,axis=1)"
   ]
  },
  {
   "cell_type": "code",
   "execution_count": 34,
   "metadata": {},
   "outputs": [],
   "source": [
    "\n",
    "df=pd.DataFrame(columns=HRVFeatureLabel)\n"
   ]
  },
  {
   "cell_type": "code",
   "execution_count": 36,
   "metadata": {},
   "outputs": [
    {
     "data": {
      "text/html": [
       "<div>\n",
       "<style scoped>\n",
       "    .dataframe tbody tr th:only-of-type {\n",
       "        vertical-align: middle;\n",
       "    }\n",
       "\n",
       "    .dataframe tbody tr th {\n",
       "        vertical-align: top;\n",
       "    }\n",
       "\n",
       "    .dataframe thead th {\n",
       "        text-align: right;\n",
       "    }\n",
       "</style>\n",
       "<table border=\"1\" class=\"dataframe\">\n",
       "  <thead>\n",
       "    <tr style=\"text-align: right;\">\n",
       "      <th></th>\n",
       "      <th>raw_6_0</th>\n",
       "      <th>raw_5_9</th>\n",
       "      <th>raw_5_8</th>\n",
       "      <th>raw_5_7</th>\n",
       "      <th>raw_5_6</th>\n",
       "      <th>raw_5_5</th>\n",
       "      <th>raw_5_4</th>\n",
       "      <th>raw_5_3</th>\n",
       "      <th>raw_5_2</th>\n",
       "      <th>raw_5_1</th>\n",
       "      <th>...</th>\n",
       "      <th>raw_1_0</th>\n",
       "      <th>raw_0_9</th>\n",
       "      <th>raw_0_8</th>\n",
       "      <th>raw_0_7</th>\n",
       "      <th>raw_0_6</th>\n",
       "      <th>raw_0_5</th>\n",
       "      <th>raw_0_4</th>\n",
       "      <th>raw_0_3</th>\n",
       "      <th>raw_0_2</th>\n",
       "      <th>raw_0_1</th>\n",
       "    </tr>\n",
       "  </thead>\n",
       "  <tbody>\n",
       "    <tr>\n",
       "      <th>0</th>\n",
       "      <td>0.001089</td>\n",
       "      <td>0.001143</td>\n",
       "      <td>0.0012</td>\n",
       "      <td>0.00126</td>\n",
       "      <td>0.001323</td>\n",
       "      <td>0.001393</td>\n",
       "      <td>0.001471</td>\n",
       "      <td>0.001559</td>\n",
       "      <td>0.00166</td>\n",
       "      <td>0.001775</td>\n",
       "      <td>...</td>\n",
       "      <td>0.009102</td>\n",
       "      <td>0.007747</td>\n",
       "      <td>0.004022</td>\n",
       "      <td>0.000974</td>\n",
       "      <td>0.000155</td>\n",
       "      <td>0.000048</td>\n",
       "      <td>0.000027</td>\n",
       "      <td>0.000023</td>\n",
       "      <td>0.000017</td>\n",
       "      <td>0.000021</td>\n",
       "    </tr>\n",
       "  </tbody>\n",
       "</table>\n",
       "<p>1 rows × 60 columns</p>\n",
       "</div>"
      ],
      "text/plain": [
       "    raw_6_0   raw_5_9  raw_5_8  raw_5_7   raw_5_6   raw_5_5   raw_5_4  \\\n",
       "0  0.001089  0.001143   0.0012  0.00126  0.001323  0.001393  0.001471   \n",
       "\n",
       "    raw_5_3  raw_5_2   raw_5_1  ...   raw_1_0   raw_0_9   raw_0_8   raw_0_7  \\\n",
       "0  0.001559  0.00166  0.001775  ...  0.009102  0.007747  0.004022  0.000974   \n",
       "\n",
       "    raw_0_6   raw_0_5   raw_0_4   raw_0_3   raw_0_2   raw_0_1  \n",
       "0  0.000155  0.000048  0.000027  0.000023  0.000017  0.000021  \n",
       "\n",
       "[1 rows x 60 columns]"
      ]
     },
     "execution_count": 36,
     "metadata": {},
     "output_type": "execute_result"
    }
   ],
   "source": [
    "df.from_records(iter([RawFeature]),columns=HRVFeatureLabel)"
   ]
  },
  {
   "cell_type": "code",
   "execution_count": 38,
   "metadata": {},
   "outputs": [],
   "source": [
    "li=pd.concat((RRSeries,HRFSeries,RawSeries))"
   ]
  },
  {
   "cell_type": "code",
   "execution_count": 39,
   "metadata": {},
   "outputs": [],
   "source": [
    "df=pd.DataFrame()\n",
    "DFLI=li.to_frame().T"
   ]
  },
  {
   "cell_type": "code",
   "execution_count": 42,
   "metadata": {},
   "outputs": [
    {
     "data": {
      "text/html": [
       "<div>\n",
       "<style scoped>\n",
       "    .dataframe tbody tr th:only-of-type {\n",
       "        vertical-align: middle;\n",
       "    }\n",
       "\n",
       "    .dataframe tbody tr th {\n",
       "        vertical-align: top;\n",
       "    }\n",
       "\n",
       "    .dataframe thead th {\n",
       "        text-align: right;\n",
       "    }\n",
       "</style>\n",
       "<table border=\"1\" class=\"dataframe\">\n",
       "  <thead>\n",
       "    <tr style=\"text-align: right;\">\n",
       "      <th></th>\n",
       "      <th>mean_nni</th>\n",
       "      <th>sdnn</th>\n",
       "      <th>sdsd</th>\n",
       "      <th>nni_50</th>\n",
       "      <th>pnni_50</th>\n",
       "      <th>nni_20</th>\n",
       "      <th>pnni_20</th>\n",
       "      <th>rmssd</th>\n",
       "      <th>median_nni</th>\n",
       "      <th>range_nni</th>\n",
       "      <th>...</th>\n",
       "      <th>raw_1_0</th>\n",
       "      <th>raw_0_9</th>\n",
       "      <th>raw_0_8</th>\n",
       "      <th>raw_0_7</th>\n",
       "      <th>raw_0_6</th>\n",
       "      <th>raw_0_5</th>\n",
       "      <th>raw_0_4</th>\n",
       "      <th>raw_0_3</th>\n",
       "      <th>raw_0_2</th>\n",
       "      <th>raw_0_1</th>\n",
       "    </tr>\n",
       "  </thead>\n",
       "  <tbody>\n",
       "    <tr>\n",
       "      <th>0</th>\n",
       "      <td>958.007812</td>\n",
       "      <td>95.510532</td>\n",
       "      <td>115.127669</td>\n",
       "      <td>11.0</td>\n",
       "      <td>84.615385</td>\n",
       "      <td>11.0</td>\n",
       "      <td>84.615385</td>\n",
       "      <td>115.334916</td>\n",
       "      <td>977.539062</td>\n",
       "      <td>298.828125</td>\n",
       "      <td>...</td>\n",
       "      <td>0.009102</td>\n",
       "      <td>0.007747</td>\n",
       "      <td>0.004022</td>\n",
       "      <td>0.000974</td>\n",
       "      <td>0.000155</td>\n",
       "      <td>0.000048</td>\n",
       "      <td>0.000027</td>\n",
       "      <td>0.000023</td>\n",
       "      <td>0.000017</td>\n",
       "      <td>0.000021</td>\n",
       "    </tr>\n",
       "    <tr>\n",
       "      <th>1</th>\n",
       "      <td>958.007812</td>\n",
       "      <td>95.510532</td>\n",
       "      <td>115.127669</td>\n",
       "      <td>11.0</td>\n",
       "      <td>84.615385</td>\n",
       "      <td>11.0</td>\n",
       "      <td>84.615385</td>\n",
       "      <td>115.334916</td>\n",
       "      <td>977.539062</td>\n",
       "      <td>298.828125</td>\n",
       "      <td>...</td>\n",
       "      <td>0.009102</td>\n",
       "      <td>0.007747</td>\n",
       "      <td>0.004022</td>\n",
       "      <td>0.000974</td>\n",
       "      <td>0.000155</td>\n",
       "      <td>0.000048</td>\n",
       "      <td>0.000027</td>\n",
       "      <td>0.000023</td>\n",
       "      <td>0.000017</td>\n",
       "      <td>0.000021</td>\n",
       "    </tr>\n",
       "    <tr>\n",
       "      <th>2</th>\n",
       "      <td>958.007812</td>\n",
       "      <td>95.510532</td>\n",
       "      <td>115.127669</td>\n",
       "      <td>11.0</td>\n",
       "      <td>84.615385</td>\n",
       "      <td>11.0</td>\n",
       "      <td>84.615385</td>\n",
       "      <td>115.334916</td>\n",
       "      <td>977.539062</td>\n",
       "      <td>298.828125</td>\n",
       "      <td>...</td>\n",
       "      <td>0.009102</td>\n",
       "      <td>0.007747</td>\n",
       "      <td>0.004022</td>\n",
       "      <td>0.000974</td>\n",
       "      <td>0.000155</td>\n",
       "      <td>0.000048</td>\n",
       "      <td>0.000027</td>\n",
       "      <td>0.000023</td>\n",
       "      <td>0.000017</td>\n",
       "      <td>0.000021</td>\n",
       "    </tr>\n",
       "  </tbody>\n",
       "</table>\n",
       "<p>3 rows × 83 columns</p>\n",
       "</div>"
      ],
      "text/plain": [
       "     mean_nni       sdnn        sdsd  nni_50    pnni_50  nni_20    pnni_20  \\\n",
       "0  958.007812  95.510532  115.127669    11.0  84.615385    11.0  84.615385   \n",
       "1  958.007812  95.510532  115.127669    11.0  84.615385    11.0  84.615385   \n",
       "2  958.007812  95.510532  115.127669    11.0  84.615385    11.0  84.615385   \n",
       "\n",
       "        rmssd  median_nni   range_nni  ...   raw_1_0   raw_0_9   raw_0_8  \\\n",
       "0  115.334916  977.539062  298.828125  ...  0.009102  0.007747  0.004022   \n",
       "1  115.334916  977.539062  298.828125  ...  0.009102  0.007747  0.004022   \n",
       "2  115.334916  977.539062  298.828125  ...  0.009102  0.007747  0.004022   \n",
       "\n",
       "    raw_0_7   raw_0_6   raw_0_5   raw_0_4   raw_0_3   raw_0_2   raw_0_1  \n",
       "0  0.000974  0.000155  0.000048  0.000027  0.000023  0.000017  0.000021  \n",
       "1  0.000974  0.000155  0.000048  0.000027  0.000023  0.000017  0.000021  \n",
       "2  0.000974  0.000155  0.000048  0.000027  0.000023  0.000017  0.000021  \n",
       "\n",
       "[3 rows x 83 columns]"
      ]
     },
     "execution_count": 42,
     "metadata": {},
     "output_type": "execute_result"
    }
   ],
   "source": [
    "DFLI.loc[len(DFLI)]=li\n",
    "DFLI"
   ]
  },
  {
   "cell_type": "code",
   "execution_count": 16,
   "metadata": {},
   "outputs": [
    {
     "data": {
      "text/plain": [
       "[<matplotlib.lines.Line2D at 0x2873f0c81c0>]"
      ]
     },
     "execution_count": 16,
     "metadata": {},
     "output_type": "execute_result"
    },
    {
     "data": {
      "image/png": "[encoded data removed]",
      "text/plain": [
       "<Figure size 640x480 with 1 Axes>"
      ]
     },
     "metadata": {},
     "output_type": "display_data"
    }
   ],
   "source": [
    "df = pd.DataFrame({'frequencies': frequencies, 'RawFeature': RawFeature})\n",
    "plt.plot(df['frequencies'],df[\"RawFeature\"])"
   ]
  },
  {
   "cell_type": "code",
   "execution_count": 18,
   "metadata": {},
   "outputs": [
    {
     "ename": "ValueError",
     "evalue": "Shape of passed values is (60, 1), indices imply (60, 60)",
     "output_type": "error",
     "traceback": [
      "\u001b[1;31m---------------------------------------------------------------------------\u001b[0m",
      "\u001b[1;31mValueError\u001b[0m                                Traceback (most recent call last)",
      "\u001b[1;32md:\\project_meta\\NNproject\\NNI\\notebook\\Heart\\ECGFeatureDataset_0231127.ipynb 单元格 12\u001b[0m line \u001b[0;36m8\n\u001b[0;32m      <a href='vscode-notebook-cell:/d%3A/project_meta/NNproject/NNI/notebook/Heart/ECGFeatureDataset_0231127.ipynb#X14sZmlsZQ%3D%3D?line=4'>5</a>\u001b[0m RawFeature_flat \u001b[39m=\u001b[39m np\u001b[39m.\u001b[39mndarray\u001b[39m.\u001b[39mflatten(RawFeature)\n\u001b[0;32m      <a href='vscode-notebook-cell:/d%3A/project_meta/NNproject/NNI/notebook/Heart/ECGFeatureDataset_0231127.ipynb#X14sZmlsZQ%3D%3D?line=6'>7</a>\u001b[0m \u001b[39m# 创建数据框\u001b[39;00m\n\u001b[1;32m----> <a href='vscode-notebook-cell:/d%3A/project_meta/NNproject/NNI/notebook/Heart/ECGFeatureDataset_0231127.ipynb#X14sZmlsZQ%3D%3D?line=7'>8</a>\u001b[0m df \u001b[39m=\u001b[39m pd\u001b[39m.\u001b[39;49mDataFrame(RawFeature_flat, columns\u001b[39m=\u001b[39;49mfrequencies)\n\u001b[0;32m     <a href='vscode-notebook-cell:/d%3A/project_meta/NNproject/NNI/notebook/Heart/ECGFeatureDataset_0231127.ipynb#X14sZmlsZQ%3D%3D?line=9'>10</a>\u001b[0m \u001b[39m# 显示数据框\u001b[39;00m\n\u001b[0;32m     <a href='vscode-notebook-cell:/d%3A/project_meta/NNproject/NNI/notebook/Heart/ECGFeatureDataset_0231127.ipynb#X14sZmlsZQ%3D%3D?line=10'>11</a>\u001b[0m \u001b[39mprint\u001b[39m(df)\n",
      "File \u001b[1;32mg:\\install\\anaconda\\envs\\nni\\lib\\site-packages\\pandas\\core\\frame.py:758\u001b[0m, in \u001b[0;36mDataFrame.__init__\u001b[1;34m(self, data, index, columns, dtype, copy)\u001b[0m\n\u001b[0;32m    747\u001b[0m         mgr \u001b[39m=\u001b[39m dict_to_mgr(\n\u001b[0;32m    748\u001b[0m             \u001b[39m# error: Item \"ndarray\" of \"Union[ndarray, Series, Index]\" has no\u001b[39;00m\n\u001b[0;32m    749\u001b[0m             \u001b[39m# attribute \"name\"\u001b[39;00m\n\u001b[1;32m   (...)\u001b[0m\n\u001b[0;32m    755\u001b[0m             copy\u001b[39m=\u001b[39m_copy,\n\u001b[0;32m    756\u001b[0m         )\n\u001b[0;32m    757\u001b[0m     \u001b[39melse\u001b[39;00m:\n\u001b[1;32m--> 758\u001b[0m         mgr \u001b[39m=\u001b[39m ndarray_to_mgr(\n\u001b[0;32m    759\u001b[0m             data,\n\u001b[0;32m    760\u001b[0m             index,\n\u001b[0;32m    761\u001b[0m             columns,\n\u001b[0;32m    762\u001b[0m             dtype\u001b[39m=\u001b[39;49mdtype,\n\u001b[0;32m    763\u001b[0m             copy\u001b[39m=\u001b[39;49mcopy,\n\u001b[0;32m    764\u001b[0m             typ\u001b[39m=\u001b[39;49mmanager,\n\u001b[0;32m    765\u001b[0m         )\n\u001b[0;32m    767\u001b[0m \u001b[39m# For data is list-like, or Iterable (will consume into list)\u001b[39;00m\n\u001b[0;32m    768\u001b[0m \u001b[39melif\u001b[39;00m is_list_like(data):\n",
      "File \u001b[1;32mg:\\install\\anaconda\\envs\\nni\\lib\\site-packages\\pandas\\core\\internals\\construction.py:337\u001b[0m, in \u001b[0;36mndarray_to_mgr\u001b[1;34m(values, index, columns, dtype, copy, typ)\u001b[0m\n\u001b[0;32m    332\u001b[0m \u001b[39m# _prep_ndarraylike ensures that values.ndim == 2 at this point\u001b[39;00m\n\u001b[0;32m    333\u001b[0m index, columns \u001b[39m=\u001b[39m _get_axes(\n\u001b[0;32m    334\u001b[0m     values\u001b[39m.\u001b[39mshape[\u001b[39m0\u001b[39m], values\u001b[39m.\u001b[39mshape[\u001b[39m1\u001b[39m], index\u001b[39m=\u001b[39mindex, columns\u001b[39m=\u001b[39mcolumns\n\u001b[0;32m    335\u001b[0m )\n\u001b[1;32m--> 337\u001b[0m _check_values_indices_shape_match(values, index, columns)\n\u001b[0;32m    339\u001b[0m \u001b[39mif\u001b[39;00m typ \u001b[39m==\u001b[39m \u001b[39m\"\u001b[39m\u001b[39marray\u001b[39m\u001b[39m\"\u001b[39m:\n\u001b[0;32m    340\u001b[0m     \u001b[39mif\u001b[39;00m \u001b[39missubclass\u001b[39m(values\u001b[39m.\u001b[39mdtype\u001b[39m.\u001b[39mtype, \u001b[39mstr\u001b[39m):\n",
      "File \u001b[1;32mg:\\install\\anaconda\\envs\\nni\\lib\\site-packages\\pandas\\core\\internals\\construction.py:408\u001b[0m, in \u001b[0;36m_check_values_indices_shape_match\u001b[1;34m(values, index, columns)\u001b[0m\n\u001b[0;32m    406\u001b[0m passed \u001b[39m=\u001b[39m values\u001b[39m.\u001b[39mshape\n\u001b[0;32m    407\u001b[0m implied \u001b[39m=\u001b[39m (\u001b[39mlen\u001b[39m(index), \u001b[39mlen\u001b[39m(columns))\n\u001b[1;32m--> 408\u001b[0m \u001b[39mraise\u001b[39;00m \u001b[39mValueError\u001b[39;00m(\u001b[39mf\u001b[39m\u001b[39m\"\u001b[39m\u001b[39mShape of passed values is \u001b[39m\u001b[39m{\u001b[39;00mpassed\u001b[39m}\u001b[39;00m\u001b[39m, indices imply \u001b[39m\u001b[39m{\u001b[39;00mimplied\u001b[39m}\u001b[39;00m\u001b[39m\"\u001b[39m)\n",
      "\u001b[1;31mValueError\u001b[0m: Shape of passed values is (60, 1), indices imply (60, 60)"
     ]
    }
   ],
   "source": [
    "import pandas as pd\n",
    "import numpy as np\n",
    "\n",
    "# 展平 RawFeature 数组\n",
    "RawFeature_flat = np.ndarray.flatten(RawFeature)\n",
    "\n",
    "# 创建数据框\n",
    "df = pd.DataFrame(RawFeature_flat, columns=frequencies)\n",
    "\n",
    "# 显示数据框\n",
    "print(df)"
   ]
  }
 ],
 "metadata": {
  "kernelspec": {
   "display_name": "nni",
   "language": "python",
   "name": "python3"
  },
  "language_info": {
   "codemirror_mode": {
    "name": "ipython",
    "version": 3
   },
   "file_extension": ".py",
   "mimetype": "text/x-python",
   "name": "python",
   "nbconvert_exporter": "python",
   "pygments_lexer": "ipython3",
   "version": "3.10.13"
  }
 },
 "nbformat": 4,
 "nbformat_minor": 2
}
