{
 "cells": [
  {
   "cell_type": "code",
   "execution_count": null,
   "metadata": {},
   "outputs": [],
   "source": [
    "import torch \n",
    "from torchvision.models import resnet50,ResNet50_Weights,resnet152,ResNet152_Weights\n",
    "import torchvision\n",
    "import os\n",
    "os.environ['TORCH_HOME']=r\"D:\\torch_model\"\n",
    "projectPath=r'D:\\project_meta\\NNproject\\NNI'\n",
    "import os\n",
    "import sys\n",
    "root=os.path.abspath(projectPath)\n",
    "print(root)\n",
    "sys.path.append(root)\n",
    "os.environ[\"TORCH_HOME\"]=r\"E:\\Data\\torch-model\"\n",
    "import warnings  \n",
    "warnings.filterwarnings(\"ignore\", category=RuntimeWarning, module=\"mne\")\n",
    "\n"
   ]
  },
  {
   "cell_type": "code",
   "execution_count": null,
   "metadata": {},
   "outputs": [],
   "source": [
    "from project.trainer.ClassfierTrainer import ClassfierTrainer\n",
    "from torch.utils.data import DataLoader\n",
    "import torchvision\n",
    "from project.dataprocess.transform import AddSaltPepperNoise\n",
    "\n",
    "weights = torchvision.models.ResNet152_Weights.IMAGENET1K_V1\n",
    "net = torchvision.models.resnet152(weights=weights)"
   ]
  },
  {
   "cell_type": "code",
   "execution_count": null,
   "metadata": {},
   "outputs": [],
   "source": [
    "train_transforms = torchvision.transforms.Compose([\n",
    "    AddSaltPepperNoise(0.2),\n",
    "    torchvision.transforms.transforms.RandomRotation(10),  # 随机旋转\n",
    "\n",
    "    torchvision.transforms.transforms.ColorJitter(0.4, 0.4, 0.4, 0.2),  # 随机颜色抖动\n",
    "    torchvision.transforms.Resize((224, 224)),\n",
    "    torchvision.transforms.ToTensor(),\n",
    "    torchvision.transforms.Normalize(mean=[.5, .5, .5], std=[.5, .5, .5]),\n",
    "])\n",
    "\n",
    "\n",
    "train_dataset=torchvision.datasets.ImageFolder(root=r'D:\\project_meta\\NNproject\\NNI\\output\\video_frames\\IDSplite\\train',transform=train_transforms)\n",
    "train_dataloader=DataLoader(train_dataset,batch_size=64,shuffle=True)\n",
    "\n",
    "test_transforms = torchvision.transforms.Compose([\n",
    "    torchvision.transforms.Resize((224, 224)),\n",
    "    torchvision.transforms.ToTensor(),\n",
    "    torchvision.transforms.Normalize(mean=[.5, .5, .5], std=[.5, .5, .5]),\n",
    "])\n",
    "test_dataset=torchvision.datasets.ImageFolder(root=r'D:\\project_meta\\NNproject\\NNI\\output\\video_frames\\IDSplite\\test',transform=test_transforms)\n",
    "\n",
    "test_dataloader=DataLoader(test_dataset,batch_size=128,shuffle=True)\n"
   ]
  },
  {
   "cell_type": "code",
   "execution_count": null,
   "metadata": {},
   "outputs": [],
   "source": [
    "from project.trainer.ClassfierTrainer import ClassfierTrainer\n",
    "optim=torch.optim.SGD(net.parameters(),lr=1,weight_decay=5e-4)\n",
    "lr_sch=torch.optim.lr_scheduler.MultiStepLR(optim,[1,2,3],0.7)\n",
    "loss=torch.nn.CrossEntropyLoss().to(device=\"cuda\")\n",
    "classfierTrainer=ClassfierTrainer(net,epochNum=50,optimizer=optim,lossFunction=loss)"
   ]
  },
  {
   "cell_type": "code",
   "execution_count": null,
   "metadata": {},
   "outputs": [],
   "source": [
    "classfierTrainer.TrainEpochs(epochNum=50,net=net,traindataloader=train_dataloader,testdataloader=test_dataloader,optimizer=optim,lossFunction=loss)"
   ]
  }
 ],
 "metadata": {
  "kernelspec": {
   "display_name": "nni",
   "language": "python",
   "name": "python3"
  },
  "language_info": {
   "codemirror_mode": {
    "name": "ipython",
    "version": 3
   },
   "file_extension": ".py",
   "mimetype": "text/x-python",
   "name": "python",
   "nbconvert_exporter": "python",
   "pygments_lexer": "ipython3",
   "version": "3.10.13"
  }
 },
 "nbformat": 4,
 "nbformat_minor": 2
}
