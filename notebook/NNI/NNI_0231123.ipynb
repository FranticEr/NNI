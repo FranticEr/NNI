{
 "cells": [
  {
   "cell_type": "code",
   "execution_count": null,
   "metadata": {},
   "outputs": [],
   "source": [
    "from typing import Any, Optional\n",
    "import torch\n",
    "import pytorch_lightning as pl\n",
    "from pytorch_lightning.utilities.types import STEP_OUTPUT, TRAIN_DATALOADERS\n",
    "from project.model.CNN1D import simple_cnn1d\n",
    "from torchmetrics.functional import accuracy\n",
    "class TrainModel(pl.LightningModule):\n",
    "    def __init__(self, net,lossFunction,optimizer,*args, **kwargs):\n",
    "        super().__init__()\n",
    "        self.Model=net\n",
    "        self.LossFunction=lossFunction\n",
    "        self.configure_optimizers()\n",
    "    def forward(self,x, *args: Any, **kwargs: Any) -> Any:\n",
    "        y=self.Model(x)\n",
    "        return y\n",
    "    def training_step(self, batch,batch_idx,*args: Any, **kwargs: Any) -> STEP_OUTPUT:\n",
    "        #forward\n",
    "        self.Optimizer.zero_grad()\n",
    "        x,y=batch\n",
    "        y=y.long()\n",
    "        y_hat=self.Model(x.to(torch.float32))\n",
    "        loss=self.LossFunction(y_hat,y)\n",
    "        acc=accuracy(y_hat,y,task='multiclass',num_classes=3)\n",
    "\n",
    "        #log\n",
    "        self.log(\"train_acc\", acc, on_step=False, on_epoch=True)\n",
    "        self.log(\"lr\", self.Optimizer.state_dict()['param_groups'][0]['lr'], on_step=True, on_epoch=True)\n",
    "\n",
    "        return {'loss':loss}\n",
    "    def configure_optimizers(self,name) :\n",
    "         \n",
    "        self.lr_scheduler=torch.optim.lr_scheduler.MultiStepLR(self.Optimizer,milestones=[10,20,30,200],gamma=0.5)\n",
    "        return [self.Optimizer],[self.lr_scheduler]\n",
    "    def validation_step(self,batch,batch_idx, *args: Any, **kwargs: Any) -> STEP_OUTPUT | None:\n",
    "        x,y=batch\n",
    "        y=y.long()\n",
    "        x=x.to(torch.float32)\n",
    "        y_hat=self.Model(x)\n",
    "        loss=self.LossFunction(y_hat,y)\n",
    "        acc=accuracy(y_hat,y,task='multiclass',num_classes=3)\n",
    "        self.log(\"test_acc\", acc, on_step=False, on_epoch=True)\n",
    "        return {'loss':loss}\n",
    "\n",
    "        "
   ]
  }
 ],
 "metadata": {
  "language_info": {
   "name": "python"
  }
 },
 "nbformat": 4,
 "nbformat_minor": 2
}
