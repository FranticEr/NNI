{
 "cells": [
  {
   "cell_type": "markdown",
   "metadata": {},
   "source": [
    "# 流程设计"
   ]
  },
  {
   "cell_type": "markdown",
   "metadata": {},
   "source": [
    "## 流程分析\n",
    "1. 主要任务是分类问题：不同在于数据输入源，模型，训练超参数\n",
    "2. 抽象：\n",
    "   1. 数据输入源抽象：dataloader\n",
    "   2. 模型：model\n",
    "   3. 训练器：trainer\n",
    "   4. 超参数管理器\n",
    "3. 按照数据源分析种类：\n",
    "   - EEG\n",
    "     - EndToEnd\n",
    "       - Signal:CNN1D,RNN,MLP,CNN1D-RNN\n",
    "       - LEVEL\n",
    "       - KSS\n",
    "     - Fature\n",
    "       - Table:MLP,Tree,SVM\n",
    "       - LEVEL\n",
    "       - KSS\n",
    "   - Face\n",
    "     - EndToEND\n",
    "       - Image:CNN2D,I3D,双流\n",
    "       - LEVEL\n",
    "       - KSS\n",
    "     - Fature\n",
    "       - Table:MLP,Tree,SVM\n",
    "       - LEVEL\n",
    "       - KSS\n",
    "   - ECG\n",
    "     - EndToEnd\n",
    "       - Signal:CNN1D,RNN,MLP,CNN1D-RNN\n",
    "       - LEVEL\n",
    "       - KSS\n",
    "     - Fature\n",
    "       - Table:MLP,Tree,SVM\n",
    "       - LEVEL\n",
    "       - KSS\n",
    "   1. 总结上述内容最大的类别就是Feature类型的输入，手工提取特征成表\n",
    "   2. 剩下的就是EEG和ECG信号的E2E的模型，都是CNN1D,RNN,MLP,CNN1D-RNN模型\n",
    "   3. 最后就是面部特征提取使用图/视频流处理\n"
   ]
  },
  {
   "cell_type": "markdown",
   "metadata": {},
   "source": [
    "# FeatureTrainer"
   ]
  },
  {
   "cell_type": "code",
   "execution_count": null,
   "metadata": {
    "vscode": {
     "languageId": "plaintext"
    }
   },
   "outputs": [],
   "source": [
    "model=Model()\n",
    "dataloader=dataloader()\n",
    "paramers=Paramers\n",
    "Trainer.load_super_paramers(paramers)\n",
    "Trainer(model,dataloader)"
   ]
  },
  {
   "cell_type": "markdown",
   "metadata": {},
   "source": [
    "### 模型设计\n",
    "- 树模型使用autogluon\n",
    "- 神经网络模型\n",
    "- SVM"
   ]
  }
 ],
 "metadata": {
  "language_info": {
   "name": "python"
  }
 },
 "nbformat": 4,
 "nbformat_minor": 2
}
